{
  "nbformat": 4,
  "nbformat_minor": 0,
  "metadata": {
    "colab": {
      "name": "ds_week2_complexity.ipynb",
      "provenance": [],
      "collapsed_sections": []
    },
    "kernelspec": {
      "name": "python3",
      "display_name": "Python 3"
    }
  },
  "cells": [
    {
      "cell_type": "markdown",
      "metadata": {
        "id": "_aid-7mfICOK"
      },
      "source": [
        "# Runtime complexity by simulation"
      ]
    },
    {
      "cell_type": "markdown",
      "metadata": {
        "id": "K-K5YwtRzHtO"
      },
      "source": [
        "## Exercise\n",
        "Compare the runtime complexity (CPU compute time) of insertion sort with list.sort() in Python."
      ]
    },
    {
      "cell_type": "code",
      "metadata": {
        "colab": {
          "base_uri": "https://localhost:8080/"
        },
        "id": "MwCsBX6vzDU5",
        "outputId": "1cc93d58-0b7f-48f4-b3d6-659fb2984a00"
      },
      "source": [
        "import timeit\n",
        "import random\n",
        "\n",
        "def timeFunction(f,n,repeat=1):\n",
        "\treturn timeit.timeit(f.__name__+'('+str(n)+')',setup=\"from __main__ import \"+f.__name__,number=repeat)/repeat\n",
        "\n",
        "def insertion_sort(data_list):\n",
        "    # 1. Split data into two parts: sorted & unsorted\n",
        "    #    X | X X X X X X X\n",
        "    #    sorted | unsorted\n",
        "    # 2. While size of unsorted part is greater than zero锛?    #   a. let the target element be the first element in the unsorted part\n",
        "    #   b. find target\u0001s insertion point in the sorted part\n",
        "    #   c. make place at insertion point by shifting all larger elements\n",
        "    #   d. insert the target in its final, sorted position\n",
        "    pass\n",
        "\n",
        "def python_sort(data_list):\n",
        "    # Use list.sort()\n",
        "    # Python built in sort uses Tim-sort\n",
        "    pass\n",
        "\n",
        "if __name__ == '__main__':\n",
        "    data1 = []\n",
        "    data2 = []\n",
        "    for i in range(10000):\n",
        "        value = random.randint(0,1000)\n",
        "        data1.append(value)\n",
        "        data2.append(value)\n",
        "    print(\"Insertion sort 10000 elements:\",\n",
        "          '{:.6f}'.format(timeFunction(insertion_sort, data1)), \"seconds\")\n",
        "    print(\"Built in sort 10000 elements:\",\n",
        "          '{:.6f}'.format(timeFunction(python_sort, data2)), \"seconds\")\n",
        "          "
      ],
      "execution_count": null,
      "outputs": [
        {
          "output_type": "stream",
          "text": [
            "Insertion sort 10000 elements: 0.000103 seconds\n",
            "Built in sort 10000 elements: 0.000110 seconds\n"
          ],
          "name": "stdout"
        }
      ]
    },
    {
      "cell_type": "markdown",
      "metadata": {
        "id": "rQ7FJIx6zXF0"
      },
      "source": [
        "##Solution:"
      ]
    },
    {
      "cell_type": "code",
      "metadata": {
        "colab": {
          "base_uri": "https://localhost:8080/"
        },
        "id": "Jej8I2SDzYYl",
        "outputId": "66ad2b7a-ee15-472f-cc0c-fbbc13538c09"
      },
      "source": [
        "import timeit\n",
        "import random\n",
        "\n",
        "def timeFunction(f,n,repeat=1):\n",
        "\treturn timeit.timeit(f.__name__+'('+str(n)+')',setup=\"from __main__ import \"+f.__name__,number=repeat)/repeat\n",
        "\n",
        "def insertion_sort(data_list):\n",
        "    # 1. Split data into two parts: sorted & unsorted\n",
        "    #    X | X X X X X X X\n",
        "    #    sorted | unsorted\n",
        "    # 2. While size of unsorted part is greater than zero\n",
        "    #   a. let the target element be the first element in the unsorted part\n",
        "    #   b. find target\u0001s insertion point in the sorted part\n",
        "    #   c. make place at insertion point by shifting all larger elements\n",
        "    #   d. insert the target in its final, sorted position\n",
        "    # Let's start from the second element\n",
        "    for j in range(1, len(data_list)):\n",
        "      key = data_list[j]\n",
        "      i = j - 1\n",
        "      while i >= 0 and data_list[i] > key:\n",
        "        # shift element to the right\n",
        "        data_list[i+1] = data_list[i]\n",
        "        i -= 1\n",
        "      # found a place to put key\n",
        "      data_list[i+1] = key\n",
        " \n",
        "def python_sort(data_list):\n",
        "    # Use list.sort()\n",
        "    # Python built in sort uses Tim-sort\n",
        "    data_list.sort()\n",
        "\n",
        "if __name__ == '__main__':\n",
        "    data1 = []\n",
        "    data2 = []\n",
        "    for i in range(10000):\n",
        "        value = random.randint(0,1000)\n",
        "        data1.append(value)\n",
        "        data2.append(value)\n",
        "    print(\"Insertion sort 10000 elements:\",\n",
        "          '{:.6f}'.format(timeFunction(insertion_sort, data1)), \"seconds\")\n",
        "    print(\"Built in sort 10000 elements:\",\n",
        "          '{:.6f}'.format(timeFunction(python_sort, data2)), \"seconds\")"
      ],
      "execution_count": null,
      "outputs": [
        {
          "output_type": "stream",
          "text": [
            "Insertion sort 10000 elements: 3.957811 seconds\n",
            "Built in sort 10000 elements: 0.002619 seconds\n"
          ],
          "name": "stdout"
        }
      ]
    }
  ]
}