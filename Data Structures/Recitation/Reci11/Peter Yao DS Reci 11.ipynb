{
  "cells": [
    {
      "cell_type": "code",
      "execution_count": null,
      "metadata": {
        "colab": {
          "base_uri": "https://localhost:8080/"
        },
        "id": "9F6zkjmgBNKy",
        "outputId": "2116db58-42a3-40d0-ea4b-1dcbc967e75a"
      },
      "outputs": [
        {
          "name": "stdout",
          "output_type": "stream",
          "text": [
            "Tue Apr 19 13:57:13 UTC 2022\n"
          ]
        }
      ],
      "source": [
        "!date"
      ]
    },
    {
      "cell_type": "markdown",
      "metadata": {
        "id": "NehOU40TZkVa"
      },
      "source": [
        "**Please run the above line to refresh the date before your submission.**\n"
      ]
    },
    {
      "cell_type": "markdown",
      "metadata": {
        "id": "GRqkVgaNY9za"
      },
      "source": [
        "## CSCI-SHU 210 Data Structures"
      ]
    },
    {
      "cell_type": "markdown",
      "metadata": {
        "id": "FzN4xzEMY9zn"
      },
      "source": [
        "### Recitation 11 Heap/Priority Queue\n",
        "You should work on the tasks as written in the worksheet.\n",
        "\n",
        "* For students who have recitation on Wednesday, you should submit your solutions by **Apr 22th** Friday 11:59pm.\n",
        "\n",
        "* For students who have recitation on Thursday, you should submit your solutions by **Apr 23th** Saturday 11:59pm.\n",
        "\n",
        "* For students who have recitation on Friday, you should submit your solutions by **Apr 24th** Sunday 11:59pm.\n",
        "\n",
        "\n",
        "\n",
        "Name: Peter Yuncheng Yao 姚允成\n",
        "\n",
        "NetID: yy4108\n",
        "\n",
        "Please submit the following items to the Gradescope:\n",
        "\n",
        "\n",
        "*   Your Colab notebooklink (by clicking the Share button at the top-right corner of the Colab notebook, share to anyone)\n",
        "*   The printout of your run in Colab notebook in pdf format\n",
        "\n",
        "* No late submission is permitted. All solutions must be from your own work. Total points of the assignment is 100."
      ]
    },
    {
      "cell_type": "markdown",
      "metadata": {
        "id": "fjDgH4ya4dCl"
      },
      "source": [
        "#1. Heap Priority Queue\n",
        "This is the original min-heap. Modify it such that it becomes a max-heap. "
      ]
    },
    {
      "cell_type": "code",
      "execution_count": 15,
      "metadata": {
        "id": "TgqlbDam4cVL"
      },
      "outputs": [],
      "source": [
        "class HeapPriorityQueue:\n",
        "    \"\"\"A min-oriented priority queue implemented with a binary heap.\"\"\"\n",
        "\n",
        "    class _Item:\n",
        "        \"\"\"Lightweight composite to store priority queue items.\"\"\"\n",
        "        __slots__ = '_key', '_value'\n",
        "\n",
        "        def __init__(self, k, v):\n",
        "            self._key = k\n",
        "            self._value = v\n",
        "\n",
        "        def __lt__(self, other):\n",
        "            return self._key < other._key    # compare items based on their keys\n",
        "\n",
        "        def __repr__(self):\n",
        "            return '({0},{1})'.format(self._key, self._value)\n",
        "\n",
        "    #------------------------------ nonpublic behaviors ------------------------------\n",
        "    def _parent(self, j):\n",
        "        return (j-1) // 2\n",
        "\n",
        "    def _left(self, j):\n",
        "        return 2*j + 1\n",
        "    \n",
        "    def _right(self, j):\n",
        "        return 2*j + 2\n",
        "\n",
        "    def _has_left(self, j):\n",
        "        return self._left(j) < len(self._data)     # index beyond end of list?\n",
        "    \n",
        "    def _has_right(self, j):\n",
        "        return self._right(j) < len(self._data)    # index beyond end of list?\n",
        "    \n",
        "    def _swap(self, i, j):\n",
        "        \"\"\"Swap the elements at indices i and j of array.\"\"\"\n",
        "        self._data[i], self._data[j] = self._data[j], self._data[i]\n",
        "\n",
        "    def _upheap(self, j):\n",
        "        parent = self._parent(j)\n",
        "        if j > 0 and self._data[j] > self._data[parent]:\n",
        "            self._swap(j, parent)\n",
        "            self._upheap(parent)             # recur at position of parent\n",
        "    \n",
        "    def _downheap(self, j):\n",
        "        if self._has_left(j):\n",
        "            left = self._left(j)\n",
        "            big_child = left               # although right may be smaller\n",
        "            if self._has_right(j):\n",
        "                right = self._right(j)\n",
        "                if self._data[right] > self._data[left]:\n",
        "                    big_child = right\n",
        "            if self._data[big_child] > self._data[j]:\n",
        "                self._swap(j, big_child)\n",
        "                self._downheap(big_child)    # recur at position of small child\n",
        "\n",
        "    # ## Bottom_Up Heap Construction ##\n",
        "    def _heapify(self):\n",
        "        start = self._parent(len(self)-1)\n",
        "        for j in range(start, -1, -1):\n",
        "            self._downheap(j)\n",
        "\n",
        "    #------------------------------ public behaviors ------------------------------\n",
        "    # def __init__(self):\n",
        "    #     \"\"\"Create a new empty Priority Queue.\"\"\"\n",
        "    #     self._data = []\n",
        "\n",
        "    # This part is only for testing _heapify function ##\n",
        "    def __init__(self, contents=[]):\n",
        "        \"\"\"Create a new empty Priority Queue.\"\"\"\n",
        "        self._data = [self._Item(k,v) for k,v in contents]\n",
        "        if len(self._data)>1:\n",
        "            self._heapify()\n",
        "\n",
        "    def __len__(self):\n",
        "        \"\"\"Return the number of items in the priority queue.\"\"\"\n",
        "        return len(self._data)\n",
        "\n",
        "    def is_empty(self):\n",
        "        return len(self) == 0\n",
        "\n",
        "    def add(self, key, value):\n",
        "        \"\"\"Add a key-value pair to the priority queue.\"\"\"\n",
        "        self._data.append(self._Item(key, value))\n",
        "        self._upheap(len(self._data) - 1)            # upheap newly added position\n",
        "\n",
        "    def min(self): # max(self) for the task\n",
        "        \"\"\"Return but do not remove (k,v) tuple with minimum key.\n",
        "\n",
        "        Raise Empty exception if empty.\n",
        "        \"\"\"\n",
        "        if self.is_empty():\n",
        "            raise Exception('Priority queue is empty.')\n",
        "        item = self._data[0]\n",
        "        return (item._key, item._value)\n",
        "\n",
        "    def remove_min(self): # remove_max(self) for the task\n",
        "        \"\"\"Remove and return (k,v) tuple with minimum key.\n",
        "\n",
        "        Raise Empty exception if empty.\n",
        "        \"\"\"\n",
        "        if self.is_empty():\n",
        "            raise Exception('Priority queue is empty.')\n",
        "        self._swap(0, len(self._data) - 1)           # put minimum item at the end\n",
        "        item = self._data.pop()                      # and remove it from the list;\n",
        "        self._downheap(0)                            # then fix new root\n",
        "        return (item._key, item._value)\n"
      ]
    },
    {
      "cell_type": "code",
      "execution_count": 13,
      "metadata": {
        "colab": {
          "base_uri": "https://localhost:8080/"
        },
        "id": "Zjth4LzV4wHd",
        "outputId": "f8311691-e89e-4915-9485-5953ff9b04d1"
      },
      "outputs": [
        {
          "name": "stdout",
          "output_type": "stream",
          "text": [
            "[(19,happy_final!), (12,happy_final!), (12,happy_final!), (12,happy_final!), (12,happy_final!), (12,happy_final!), (1,happy_final!), (6,happy_final!), (7,happy_final!), (12,happy_final!)]\n",
            "Removing from heap: 19\n",
            "Removing from heap: 12\n",
            "Removing from heap: 12\n",
            "Removing from heap: 12\n",
            "Removing from heap: 12\n",
            "Removing from heap: 12\n",
            "Removing from heap: 12\n",
            "Removing from heap: 7\n",
            "Removing from heap: 6\n",
            "Removing from heap: 1\n"
          ]
        }
      ],
      "source": [
        "heap = HeapPriorityQueue()\n",
        "import random\n",
        "for i in range(10):\n",
        "  heap.add(random.randint(0, 20), \"happy_final!\")\n",
        "print(heap._data)\n",
        "\n",
        "for i in range(10):\n",
        "  print(\"Removing from heap:\", heap.remove_min()[0])"
      ]
    },
    {
      "cell_type": "code",
      "execution_count": 16,
      "metadata": {
        "colab": {
          "base_uri": "https://localhost:8080/",
          "height": 227
        },
        "id": "D_QxgAqT40aI",
        "outputId": "11611344-0c93-45ea-8b27-f582b910f70f"
      },
      "outputs": [
        {
          "name": "stdout",
          "output_type": "stream",
          "text": [
            "[(16,Beijing), (9,Hangkong), (15,Shenzhen), (7,Guangzhou), (8,Chengdu), (11,Chongqing), (2,Suzhou)]\n"
          ]
        }
      ],
      "source": [
        "## Test _heapify ##\n",
        "contents=[(16,\"Beijing\"),(9,\"Hangkong\"),(15,\"Shenzhen\"),(7,\"Guangzhou\"),\n",
        "          (8,\"Chengdu\"),(11,\"Chongqing\"),(2,\"Suzhou\")]\n",
        "heap = HeapPriorityQueue(contents)\n",
        "print(heap._data)"
      ]
    }
  ],
  "metadata": {
    "colab": {
      "collapsed_sections": [],
      "name": "Recitation_11_Heap_Priority_Queue.",
      "provenance": []
    },
    "kernelspec": {
      "display_name": "Python 3",
      "name": "python3"
    },
    "language_info": {
      "codemirror_mode": {
        "name": "ipython",
        "version": 3
      },
      "file_extension": ".py",
      "mimetype": "text/x-python",
      "name": "python",
      "nbconvert_exporter": "python",
      "pygments_lexer": "ipython3",
      "version": "3.8.8"
    }
  },
  "nbformat": 4,
  "nbformat_minor": 0
}
