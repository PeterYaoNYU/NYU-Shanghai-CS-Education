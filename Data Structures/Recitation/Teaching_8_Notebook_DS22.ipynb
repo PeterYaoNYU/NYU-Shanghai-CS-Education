{
  "nbformat": 4,
  "nbformat_minor": 0,
  "metadata": {
    "kernelspec": {
      "display_name": "Python 3",
      "language": "python",
      "name": "python3"
    },
    "language_info": {
      "codemirror_mode": {
        "name": "ipython",
        "version": 3
      },
      "file_extension": ".py",
      "mimetype": "text/x-python",
      "name": "python",
      "nbconvert_exporter": "python",
      "pygments_lexer": "ipython3",
      "version": "3.8.3"
    },
    "colab": {
      "name": "Teaching_8_Notebook_solutions_DS22",
      "provenance": [],
      "collapsed_sections": []
    }
  },
  "cells": [
    {
      "cell_type": "markdown",
      "metadata": {
        "id": "XGipkkn5JyjF"
      },
      "source": [
        "## CSCI-SHU 210 Data Structures"
      ]
    },
    {
      "cell_type": "markdown",
      "metadata": {
        "id": "n28M_zEDJyjO"
      },
      "source": [
        "### Recitation 8 Linked Lists\n",
        "\n",
        "March April 2022\n",
        "\n",
        "Yisong Wang"
      ]
    },
    {
      "cell_type": "markdown",
      "metadata": {
        "id": "zIPKH08PgtFE"
      },
      "source": [
        "# 1. Single Linked List\n",
        "## Implement a SLL: \n",
        "- What methods do you need? \n",
        "- basic attributes\n",
        "- basic methods"
      ]
    },
    {
      "cell_type": "code",
      "metadata": {
        "id": "Gu-355Hxg05b"
      },
      "source": [
        "class Empty(Exception):\n",
        "    pass\n",
        "\n",
        "class Node:\n",
        "    __slots__ = '_element', '_next'\n",
        "\n",
        "    def __init__(self, element, next):\n",
        "        self._element = element # Polyterm(1,3), x^3\n",
        "        self._next = next  # should be linked to a Node"
      ],
      "execution_count": null,
      "outputs": []
    },
    {
      "cell_type": "code",
      "metadata": {
        "id": "CbOE2g1FhAku"
      },
      "source": [
        "class SinglyLinkedList:\n",
        "    def __init__(self):\n",
        "        self._head = None\n",
        "        self._tail = None\n",
        "        self._size = 0\n",
        "      \n",
        "    def __len__(self):\n",
        "        return self._size\n",
        "\n",
        "    def is_empty(self):\n",
        "        return self._size == 0\n",
        "    \n",
        "    def add_first(self,e):\n",
        "        new_node = Node(e,self._head)\n",
        "        # The new node, which will point to the original head\n",
        "        if self.is_empty():\n",
        "            self._tail = new_node\n",
        "        \n",
        "        self._head = new_node\n",
        "        self._size += 1\n",
        "        return new_node\n",
        "\n",
        "    def del_first(self):\n",
        "        if self.is_empty():\n",
        "            raise Empty('Stack is empty')\n",
        "        answer = self._head._element\n",
        "\n",
        "        self._head = self._head._next\n",
        "        self._size -= 1\n",
        "\n",
        "        if self.is_empty():\n",
        "            self._tail = None\n",
        "        \n",
        "        return answer\n",
        "\n",
        "    def add_last(self, e):\n",
        "        new_node = Node(e,None)\n",
        "        if self.is_empty():\n",
        "            self._head = new_node\n",
        "        else:\n",
        "            self._tail._next = new_node\n",
        "        self._tail = new_node\n",
        "        self._size += 1\n",
        "        return new_node\n",
        "    \n",
        "    def __getitem__(self, k):\n",
        "        if k < 0:\n",
        "            k += self._size\n",
        "        if not -1 < k < self._size:\n",
        "            raise IndexError(\"Either empty list, or poor index\")\n",
        "        target = self._head\n",
        "        for i in range(k):\n",
        "            target = target._next\n",
        "        return target._element\n",
        "\n",
        "    def unordered_search(self,target):\n",
        "        node = self._head\n",
        "        while node is not None:\n",
        "          if node._element == target:\n",
        "            return True\n",
        "          node = node._next\n",
        "        return False\n",
        "        # for node_elem in self:\n",
        "        #   if node_elem == target:\n",
        "        #     return True\n",
        "        # return False\n",
        "\n",
        "### Write the following later\n",
        "    def del_and_reconnect(self, before_node):\n",
        "        target = before_node._next._element\n",
        "        before_node._next = before_node._next._next\n",
        "        # print(before_node._element, before_node._next)\n",
        "        self._size -= 1\n",
        "        # Special case: when the target node is the actual tail node \n",
        "        if before_node._next == None:\n",
        "          self._tail = before_node\n",
        "        return target\n",
        "    \n",
        "    def insert_after(self, e, before_node):\n",
        "        if self._tail == before_node:\n",
        "          return self.add_last(e)\n",
        "        new_node = Node(e,before_node._next)\n",
        "        # The new node, which will point to the original head\n",
        "        before_node._next = new_node\n",
        "        self._size += 1\n",
        "        return new_node\n",
        "    \n",
        "    def __str__(self):\n",
        "        ret = []\n",
        "        next_node = self._head\n",
        "        while next_node:\n",
        "            ret.append(str(next_node._element))\n",
        "            next_node = next_node._next\n",
        "        return str(ret)"
      ],
      "execution_count": null,
      "outputs": []
    },
    {
      "cell_type": "code",
      "metadata": {
        "id": "Xuz-qJ4rjYcd",
        "colab": {
          "base_uri": "https://localhost:8080/"
        },
        "outputId": "f87d50ea-72c3-47f2-f4bc-4769182b6ff0"
      },
      "source": [
        "a = SinglyLinkedList()\n",
        "a.add_first(1)\n",
        "a.add_first(2)\n",
        "for i in range(3,10):\n",
        "    a.add_first(i*(-1)**(i%2))\n",
        "print(a)\n",
        "print(\"length is\", len(a))\n",
        "print(a[3])\n",
        "a.add_last(200)\n",
        "print(a.unordered_search(200))\n",
        "\n",
        "c = a._head._next\n",
        "a.del_and_reconnect(c)\n",
        "print(a)\n",
        "a.insert_after(100,c)\n",
        "print(a)"
      ],
      "execution_count": null,
      "outputs": [
        {
          "output_type": "stream",
          "name": "stdout",
          "text": [
            "['-9', '8', '-7', '6', '-5', '4', '-3', '2', '1']\n",
            "length is 9\n",
            "6\n",
            "True\n",
            "['-9', '8', '6', '-5', '4', '-3', '2', '1', '200']\n",
            "['-9', '8', '100', '6', '-5', '4', '-3', '2', '1', '200']\n"
          ]
        }
      ]
    },
    {
      "cell_type": "markdown",
      "metadata": {
        "id": "bSLyaTankoa0"
      },
      "source": [
        "# 2. Using SLL: Polynomials\n",
        "**Problem**: Use SLL as a basic structure, to create a basic polynomial storage\n",
        "Think about it:\n",
        "- where to use SLL?\n",
        "- how to store elements? What is the node?\n",
        "- Could we evaluate?\n",
        "- How to add polynomials"
      ]
    },
    {
      "cell_type": "code",
      "metadata": {
        "id": "DLeDUBIhktgv"
      },
      "source": [
        "class Polyterm:\n",
        "    __slots__ = '_coef', '_pow'\n",
        "\n",
        "    def __init__(self, coef, power):\n",
        "        self._coef = coef\n",
        "        self._pow = power\n",
        "\n",
        "    def evaluate(self,x):\n",
        "        return self._coef*(x**self._pow)\n",
        "\n",
        "    def __lt__(self, other):\n",
        "        return self._pow < other._pow\n",
        "\n",
        "    def __gt__(self, other):\n",
        "        return self._pow > other._pow\n",
        "\n",
        "    def __eq__(self, other):\n",
        "        return self._pow == other ._pow\n",
        "\n",
        "    def is_valid(self):\n",
        "        if self._coef == 0:\n",
        "            print(\"zero coefficient\")\n",
        "            return None\n",
        "        return self\n",
        "\n",
        "    def collect(self, other):  # __iadd__(self, other)\n",
        "        assert self == other\n",
        "        self._coef += other._coef\n",
        "\n",
        "    def __str__(self):\n",
        "        return str(self._coef) if self._pow == 0 else ((str(self._coef) if self._coef != 1 else \"\" ) + \"x\" + (\"^\"+str(self._pow) if self._pow != 1 else \"\"))"
      ],
      "execution_count": null,
      "outputs": []
    },
    {
      "cell_type": "code",
      "metadata": {
        "id": "67rDrXWBk7L_",
        "colab": {
          "base_uri": "https://localhost:8080/"
        },
        "outputId": "3694fe3d-a1c4-4f68-b268-664939bd340e"
      },
      "source": [
        "a = Polyterm(2,5)\n",
        "b = Polyterm(-1,5)\n",
        "a.collect(b)\n",
        "print(a.is_valid())"
      ],
      "execution_count": null,
      "outputs": [
        {
          "output_type": "stream",
          "name": "stdout",
          "text": [
            "x^5\n"
          ]
        }
      ]
    },
    {
      "cell_type": "code",
      "metadata": {
        "id": "n9bPK2zXlYyE"
      },
      "source": [
        "class Polynomial:\n",
        "    def __init__(self):\n",
        "        self._data = SinglyLinkedList()\n",
        "        # Node.collect = lambda x, y: x._element.collect(y)\n",
        "    \n",
        "    def __len__(self):\n",
        "        return len(self._data)\n",
        "\n",
        "    def is_empty(self):\n",
        "        return self._data.is_empty()\n",
        "    \n",
        "    def add_first(self, new_term):\n",
        "        return self._data.add_first(new_term) if new_term.is_valid() else None\n",
        "\n",
        "    def add_last(self,new_term):\n",
        "        return self._data.add_last(new_term) if new_term.is_valid() else None\n",
        "\n",
        "    def extend(self, other):\n",
        "        if len(other)==0:\n",
        "            return self\n",
        "        walk = other._data._head\n",
        "        while walk:\n",
        "            self.add_last(walk._element)\n",
        "            walk = walk._next\n",
        "        return self\n",
        " \n",
        "    def insert_term(self, new_term):\n",
        "        if not new_term.is_valid():\n",
        "            return None\n",
        "\n",
        "        walk = self._data._head\n",
        "        if self.is_empty()  or walk._element > new_term:\n",
        "            return self.add_first(new_term)\n",
        "        if walk._element == new_term:\n",
        "            walk._element.collect(new_term)\n",
        "            return self._data.del_first() if not walk._element.is_valid() else None\n",
        "\n",
        "        while walk._next and walk._next._element < new_term :\n",
        "            walk = walk._next\n",
        "\n",
        "        if not walk._next:\n",
        "            return self.add_last(new_term)\n",
        "\n",
        "        if walk._next._element == new_term:\n",
        "            walk._next._element.collect(new_term)\n",
        "            return self._data.del_and_reconnect(walk) if not walk._next._element.is_valid() else None\n",
        "\n",
        "        return self._data.insert_after(new_term,walk)\n",
        "\n",
        "    def evaluate(self, x):\n",
        "        ret = 0\n",
        "        for term in self._data:\n",
        "            ret += term.evaluate(x)\n",
        "        return ret\n",
        "\n",
        "    def __add__(self, other):\n",
        "        new_poly = Polynomial()\n",
        "        if len(other) == 0:\n",
        "            return new_poly.extend(self)\n",
        "        if len(self) == 0:\n",
        "            return new_poly.extend(other)\n",
        "\n",
        "        base = self._data._head\n",
        "        target = other._data._head\n",
        "        while base and target:\n",
        "            if target._element > base._element:\n",
        "                new_poly.add_last(base._element)\n",
        "                base = base._next\n",
        "            elif target._element < base._element:\n",
        "                new_poly.add_last(target._element)\n",
        "                target = target._next\n",
        "            else: \n",
        "                temp_term = Polyterm(base._element._coef, base._element._pow)\n",
        "                temp_term.collect(target._element)\n",
        "                # print(temp_term)\n",
        "                if temp_term.is_valid():\n",
        "                  new_poly.add_last(temp_term)\n",
        "\n",
        "                base = base._next\n",
        "                target = target._next\n",
        "        while base:\n",
        "            new_poly.add_last(base._element)\n",
        "            base = base._next\n",
        "        while target:\n",
        "            new_poly.add_last(target._element)\n",
        "            target = target._next\n",
        "        return new_poly\n",
        "        \n",
        "    def __iadd__(self, other):\n",
        "        base = self._data._head\n",
        "        target = other._data._head\n",
        "        while target._next:\n",
        "          self.insert_term(Polyterm(target._element._coef, target._element._pow))\n",
        "          target = target._next\n",
        "          # print(self)\n",
        "          # print(target._element if target else None)\n",
        "        self.add_last(target._element)\n",
        "        # print(target._element)\n",
        "        # print(self)\n",
        "        return self\n",
        "\n",
        "    def __str__(self):\n",
        "        return str(self._data)"
      ],
      "execution_count": null,
      "outputs": []
    },
    {
      "cell_type": "code",
      "source": [
        "a = Polynomial()\n",
        "a.add_first(Polyterm(1,0))\n",
        "a.add_last(Polyterm(1,10))\n",
        "for i in range(2,14,2):\n",
        "    a.insert_term(Polyterm(2,i))\n",
        "print(a)\n",
        "a.insert_term(Polyterm(-2,13))\n",
        "print(a)\n",
        "a.insert_term(Polyterm(2,13))\n",
        "print(a)\n",
        "\n",
        "a.insert_term(Polyterm(2,13))\n",
        "print(a)"
      ],
      "metadata": {
        "colab": {
          "base_uri": "https://localhost:8080/"
        },
        "id": "okRZh_aPdP2o",
        "outputId": "38523aa1-ee4a-46d7-cd63-39f1eaa3a259"
      },
      "execution_count": null,
      "outputs": [
        {
          "output_type": "stream",
          "name": "stdout",
          "text": [
            "['1', '2x^2', '2x^4', '2x^6', '2x^8', '3x^10', '2x^12']\n",
            "['1', '2x^2', '2x^4', '2x^6', '2x^8', '3x^10', '2x^12', '-2x^13']\n",
            "zero coefficient\n",
            "['1', '2x^2', '2x^4', '2x^6', '2x^8', '3x^10', '2x^12']\n",
            "['1', '2x^2', '2x^4', '2x^6', '2x^8', '3x^10', '2x^12', '2x^13']\n"
          ]
        }
      ]
    },
    {
      "cell_type": "code",
      "metadata": {
        "id": "S0TYjogCmDlu",
        "colab": {
          "base_uri": "https://localhost:8080/"
        },
        "outputId": "1b4a63ba-4b44-4268-f8a7-06daccbd0423"
      },
      "source": [
        "a = Polynomial()\n",
        "a.add_first(Polyterm(1,0))\n",
        "a.add_last(Polyterm(1,10))\n",
        "for i in range(2,14,2):\n",
        "    a.insert_term(Polyterm(2,i))\n",
        "print(a)\n",
        "print(a.evaluate(1))\n",
        "\n",
        "# a.insert_term(Polyterm(-2,4))\n",
        "# print(a)\n",
        "\n",
        "b = Polynomial()\n",
        "b.extend(a)\n",
        "print(b)\n",
        "\n",
        "c = Polynomial()\n",
        "for i in range(2,14):\n",
        "    c.insert_term(Polyterm(-2,i))\n",
        "print(c)\n",
        "\n",
        "d = a + c\n",
        "print('now, d=', d)\n",
        "print('a is the same', a)\n",
        "print('c is the same', c)\n",
        "\n",
        "a += c\n",
        "print('now, a=', a)\n",
        "print('c is the same', c)"
      ],
      "execution_count": null,
      "outputs": [
        {
          "output_type": "stream",
          "name": "stdout",
          "text": [
            "['1', '2x^2', '2x^4', '2x^6', '2x^8', '3x^10', '2x^12']\n",
            "14\n",
            "['1', '2x^2', '2x^4', '2x^6', '2x^8', '3x^10', '2x^12']\n",
            "['-2x^2', '-2x^3', '-2x^4', '-2x^5', '-2x^6', '-2x^7', '-2x^8', '-2x^9', '-2x^10', '-2x^11', '-2x^12', '-2x^13']\n",
            "zero coefficient\n",
            "zero coefficient\n",
            "zero coefficient\n",
            "zero coefficient\n",
            "zero coefficient\n",
            "now, d= ['1', '-2x^3', '-2x^5', '-2x^7', '-2x^9', 'x^10', '-2x^11', '-2x^13']\n",
            "a is the same ['1', '2x^2', '2x^4', '2x^6', '2x^8', '3x^10', '2x^12']\n",
            "c is the same ['-2x^2', '-2x^3', '-2x^4', '-2x^5', '-2x^6', '-2x^7', '-2x^8', '-2x^9', '-2x^10', '-2x^11', '-2x^12', '-2x^13']\n",
            "zero coefficient\n",
            "zero coefficient\n",
            "zero coefficient\n",
            "zero coefficient\n",
            "zero coefficient\n",
            "now, a= ['1', '-2x^3', '-2x^5', '-2x^7', '-2x^9', 'x^10', '-2x^11', '-2x^13']\n",
            "c is the same ['-2x^2', '-2x^3', '-2x^4', '-2x^5', '-2x^6', '-2x^7', '-2x^8', '-2x^9', '-2x^10', '-2x^11', '-2x^12', '-2x^13']\n"
          ]
        }
      ]
    },
    {
      "cell_type": "markdown",
      "metadata": {
        "id": "-BMW_aW4sgi8"
      },
      "source": [
        "# 3. Doubly Linked List\n",
        "\n",
        "- What methods do you need? \n",
        "- basic attributes\n",
        "- basic methods"
      ]
    },
    {
      "cell_type": "code",
      "metadata": {
        "id": "R6V-FQQUsmTO"
      },
      "source": [
        "class DoublyLinkedList:\n",
        "    class _Node:\n",
        "        __slots__ = '_element', '_prev','_next'\n",
        "\n",
        "        def __init__(self, element, prev, next):\n",
        "            self._element = element\n",
        "            self._prev = prev\n",
        "            self._next = next  # should be linked to a Node\n",
        "\n",
        "        def get_succ(self):\n",
        "            return self._next\n",
        "\n",
        "        def get_pred(self):\n",
        "            return self._prev\n",
        "\n",
        "        def get_value(self):\n",
        "            return self._element\n",
        "\n",
        "    def __init__(self):\n",
        "        self._head = self._Node(None, None, None)  # the sentinel\n",
        "        self._tail = self._Node(None, self._head, None) # these two are not equal  the sentinel\n",
        "        self._head._next = self._tail\n",
        "        self._size = 0\n",
        "\n",
        "    def __len__(self):\n",
        "        return self._size\n",
        "\n",
        "    def is_empty(self):\n",
        "        return self._size == 0\n",
        "\n",
        "    def first(self): \n",
        "        return self._head._next\n",
        "\n",
        "    def last(self):\n",
        "        return self._tail._prev\n",
        "\n",
        "    def insert_between(self, e, pred, succ):\n",
        "        new_node = self._Node(e, pred, succ)\n",
        "        pred._next = new_node\n",
        "        succ._prev = new_node\n",
        "        self._size += 1\n",
        "        return new_node\n",
        "\n",
        "    def delete_node(self, target):\n",
        "        target._prev._next = target._next\n",
        "        target._next._prev = target._prev\n",
        "        self._size -= 1\n",
        "        answer = target._element\n",
        "        target._prev = target._next = target._element = None\n",
        "        return answer\n",
        "\n",
        "    def add_first(self,e):\n",
        "        return self.insert_between(e,self._head,self.first())\n",
        "\n",
        "    def add_last(self,e):\n",
        "        return self.insert_between(e,self.last(), self._tail)\n",
        "\n",
        "    def del_first(self):\n",
        "        if self.is_empty():\n",
        "            raise Empty(\"DLL is empty\")\n",
        "        return self.delete_node(self.first())\n",
        "\n",
        "    def del_last(self):\n",
        "        if self.is_empty():\n",
        "            raise Empty(\"DLL is empty\")\n",
        "        return self.delete_node(self.last())\n",
        "\n",
        "    def search_node(self,e):\n",
        "        walk = self.first()\n",
        "        # Check the first condition before checking the second; i.e, the second would not raise error if the first is invalid\n",
        "        while walk != self._tail and walk.get_value() != e:\n",
        "            walk = walk.get_succ()\n",
        "        if walk == self._tail:\n",
        "            return None # False\n",
        "        return walk # True\n",
        "\n",
        "    def __str__(self):\n",
        "        ret = [\"head=\"]\n",
        "        next_node = self.first()\n",
        "        while next_node._next:\n",
        "            ret.append(str(next_node._element)+\"=\")\n",
        "            next_node = next_node._next\n",
        "        ret.append(\"tail\")\n",
        "        return ''.join(ret)"
      ],
      "execution_count": null,
      "outputs": []
    },
    {
      "cell_type": "code",
      "metadata": {
        "id": "5T5JpvTstgFM",
        "colab": {
          "base_uri": "https://localhost:8080/"
        },
        "outputId": "95aa74d9-ec64-4533-b8e6-4d910ac018ed"
      },
      "source": [
        "a = DoublyLinkedList()\n",
        "for i in range(5):\n",
        "    a.add_first(i)\n",
        "    a.add_last(9-i)\n",
        "a.insert_between(10, a.first()._next, a.first()._next._next)\n",
        "print(a)\n"
      ],
      "execution_count": null,
      "outputs": [
        {
          "output_type": "stream",
          "name": "stdout",
          "text": [
            "head=4=3=10=2=1=0=9=8=7=6=5=tail\n"
          ]
        }
      ]
    },
    {
      "cell_type": "markdown",
      "metadata": {
        "id": "RMLFul1SuVe-"
      },
      "source": [
        "# 4. Using DLL\n",
        "**Problem** Do insertion sort on DLL\n",
        "- recall how we do in list\n",
        "- what behaviours do we need at minimum? Why DLL not SLL\n",
        "- How to 'destroy the links' and 'reconnect'"
      ]
    },
    {
      "cell_type": "code",
      "metadata": {
        "id": "k627aJpwuVAO"
      },
      "source": [
        "def insertion_sort(DLL):\n",
        "    if len(DLL)>1:\n",
        "        marker = DLL.first()\n",
        "        while marker != DLL.last():\n",
        "            pivot = marker.get_succ()\n",
        "            value = pivot.get_value()\n",
        "            if value > marker.get_value():\n",
        "                marker = pivot\n",
        "            else:\n",
        "                walk = marker\n",
        "                while walk != DLL.first() and walk.get_pred().get_value()>value:\n",
        "                    walk = walk.get_pred()\n",
        "                DLL.delete_node(pivot)\n",
        "                DLL.insert_between(value, walk.get_pred(), walk)"
      ],
      "execution_count": null,
      "outputs": []
    },
    {
      "cell_type": "code",
      "metadata": {
        "id": "PzEfWA6vvMU_",
        "colab": {
          "base_uri": "https://localhost:8080/"
        },
        "outputId": "276dfd68-dcc5-4927-c04a-a2021eb0ce5d"
      },
      "source": [
        "insertion_sort(a)\n",
        "print(a)"
      ],
      "execution_count": null,
      "outputs": [
        {
          "output_type": "stream",
          "name": "stdout",
          "text": [
            "head=0=1=2=3=4=5=6=7=8=9=10=tail\n"
          ]
        }
      ]
    },
    {
      "cell_type": "markdown",
      "metadata": {
        "id": "wCg2ZWS4Twfw"
      },
      "source": [
        "# 5. Using DLL\n",
        "Suppose you have a favourite list: store webpages that you visit most often.\n",
        "- store the element in the order of visiting freqeuncy\n",
        "- implement using DLL: why DLL?\n",
        "- access a webpage---what is a webpage Node?"
      ]
    },
    {
      "cell_type": "code",
      "metadata": {
        "id": "x4OqzKWJTv6D"
      },
      "source": [
        "class Fav_item:\n",
        "    __slots__ = '_value','_count'\n",
        "\n",
        "    def __init__(self, e):\n",
        "        self._value = e\n",
        "        self._count = 0\n",
        "\n",
        "    def __str__(self):\n",
        "        return str((self._value, self._count))"
      ],
      "execution_count": null,
      "outputs": []
    },
    {
      "cell_type": "code",
      "metadata": {
        "id": "dP4KSGU0T6cX"
      },
      "source": [
        "class FavDLL:\n",
        "    def __init__(self):\n",
        "        self._data = DoublyLinkedList()\n",
        "        DoublyLinkedList._Node.get_value = lambda x: x._element._value\n",
        "\n",
        "    def __len__(self):\n",
        "        return len(self._data)\n",
        "\n",
        "    def is_empty(self):\n",
        "        return len(self._data) == 0\n",
        "\n",
        "    # Locate the position instance of an element\n",
        "    def _find_position(self, e):\n",
        "        # change the method get_value() this will help the search method\n",
        "        return self._data.search_node(e)\n",
        "   \n",
        "    def access(self,e):\n",
        "        node_new = self._find_position(e)\n",
        "        if not node_new:\n",
        "            node_new = self._data.add_last(Fav_item(e))\n",
        "        node_new._element._count += 1\n",
        "        self._move_up(node_new)\n",
        "\n",
        "    def _move_up(self, actual_node):\n",
        "        if actual_node != self._data.first():\n",
        "            cnt = actual_node._element._count\n",
        "            walk = actual_node._prev\n",
        "            if cnt > walk._element._count:\n",
        "                while (walk != self._data.first()) and cnt > walk._prev._element._count:\n",
        "                    walk = walk._prev\n",
        "                self._data.insert_between(self._data.delete_node(actual_node), walk._prev, walk)\n",
        " \n",
        "    def remove(self, e):\n",
        "        node_e = self._find_position(e)\n",
        "        if node_e:\n",
        "            return self._data.delete_node(node_e)\n",
        "        return None\n",
        "\n",
        "    def top(self, k):\n",
        "        if not 1 <= k <= len(self):\n",
        "            raise ValueError('Illegal value for k')\n",
        "        walk = self._data.first()\n",
        "        # print(walk)\n",
        "        for j in range(k):\n",
        "            yield walk.get_value()\n",
        "            walk = walk._next\n",
        "\n",
        "    def __str__(self):\n",
        "        return str(self._data)"
      ],
      "execution_count": null,
      "outputs": []
    },
    {
      "cell_type": "code",
      "metadata": {
        "id": "7TsJbXT0URwi",
        "colab": {
          "base_uri": "https://localhost:8080/"
        },
        "outputId": "bc41acda-dd50-41a8-babc-2121aa784762"
      },
      "source": [
        "a = FavDLL()\n",
        "a._data.add_last(Fav_item('b'))\n",
        "\n",
        "a._data.first()._element._count+=1\n",
        "print(a._data.first()._element)\n",
        "\n",
        "for i in range(10):\n",
        "    a.access('d')\n",
        "    a.access('e')\n",
        "    if i % 2 == 0:\n",
        "        a.access('c')\n",
        "a.access('d')\n",
        "a.access('f')\n",
        "a.access('g')\n",
        "print(a)\n",
        "a.remove('b')\n",
        "print(a)\n",
        "for i in a.top(2):\n",
        "    print(i)"
      ],
      "execution_count": null,
      "outputs": [
        {
          "output_type": "stream",
          "name": "stdout",
          "text": [
            "('b', 1)\n",
            "head=('d', 11)=('e', 10)=('c', 5)=('b', 1)=('f', 1)=('g', 1)=tail\n",
            "head=('d', 11)=('e', 10)=('c', 5)=('f', 1)=('g', 1)=tail\n",
            "d\n",
            "e\n"
          ]
        }
      ]
    }
  ]
}