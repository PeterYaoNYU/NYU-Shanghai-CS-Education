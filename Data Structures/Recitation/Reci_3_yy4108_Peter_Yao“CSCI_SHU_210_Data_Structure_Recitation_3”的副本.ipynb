{
  "cells": [
    {
      "cell_type": "code",
      "execution_count": 67,
      "metadata": {
        "colab": {
          "base_uri": "https://localhost:8080/",
          "height": 0
        },
        "id": "pUsmcISSnlxg",
        "outputId": "03ff7fa3-48e6-418d-9939-040f1e97833d"
      },
      "outputs": [
        {
          "output_type": "stream",
          "name": "stdout",
          "text": [
            "Fri Feb 25 05:37:04 UTC 2022\n"
          ]
        }
      ],
      "source": [
        "!date"
      ]
    },
    {
      "cell_type": "markdown",
      "metadata": {
        "id": "LmiOdGcPnopV"
      },
      "source": [
        "**Please run the above line to refresh the date before your submission.**"
      ]
    },
    {
      "cell_type": "markdown",
      "metadata": {
        "id": "50TY97QJnO0G"
      },
      "source": [
        "## CSCI-SHU 210 Data Structures"
      ]
    },
    {
      "cell_type": "markdown",
      "metadata": {
        "id": "8Sy4IXLSnO0S"
      },
      "source": [
        "### Recitation 3 Recursion"
      ]
    },
    {
      "cell_type": "markdown",
      "metadata": {
        "id": "j-SO5B4dnO0T"
      },
      "source": [
        "#### You\thave\ta\tseries\tof\ttasks\tin\tfront\tof\tyou.\tComplete\tthem!\tEveryone\tshould\tcode\ton\ttheir own\tcomputer,\tbut\tyou\tare\tencouraged\tto\ttalk\tto\tothers,\tand\tseek\thelp\tfrom\teach\tother\tand from\tthe\tTA/LA.\n",
        "Important:\n",
        "1. Analyzing the\toutput for\trecursive\tprograms;\n",
        "2. Determining\tthe\tbig\tO\tcomplexity\tfor\trecursive\tprograms;\n",
        "3. Understand\t“Break\tlarge\tproblem\tinto\tsmaller\tproblems\t+\tinduction”;\n",
        "4. Understand\twhat\ttype\tof\tproblem\tbranching can\tsolve.\n",
        "\n",
        "Name: Peter Yao\n",
        "\n",
        "NetID: yy4108\n",
        "\n",
        "* For students who have recitation on Wednesday, you should submit your solutions by **Feb 25th** Friday 11:59pm.\n",
        "\n",
        "* For students who have recitation on Thursday, you should submit your solutions by **Feb 26th** Saturday 11:59pm.\n",
        "\n",
        "* For students who have recitation on Friday, you should submit your solutions by **Feb 27th** Sunday 11:59pm.\n",
        "\n",
        "\n"
      ]
    },
    {
      "cell_type": "markdown",
      "metadata": {
        "id": "dhNSZJHLnO0V"
      },
      "source": [
        "### Problem 1"
      ]
    },
    {
      "cell_type": "markdown",
      "metadata": {
        "id": "4j73A74knO0W"
      },
      "source": [
        "#### Recursion\toutput\tanalysis\n",
        "\n",
        "What is the output for the following recursive program? Don’t run it, first try to guess."
      ]
    },
    {
      "cell_type": "markdown",
      "metadata": {
        "id": "2TcvdWfQnO0a"
      },
      "source": [
        "def f(n):\n",
        "\n",
        "    if n > 0:   \n",
        "        f(n-1)        \n",
        "        print(n, end = \" \")        \n",
        "        f(n-1)\n",
        "                \n",
        "\n",
        "\n",
        "f(4)"
      ]
    },
    {
      "cell_type": "markdown",
      "metadata": {
        "id": "Lsw9Adi_nO0c"
      },
      "source": [
        "#### Your Answer: 1 2 3 4 3 2 1"
      ]
    },
    {
      "cell_type": "markdown",
      "metadata": {
        "id": "x9K3WakonO0d"
      },
      "source": [
        "### Problem 2"
      ]
    },
    {
      "cell_type": "markdown",
      "metadata": {
        "id": "EFYPnHnwXfQq"
      },
      "source": [
        ""
      ]
    },
    {
      "cell_type": "markdown",
      "metadata": {
        "id": "3Mgzsf95nO0f"
      },
      "source": [
        "#### Determine big-O complexity for the following code snippets:"
      ]
    },
    {
      "cell_type": "markdown",
      "metadata": {
        "id": "jF_SVo_FnO0h"
      },
      "source": [
        "def func1(N):\n",
        "    \n",
        "    if n < 1:      \n",
        "        return\n",
        "    else:\n",
        "        for i in range(5*N):\n",
        "            print(\"hi\")\n",
        "        func1(N - 5)"
      ]
    },
    {
      "cell_type": "markdown",
      "metadata": {
        "id": "fG9HGdaWnO0j"
      },
      "source": [
        "#### Your Answer: O(n**2)"
      ]
    },
    {
      "cell_type": "markdown",
      "metadata": {
        "id": "RyTTH9eAnO0k"
      },
      "source": [
        "def func2(N):\n",
        "    \n",
        "    if n < 1:\n",
        "        return \n",
        "    else:\n",
        "        func2(N - 1)\n",
        "        func2(N - 1)\n",
        "        for i in range(N):\n",
        "            print(\"*\")"
      ]
    },
    {
      "cell_type": "markdown",
      "metadata": {
        "collapsed": true,
        "id": "_IglbEuOnO0l"
      },
      "source": [
        "#### Your Answer: O(2**n)"
      ]
    },
    {
      "cell_type": "markdown",
      "metadata": {
        "id": "qiKxHc6VnO0m"
      },
      "source": [
        "### Problem 3"
      ]
    },
    {
      "cell_type": "markdown",
      "metadata": {
        "id": "x4e39iL_nO0o"
      },
      "source": [
        "Palindrome\t(Recursive\tversion)\t\n",
        "\n",
        "Implement function palindrome( ): this function assesses whether an input String is\n",
        "indeed a palindrome.\n",
        "\n",
        "Important:\n",
        "1. Check the string letter by letter, no string.reverse( )\n",
        "2. Use recursion to break large problem into smaller problem."
      ]
    },
    {
      "cell_type": "code",
      "execution_count": null,
      "metadata": {
        "colab": {
          "base_uri": "https://localhost:8080/"
        },
        "id": "og9bxf-anO0p",
        "outputId": "c053c388-3bb1-4987-b532-0762122f9646"
      },
      "outputs": [
        {
          "name": "stdout",
          "output_type": "stream",
          "text": [
            "s1 is True\n",
            "s2 is True\n",
            "s3 is False\n"
          ]
        }
      ],
      "source": [
        "def palindrome_recursive(string, index):\n",
        "    \"\"\"\n",
        "    # Complete the palindrome algorithm --- with recursion\n",
        "    # Think about how to break a large problem into smaller sub problems.\n",
        "    What is our base case in this problem?\n",
        "\n",
        "    # Another way to ask: what is our smallest problem?\n",
        "    How to get to this smallest problem?\n",
        "\n",
        "    :param string: String -- the string to check whether it is a palindrome\n",
        "    :param index: Int -- additional parameter for recursion tracking\n",
        "\n",
        "    :return: True if @string is palindrome, False otherwise\n",
        "    \"\"\"\n",
        "    if index==len(string)//2+1:\n",
        "        return True\n",
        "    return string[index]==string[len(string)-index-1] and palindrome_recursive(string, index+1)\n",
        "\n",
        "def main():\n",
        "    s1 = \"nodevillivedon\"\n",
        "    s2 = \"livenoevil!liveonevil\"\n",
        "    s3 = \"beliveivileb\"\n",
        "    r1 = palindrome_recursive(s1, 0)\n",
        "    r2 = palindrome_recursive(s2, 0)\n",
        "    r3 = palindrome_recursive(s3, 0)\n",
        "    print(\"s1 is\", r1)  # Should be True\n",
        "    print(\"s2 is\", r2)  # Should be True\n",
        "    print(\"s3 is\", r3)  # Should be False\n",
        "\n",
        "main()"
      ]
    },
    {
      "cell_type": "markdown",
      "metadata": {
        "id": "9mvlXlLqnO0u"
      },
      "source": [
        "### Problem 4"
      ]
    },
    {
      "cell_type": "markdown",
      "metadata": {
        "id": "pGO7BIeinO0u"
      },
      "source": [
        "Tower\tof\tHanoi\n",
        "\n",
        "Your task is to code the famous Tower of Hanoi problem.\n",
        "Complete function hanoi( ), so the disks move correctly when you run the\n",
        "program.\n",
        "\n",
        "Important:\n",
        "1. We have graphical demo for this question. (Only works in your local IDE)\n",
        "2. Start, goal, mid parameters represent three poles.\n",
        "3. To move a disk, call function game.move(num_disks, start, goal)\n",
        "4. Use recursion to break large problem into smaller problem."
      ]
    },
    {
      "cell_type": "code",
      "execution_count": null,
      "metadata": {
        "colab": {
          "background_save": true
        },
        "id": "rf4MvePnnO0v",
        "outputId": "25ac1c32-f793-49e3-9cfe-368ccedb07da"
      },
      "outputs": [
        {
          "ename": "TclError",
          "evalue": "ignored",
          "output_type": "error",
          "traceback": [
            "\u001b[0;31m---------------------------------------------------------------------------\u001b[0m",
            "\u001b[0;31mTclError\u001b[0m                                  Traceback (most recent call last)",
            "\u001b[0;32m<ipython-input-9-484467f546e9>\u001b[0m in \u001b[0;36m<module>\u001b[0;34m()\u001b[0m\n\u001b[1;32m    118\u001b[0m \u001b[0;34m\u001b[0m\u001b[0m\n\u001b[1;32m    119\u001b[0m \u001b[0mbitmap\u001b[0m \u001b[0;34m=\u001b[0m \u001b[0;32mNone\u001b[0m\u001b[0;34m\u001b[0m\u001b[0;34m\u001b[0m\u001b[0m\n\u001b[0;32m--> 120\u001b[0;31m \u001b[0mgame\u001b[0m \u001b[0;34m=\u001b[0m \u001b[0mTkhanoi\u001b[0m\u001b[0;34m(\u001b[0m\u001b[0;36m6\u001b[0m\u001b[0;34m,\u001b[0m \u001b[0mbitmap\u001b[0m\u001b[0;34m)\u001b[0m\u001b[0;34m\u001b[0m\u001b[0;34m\u001b[0m\u001b[0m\n\u001b[0m\u001b[1;32m    121\u001b[0m \u001b[0mgame\u001b[0m\u001b[0;34m.\u001b[0m\u001b[0mrun\u001b[0m\u001b[0;34m(\u001b[0m\u001b[0;34m)\u001b[0m\u001b[0;34m\u001b[0m\u001b[0;34m\u001b[0m\u001b[0m\n",
            "\u001b[0;32m<ipython-input-9-484467f546e9>\u001b[0m in \u001b[0;36m__init__\u001b[0;34m(self, n, bitmap)\u001b[0m\n\u001b[1;32m     29\u001b[0m     \u001b[0;32mdef\u001b[0m \u001b[0m__init__\u001b[0m\u001b[0;34m(\u001b[0m\u001b[0mself\u001b[0m\u001b[0;34m,\u001b[0m \u001b[0mn\u001b[0m\u001b[0;34m,\u001b[0m \u001b[0mbitmap\u001b[0m \u001b[0;34m=\u001b[0m \u001b[0;32mNone\u001b[0m\u001b[0;34m)\u001b[0m\u001b[0;34m:\u001b[0m\u001b[0;34m\u001b[0m\u001b[0;34m\u001b[0m\u001b[0m\n\u001b[1;32m     30\u001b[0m         \u001b[0mself\u001b[0m\u001b[0;34m.\u001b[0m\u001b[0mn\u001b[0m \u001b[0;34m=\u001b[0m \u001b[0mn\u001b[0m\u001b[0;34m\u001b[0m\u001b[0;34m\u001b[0m\u001b[0m\n\u001b[0;32m---> 31\u001b[0;31m         \u001b[0mself\u001b[0m\u001b[0;34m.\u001b[0m\u001b[0mtk\u001b[0m \u001b[0;34m=\u001b[0m \u001b[0mtk\u001b[0m \u001b[0;34m=\u001b[0m \u001b[0mTk\u001b[0m\u001b[0;34m(\u001b[0m\u001b[0;34m)\u001b[0m\u001b[0;34m\u001b[0m\u001b[0;34m\u001b[0m\u001b[0m\n\u001b[0m\u001b[1;32m     32\u001b[0m         \u001b[0mself\u001b[0m\u001b[0;34m.\u001b[0m\u001b[0mcanvas\u001b[0m \u001b[0;34m=\u001b[0m \u001b[0mc\u001b[0m \u001b[0;34m=\u001b[0m \u001b[0mCanvas\u001b[0m\u001b[0;34m(\u001b[0m\u001b[0mtk\u001b[0m\u001b[0;34m)\u001b[0m\u001b[0;34m\u001b[0m\u001b[0;34m\u001b[0m\u001b[0m\n\u001b[1;32m     33\u001b[0m         \u001b[0mc\u001b[0m\u001b[0;34m.\u001b[0m\u001b[0mpack\u001b[0m\u001b[0;34m(\u001b[0m\u001b[0;34m)\u001b[0m\u001b[0;34m\u001b[0m\u001b[0;34m\u001b[0m\u001b[0m\n",
            "\u001b[0;32m/usr/lib/python3.7/tkinter/__init__.py\u001b[0m in \u001b[0;36m__init__\u001b[0;34m(self, screenName, baseName, className, useTk, sync, use)\u001b[0m\n\u001b[1;32m   2021\u001b[0m                 \u001b[0mbaseName\u001b[0m \u001b[0;34m=\u001b[0m \u001b[0mbaseName\u001b[0m \u001b[0;34m+\u001b[0m \u001b[0mext\u001b[0m\u001b[0;34m\u001b[0m\u001b[0;34m\u001b[0m\u001b[0m\n\u001b[1;32m   2022\u001b[0m         \u001b[0minteractive\u001b[0m \u001b[0;34m=\u001b[0m \u001b[0;36m0\u001b[0m\u001b[0;34m\u001b[0m\u001b[0;34m\u001b[0m\u001b[0m\n\u001b[0;32m-> 2023\u001b[0;31m         \u001b[0mself\u001b[0m\u001b[0;34m.\u001b[0m\u001b[0mtk\u001b[0m \u001b[0;34m=\u001b[0m \u001b[0m_tkinter\u001b[0m\u001b[0;34m.\u001b[0m\u001b[0mcreate\u001b[0m\u001b[0;34m(\u001b[0m\u001b[0mscreenName\u001b[0m\u001b[0;34m,\u001b[0m \u001b[0mbaseName\u001b[0m\u001b[0;34m,\u001b[0m \u001b[0mclassName\u001b[0m\u001b[0;34m,\u001b[0m \u001b[0minteractive\u001b[0m\u001b[0;34m,\u001b[0m \u001b[0mwantobjects\u001b[0m\u001b[0;34m,\u001b[0m \u001b[0museTk\u001b[0m\u001b[0;34m,\u001b[0m \u001b[0msync\u001b[0m\u001b[0;34m,\u001b[0m \u001b[0muse\u001b[0m\u001b[0;34m)\u001b[0m\u001b[0;34m\u001b[0m\u001b[0;34m\u001b[0m\u001b[0m\n\u001b[0m\u001b[1;32m   2024\u001b[0m         \u001b[0;32mif\u001b[0m \u001b[0museTk\u001b[0m\u001b[0;34m:\u001b[0m\u001b[0;34m\u001b[0m\u001b[0;34m\u001b[0m\u001b[0m\n\u001b[1;32m   2025\u001b[0m             \u001b[0mself\u001b[0m\u001b[0;34m.\u001b[0m\u001b[0m_loadtk\u001b[0m\u001b[0;34m(\u001b[0m\u001b[0;34m)\u001b[0m\u001b[0;34m\u001b[0m\u001b[0;34m\u001b[0m\u001b[0m\n",
            "\u001b[0;31mTclError\u001b[0m: no display name and no $DISPLAY environment variable"
          ]
        }
      ],
      "source": [
        "from tkinter import Tk, Canvas\n",
        "\n",
        "def hanoi(num_disks, start, goal, mid):\n",
        "    \"\"\"\n",
        "    Implement the tower of hanoi algorithm.\n",
        "    If implemented correctly, a window should pop up, and disks will move as desired.\n",
        "    to move a disk, you can call\n",
        "    game.move(num_disks, start, goal)\n",
        "\n",
        "    :param num_disks: number of disks in this function call.\n",
        "    :param start: Int -- start moving from this pole\n",
        "    :param goal: Int -- move to this pole\n",
        "    :param mid: Int -- Intermediate (useless) pole for this move.\n",
        "\n",
        "    :return: nothing to return\n",
        "    \"\"\"\n",
        "\n",
        "    if num_disks==1:\n",
        "        game.move(1, start, goal)\n",
        "        return None\n",
        "    hanoi(num_disks-1, start, mid, goal)\n",
        "    game.move(num_disks, start, goal)\n",
        "    hanoi(num_disks-1, mid, goal, start)\n",
        "\n",
        "# The graphical interface\n",
        "class Tkhanoi:\n",
        "\n",
        "    # Create our objects\n",
        "    def __init__(self, n, bitmap = None):\n",
        "        self.n = n\n",
        "        self.tk = tk = Tk()\n",
        "        self.canvas = c = Canvas(tk)\n",
        "        c.pack()\n",
        "        width, height = tk.getint(c['width']), tk.getint(c['height'])\n",
        "\n",
        "        # Add background\n",
        "        if bitmap:\n",
        "            self.bitmap = c.create_bitmap(width//2, height//2,\n",
        "                                          bitmap=bitmap,\n",
        "                                          foreground='blue')\n",
        "\n",
        "        # Generate pegs\n",
        "        pegwidth = 10\n",
        "        pegheight = height//2\n",
        "        pegdist = width//3\n",
        "        x1, y1 = (pegdist-pegwidth)//2, height*1//3\n",
        "        x2, y2 = x1+pegwidth, y1+pegheight\n",
        "        self.pegs = []\n",
        "        p = c.create_rectangle(x1, y1, x2, y2, fill='black')\n",
        "        self.pegs.append(p)\n",
        "        x1, x2 = x1+pegdist, x2+pegdist\n",
        "        p = c.create_rectangle(x1, y1, x2, y2, fill='black')\n",
        "        self.pegs.append(p)\n",
        "        x1, x2 = x1+pegdist, x2+pegdist\n",
        "        p = c.create_rectangle(x1, y1, x2, y2, fill='black')\n",
        "        self.pegs.append(p)\n",
        "        self.tk.update()\n",
        "\n",
        "        # Generate pieces\n",
        "        pieceheight = pegheight//16\n",
        "        maxpiecewidth = pegdist*2//3\n",
        "        minpiecewidth = 2*pegwidth\n",
        "        self.pegstate = [[], [], []]\n",
        "        self.pieces = {}\n",
        "        x1, y1 = (pegdist-maxpiecewidth)//2, y2-pieceheight-2\n",
        "        x2, y2 = x1+maxpiecewidth, y1+pieceheight\n",
        "        dx = (maxpiecewidth-minpiecewidth) // (2*max(1, n-1))\n",
        "        for i in range(n, 0, -1):\n",
        "            p = c.create_rectangle(x1, y1, x2, y2, fill='red')\n",
        "            self.pieces[i] = p\n",
        "            self.pegstate[0].append(i)\n",
        "            x1, x2 = x1 + dx, x2-dx\n",
        "            y1, y2 = y1 - pieceheight-2, y2-pieceheight-2\n",
        "            self.tk.update()\n",
        "            self.tk.after(25)\n",
        "\n",
        "    def run(self):\n",
        "        hanoi(self.n, 0, 2, 1)\n",
        "\n",
        "    # Reporting callback for the actual hanoi function\n",
        "    def move(self, i, a, b):\n",
        "        if self.pegstate[a][-1] != i: raise RuntimeError # Assertion\n",
        "        del self.pegstate[a][-1]\n",
        "        p = self.pieces[i]\n",
        "        c = self.canvas\n",
        "\n",
        "        # Lift the piece above peg a\n",
        "        ax1, ay1, ax2, ay2 = c.bbox(self.pegs[a])\n",
        "        while 1:\n",
        "            x1, y1, x2, y2 = c.bbox(p)\n",
        "            if y2 < ay1: break\n",
        "            c.move(p, 0, -1)\n",
        "            self.tk.update()\n",
        "\n",
        "        # Move it towards peg b\n",
        "        bx1, by1, bx2, by2 = c.bbox(self.pegs[b])\n",
        "        newcenter = (bx1+bx2)//2\n",
        "        while 1:\n",
        "            x1, y1, x2, y2 = c.bbox(p)\n",
        "            center = (x1+x2)//2\n",
        "            if center == newcenter: break\n",
        "            if center > newcenter: c.move(p, -1, 0)\n",
        "            else: c.move(p, 1, 0)\n",
        "            self.tk.update()\n",
        "\n",
        "        # Move it down on top of the previous piece\n",
        "        pieceheight = y2-y1\n",
        "        newbottom = by2 - pieceheight*len(self.pegstate[b]) - 2\n",
        "        while 1:\n",
        "            x1, y1, x2, y2 = c.bbox(p)\n",
        "            if y2 >= newbottom: break\n",
        "            c.move(p, 0, 1)\n",
        "            self.tk.update()\n",
        "\n",
        "        # Update peg state\n",
        "        self.pegstate[b].append(i)\n",
        "\n",
        "\n",
        "bitmap = None\n",
        "game = Tkhanoi(6, bitmap)\n",
        "game.run()\n"
      ]
    },
    {
      "cell_type": "markdown",
      "metadata": {
        "id": "vGThgS_9nO0y"
      },
      "source": [
        "### Problem 5"
      ]
    },
    {
      "cell_type": "markdown",
      "metadata": {
        "id": "4z-4bbiAnO0z"
      },
      "source": [
        "All\tPossible\tCombinations\tproblem\n",
        "\n",
        "Implement a recursive approach to show all the teams that can be created from a group\n",
        "(out of n things choose k at a time). Implement the recursive showTeams( ), given a group of\n",
        "players, and the size of the team, display all the possible combinations of players.\n",
        "\n",
        "Important:\n",
        "1. Combination is different from permutation. This is a combination problem.\n",
        "2. There are $\\frac{n!}{k!(n-k)!}$ combinations (Choose k out of n) [1, 2], [2, 1] are the same\n",
        "combinations.\n",
        "3. There are $\\frac{n!}{(n-k)!}$ permutations (Choose k out of n) [1, 2], [2, 1] are different permutations.\n",
        "4. Understand what is a help function."
      ]
    },
    {
      "cell_type": "markdown",
      "metadata": {
        "id": "YV49bbgTnO0z"
      },
      "source": [
        "#### Example Input:\n",
        "\n",
        "players = [“Dey”, “Ruowen”, “Josh”, “Kinder”, “Mario”, “Rock”, “LOL”] # 7 players\n",
        "\n",
        "show_team_driver(players, 2) # Choose 2 from 7"
      ]
    },
    {
      "cell_type": "markdown",
      "metadata": {
        "id": "PJnP_fNpnO00"
      },
      "source": [
        "#### Should output:\n",
        "\n",
        "['Rock', 'LOL']\n",
        "['Mario', 'LOL']\n",
        "['Mario', 'Rock']\n",
        "['Kinder', 'LOL']\n",
        "['Kinder', 'Rock']\n",
        "['Kinder', 'Mario']\n",
        "['Josh', 'LOL']\n",
        "['Josh', 'Rock']\n",
        "['Josh', 'Mario']\n",
        "['Josh', 'Kinder']\n",
        "['Ruowen', 'LOL']\n",
        "['Ruowen', 'Rock']\n",
        "['Ruowen', 'Mario']\n",
        "['Ruowen', 'Kinder']\n",
        "['Ruowen', 'Josh']\n",
        "['Dey', 'LOL']\n",
        "['Dey', 'Rock']\n",
        "['Dey', 'Mario']\n",
        "['Dey', 'Kinder']\n",
        "['Dey', 'Josh']\n",
        "['Dey', 'Ruowen']"
      ]
    },
    {
      "cell_type": "markdown",
      "metadata": {
        "id": "mL5atLz9nO00"
      },
      "source": [
        "#### Another example Input:\n",
        "\n",
        "players = [“Dey”, “Ruowen”, “Josh”, “Kinder”, “Mario”, “Rock”, “LOL”] # 7 players\n",
        "\n",
        "show_team_driver(players, 4) # Choose 4 from 7"
      ]
    },
    {
      "cell_type": "markdown",
      "metadata": {
        "id": "l1e5QcZinO01"
      },
      "source": [
        "#### Should output:\n",
        "    \n",
        "['Kinder', 'Mario', 'Rock', 'LOL']\n",
        "['Josh', 'Mario', 'Rock', 'LOL']\n",
        "['Josh', 'Kinder', 'Rock', 'LOL']\n",
        "['Josh', 'Kinder', 'Mario', 'LOL']\n",
        "['Josh', 'Kinder', 'Mario', 'Rock']\n",
        "['Ruowen', 'Mario', 'Rock', 'LOL']\n",
        "['Ruowen', 'Kinder', 'Rock', 'LOL']\n",
        "['Ruowen', 'Kinder', 'Mario', 'LOL']\n",
        "['Ruowen', 'Kinder', 'Mario', 'Rock']\n",
        "['Ruowen', 'Josh', 'Rock', 'LOL']\n",
        "['Ruowen', 'Josh', 'Mario', 'LOL']\n",
        "['Ruowen', 'Josh', 'Mario', 'Rock']\n",
        "['Ruowen', 'Josh', 'Kinder', 'LOL']\n",
        "['Ruowen', 'Josh', 'Kinder', 'Rock']\n",
        "['Ruowen', 'Josh', 'Kinder', 'Mario']\n",
        "['Professor Day', 'Mario', 'Rock', 'LOL']\n",
        "['Professor Day', 'Kinder', 'Rock', 'LOL']\n",
        "['Professor Day', 'Kinder', 'Mario', 'LOL']\n",
        "['Professor Day', 'Kinder', 'Mario', 'Rock']\n",
        "['Professor Day', 'Josh', 'Rock', 'LOL']\n",
        "['Professor Day', 'Josh', 'Mario', 'LOL']\n",
        "['Professor Day', 'Josh', 'Mario', 'Rock']\n",
        "['Professor Day', 'Josh', 'Kinder', 'LOL']\n",
        "['Professor Day', 'Josh', 'Kinder', 'Rock']\n",
        "['Professor Day', 'Josh', 'Kinder', 'Mario']\n",
        "['Professor Day', 'Ruowen', 'Rock', 'LOL']\n",
        "['Professor Day', 'Ruowen', 'Mario', 'LOL']\n",
        "['Professor Day', 'Ruowen', 'Mario', 'Rock']\n",
        "['Professor Day', 'Ruowen', 'Kinder', 'LOL']\n",
        "['Professor Day', 'Ruowen', 'Kinder', 'Rock']\n",
        "['Professor Day', 'Ruowen', 'Kinder', 'Mario']\n",
        "['Professor Day', 'Ruowen', 'Josh', 'LOL']\n",
        "['Professor Day', 'Ruowen', 'Josh', 'Rock']\n",
        "['Professor Day', 'Ruowen', 'Josh', 'Mario']\n",
        "['Professor Day', 'Ruowen', 'Josh', 'Kinder']"
      ]
    },
    {
      "cell_type": "code",
      "execution_count": 66,
      "metadata": {
        "id": "DnP0aUJanO01",
        "outputId": "624b2f86-94c4-4e5a-f62b-760d34984ee7",
        "colab": {
          "base_uri": "https://localhost:8080/",
          "height": 0
        }
      },
      "outputs": [
        {
          "output_type": "stream",
          "name": "stdout",
          "text": [
            "['Rock', 'LOL']\n",
            "['Mario', 'LOL']\n",
            "['Mario', 'Rock']\n",
            "['Kinder', 'LOL']\n",
            "['Kinder', 'Rock']\n",
            "['Kinder', 'Mario']\n",
            "['Josh', 'LOL']\n",
            "['Josh', 'Rock']\n",
            "['Josh', 'Mario']\n",
            "['Josh', 'Kinder']\n",
            "['Ruowen', 'LOL']\n",
            "['Ruowen', 'Rock']\n",
            "['Ruowen', 'Mario']\n",
            "['Ruowen', 'Kinder']\n",
            "['Ruowen', 'Josh']\n",
            "['Dey', 'LOL']\n",
            "['Dey', 'Rock']\n",
            "['Dey', 'Mario']\n",
            "['Dey', 'Kinder']\n",
            "['Dey', 'Josh']\n",
            "['Dey', 'Ruowen']\n"
          ]
        }
      ],
      "source": [
        "import copy\n",
        "def show_team(names, team_size):\n",
        "    help_show_team(names, team_size, [], 0)\n",
        "\n",
        "def help_show_team(names, team_size, result_list, position):\n",
        "    \"\"\"\n",
        "    # Base case 1: we get enough person in the result_list.\n",
        "    # Base case 2: we have checked all the players.\n",
        "    \n",
        "    # Create two branches\n",
        "    # Branch 1 add current person to result_list\n",
        "    # Branch 2 does not add current person to result_list(copy)\n",
        "    # Move on to the next person\n",
        "\n",
        "    :param names: List[String] -- list of players\n",
        "    :param team_size: Int -- choose how many players\n",
        "    :param result_list: List[String] -- Additional list parameter for recursion\n",
        "    :param position: Int -- Additional index parameter for recursion\n",
        "\n",
        "    :return: Nothing to return\n",
        "    :print: All the combinations players\n",
        "    \"\"\"\n",
        "    if len(result_list)==team_size:\n",
        "        print(result_list)\n",
        "        return\n",
        "    elif position==len(names):\n",
        "        return\n",
        "    temp=names[position]\n",
        "    new=copy.deepcopy(result_list)\n",
        "    position+=1\n",
        "    help_show_team(names, team_size, new, position)\n",
        "    new.append(temp)\n",
        "    help_show_team(names, team_size, new, position)\n",
        "\n",
        "\n",
        "    \n",
        "\n",
        "        \n",
        "\n",
        "    \n",
        "players = [\"Dey\", \"Ruowen\", \"Josh\", \"Kinder\", \"Mario\", \"Rock\", \"LOL\"]\n",
        "show_team(players, 2)\n"
      ]
    },
    {
      "cell_type": "markdown",
      "metadata": {
        "id": "07t528xHnO02"
      },
      "source": [
        "### Problem 6"
      ]
    },
    {
      "cell_type": "markdown",
      "metadata": {
        "id": "HxCTAEc9nO03"
      },
      "source": [
        "Binary Search \n",
        "\n",
        "Complete function binary_search( ): this function uses a binary search to determine\n",
        "whether an ordered list contains a specified value.\n",
        "We will implement two versions of binary search:\n",
        "1. Recursive\n",
        "2. Iterative"
      ]
    },
    {
      "cell_type": "code",
      "execution_count": 48,
      "metadata": {
        "id": "9SHf2jMTnO04",
        "outputId": "e8115c95-d0d8-4d7b-eb62-14e93d1ea083",
        "colab": {
          "base_uri": "https://localhost:8080/",
          "height": 0
        }
      },
      "outputs": [
        {
          "output_type": "stream",
          "name": "stdout",
          "text": [
            "Testing recursive binary search ...\n",
            "List does not contain value 34\n",
            "List does not contain value 86\n",
            "List contains value 9\n",
            "List contains value 61\n",
            "List contains value 92\n",
            "Testing iterative binary search ...\n",
            "List contains value 75\n",
            "List contains value 41\n",
            "List contains value 22\n",
            "List does not contain value 86\n",
            "List does not contain value 31\n"
          ]
        }
      ],
      "source": [
        "import random\n",
        "def binary_search_rec(x, sorted_list):\n",
        "    # this function uses binary search to determine whether an ordered array\n",
        "    # contains a specified value.\n",
        "    # return True if value x is in the list\n",
        "    # return False if value x is not in the list\n",
        "    # If you need, you can use a helper function.\n",
        "    # TO DO\n",
        "    n=len(sorted_list)\n",
        "    mid=sorted_list[n//2]\n",
        "    if x==mid:\n",
        "        return True\n",
        "    elif x<mid:\n",
        "        return binary_search_rec(x, sorted_list[:n//2])\n",
        "    else:\n",
        "        return binary_search_iter(x, sorted_list[n//2+1:])\n",
        "\n",
        "def binary_search_iter(x, sorted_list):\n",
        "    # TO DO\n",
        "    # return True if value x is in the list\n",
        "    # return False if value x is not in the list\n",
        "    low=0\n",
        "    high=len(sorted_list)\n",
        "    mid=(low+high)//2\n",
        "    while low<=high:\n",
        "        if sorted_list[mid]==x:\n",
        "            return True\n",
        "        elif sorted_list[mid]<x:\n",
        "            low=mid+1\n",
        "            mid=(low+high)//2\n",
        "        else:\n",
        "            high=mid-1\n",
        "            mid=(low+high)//2\n",
        "    \n",
        "\n",
        "def main():\n",
        "    sorted_list = []\n",
        "    for i in range(100):\n",
        "        sorted_list.append(random.randint(0, 100))\n",
        "    sorted_list.sort()\n",
        "\n",
        "    print(\"Testing recursive binary search ...\")\n",
        "    for i in range(5):\n",
        "        value = random.randint(0, 100)\n",
        "        answer = binary_search_rec(value, sorted_list)\n",
        "        answer2 = binary_search_iter(value, sorted_list)\n",
        "        if(answer!=answer2):\n",
        "            print('your code is shit')\n",
        "        if (answer ==answer2== True):\n",
        "            print(\"List contains value\", value)\n",
        "        \n",
        "        else:\n",
        "            print(\"List does not contain value\", value)\n",
        "\n",
        "    print(\"Testing iterative binary search ...\")\n",
        "    for i in range(5):\n",
        "        value = random.randint(0, 100)\n",
        "        answer = binary_search_iter(value, sorted_list)\n",
        "        if (answer == True):\n",
        "            print(\"List contains value\", value)\n",
        "        else:\n",
        "            print(\"List does not contain value\", value)\n",
        "    \n",
        "main()"
      ]
    },
    {
      "cell_type": "markdown",
      "metadata": {
        "id": "0Y_aueWanO05"
      },
      "source": [
        "### Problem 7 (Optional)"
      ]
    },
    {
      "cell_type": "markdown",
      "metadata": {
        "id": "eknRsAMjnO05"
      },
      "source": [
        "Use Turtle module draw a Tree (**Use recursion**)</br>  \n",
        "\n",
        "Turtle module is a python built in module. Turtle module draws lines by moving the cursor.\n",
        "\n"
      ]
    },
    {
      "cell_type": "markdown",
      "metadata": {
        "id": "egRyaCALnO05"
      },
      "source": [
        "**For example (the following works only in your IDE)**\n",
        "\n",
        "import turtle\n",
        "\n",
        "t = turtle.Turtle() # Initialize the turtle\n",
        "\n",
        "t.left(30) # The turtle turns left 30 degrees\n",
        "\n",
        "t.right(30) # The turtle turns right 30 degrees\n",
        "\n",
        "t.forward(20) # The turtle moves forward 20 pixels, leave a line on the path.\n",
        "\n",
        "t.backward(30) # The turtle moves backward 30 pixels, leave a line on the path.\n",
        "\n",
        "… and more! In this recitation, that’s all we need.\"\"\""
      ]
    },
    {
      "cell_type": "markdown",
      "metadata": {
        "id": "RReSC5lbnO06"
      },
      "source": [
        "With the mind set of recursion, let’s break down this problem. \n",
        "\n",
        "1. Move forward\n",
        "2. Make a turn, aim to the direction for the first branch\n",
        "3. Recursion for a smaller problem\n",
        "4. Make a turn, aim to the direction for the second branch\n",
        "5. Recursion for a smaller problem\n",
        "6. Make a turn, aim to the direction for coming back\n",
        "7. Come back"
      ]
    },
    {
      "cell_type": "markdown",
      "metadata": {
        "id": "UjdbMzCCnO06"
      },
      "source": [
        "Base case: If the branch is too small, stop.   \n",
        "Otherwise, we should create two new branches (two recursions, two smaller problems)"
      ]
    },
    {
      "cell_type": "code",
      "execution_count": 49,
      "metadata": {
        "colab": {
          "base_uri": "https://localhost:8080/",
          "height": 0
        },
        "id": "WG4nN0ac0_f7",
        "outputId": "352df788-cdc5-4ea1-d990-e2a0d8d91cce"
      },
      "outputs": [
        {
          "output_type": "stream",
          "name": "stdout",
          "text": [
            "Collecting ColabTurtle\n",
            "  Downloading ColabTurtle-2.1.0.tar.gz (6.8 kB)\n",
            "Building wheels for collected packages: ColabTurtle\n",
            "  Building wheel for ColabTurtle (setup.py) ... \u001b[?25l\u001b[?25hdone\n",
            "  Created wheel for ColabTurtle: filename=ColabTurtle-2.1.0-py3-none-any.whl size=7657 sha256=ec2bebade24b9aa593f89c99ed829d8d07b40ee20066b38f0ebb16e27f7fb6d0\n",
            "  Stored in directory: /root/.cache/pip/wheels/0d/ab/65/cc4478508751448dfb4ecb20a6533082855c227dfce8c13902\n",
            "Successfully built ColabTurtle\n",
            "Installing collected packages: ColabTurtle\n",
            "Successfully installed ColabTurtle-2.1.0\n"
          ]
        }
      ],
      "source": [
        "!pip3 install ColabTurtle"
      ]
    },
    {
      "cell_type": "code",
      "execution_count": 56,
      "metadata": {
        "colab": {
          "base_uri": "https://localhost:8080/",
          "height": 521
        },
        "id": "mCXdwWTNnO07",
        "outputId": "fe79f156-7d2c-4dd8-cdee-ce3a1674d79a"
      },
      "outputs": [
        {
          "output_type": "display_data",
          "data": {
            "text/html": [
              "\n",
              "      <svg width=\"800\" height=\"500\">\n",
              "        <rect width=\"100%\" height=\"100%\" fill=\"black\"/>\n",
              "        <line x1=\"400\" y1=\"250\" x2=\"500.0\" y2=\"250.0\" stroke-linecap=\"round\" style=\"stroke:white;stroke-width:4\"/><line x1=\"500.0\" y1=\"250.0\" x2=\"400.0\" y2=\"250.0\" stroke-linecap=\"round\" style=\"stroke:green;stroke-width:4\"/><line x1=\"400.0\" y1=\"250.0\" x2=\"313.067\" y2=\"273.294\" stroke-linecap=\"round\" style=\"stroke:green;stroke-width:4\"/><line x1=\"313.067\" y1=\"273.294\" x2=\"243.785\" y2=\"313.294\" stroke-linecap=\"round\" style=\"stroke:green;stroke-width:4\"/><line x1=\"243.785\" y1=\"313.294\" x2=\"194.288\" y2=\"362.791\" stroke-linecap=\"round\" style=\"stroke:green;stroke-width:4\"/><line x1=\"194.288\" y1=\"362.791\" x2=\"164.288\" y2=\"414.753\" stroke-linecap=\"round\" style=\"stroke:green;stroke-width:4\"/><line x1=\"164.288\" y1=\"414.753\" x2=\"151.347\" y2=\"463.049\" stroke-linecap=\"round\" style=\"stroke:green;stroke-width:4\"/><line x1=\"151.347\" y1=\"463.049\" x2=\"151.347\" y2=\"503.049\" stroke-linecap=\"round\" style=\"stroke:green;stroke-width:4\"/><line x1=\"151.347\" y1=\"503.049\" x2=\"151.347\" y2=\"463.049\" stroke-linecap=\"round\" style=\"stroke:green;stroke-width:4\"/><line x1=\"151.347\" y1=\"463.049\" x2=\"131.347\" y2=\"497.69\" stroke-linecap=\"round\" style=\"stroke:green;stroke-width:4\"/><line x1=\"131.347\" y1=\"497.69\" x2=\"151.347\" y2=\"463.049\" stroke-linecap=\"round\" style=\"stroke:green;stroke-width:4\"/><line x1=\"151.347\" y1=\"463.049\" x2=\"164.288\" y2=\"414.753\" stroke-linecap=\"round\" style=\"stroke:green;stroke-width:4\"/><line x1=\"164.288\" y1=\"414.753\" x2=\"128.933\" y2=\"450.108\" stroke-linecap=\"round\" style=\"stroke:green;stroke-width:4\"/><line x1=\"128.933\" y1=\"450.108\" x2=\"108.933\" y2=\"484.749\" stroke-linecap=\"round\" style=\"stroke:green;stroke-width:4\"/><line x1=\"108.933\" y1=\"484.749\" x2=\"128.933\" y2=\"450.108\" stroke-linecap=\"round\" style=\"stroke:green;stroke-width:4\"/><line x1=\"128.933\" y1=\"450.108\" x2=\"94.292\" y2=\"470.108\" stroke-linecap=\"round\" style=\"stroke:green;stroke-width:4\"/><line x1=\"94.292\" y1=\"470.108\" x2=\"128.933\" y2=\"450.108\" stroke-linecap=\"round\" style=\"stroke:green;stroke-width:4\"/><line x1=\"128.933\" y1=\"450.108\" x2=\"164.288\" y2=\"414.753\" stroke-linecap=\"round\" style=\"stroke:green;stroke-width:4\"/><line x1=\"164.288\" y1=\"414.753\" x2=\"194.288\" y2=\"362.791\" stroke-linecap=\"round\" style=\"stroke:green;stroke-width:4\"/><line x1=\"194.288\" y1=\"362.791\" x2=\"142.326\" y2=\"392.791\" stroke-linecap=\"round\" style=\"stroke:green;stroke-width:4\"/><line x1=\"142.326\" y1=\"392.791\" x2=\"106.971\" y2=\"428.146\" stroke-linecap=\"round\" style=\"stroke:green;stroke-width:4\"/><line x1=\"106.971\" y1=\"428.146\" x2=\"86.971\" y2=\"462.787\" stroke-linecap=\"round\" style=\"stroke:green;stroke-width:4\"/><line x1=\"86.971\" y1=\"462.787\" x2=\"106.971\" y2=\"428.146\" stroke-linecap=\"round\" style=\"stroke:green;stroke-width:4\"/><line x1=\"106.971\" y1=\"428.146\" x2=\"72.33\" y2=\"448.146\" stroke-linecap=\"round\" style=\"stroke:green;stroke-width:4\"/><line x1=\"72.33\" y1=\"448.146\" x2=\"106.971\" y2=\"428.146\" stroke-linecap=\"round\" style=\"stroke:green;stroke-width:4\"/><line x1=\"106.971\" y1=\"428.146\" x2=\"142.326\" y2=\"392.791\" stroke-linecap=\"round\" style=\"stroke:green;stroke-width:4\"/><line x1=\"142.326\" y1=\"392.791\" x2=\"94.03\" y2=\"405.732\" stroke-linecap=\"round\" style=\"stroke:green;stroke-width:4\"/><line x1=\"94.03\" y1=\"405.732\" x2=\"59.389\" y2=\"425.732\" stroke-linecap=\"round\" style=\"stroke:green;stroke-width:4\"/><line x1=\"59.389\" y1=\"425.732\" x2=\"94.03\" y2=\"405.732\" stroke-linecap=\"round\" style=\"stroke:green;stroke-width:4\"/><line x1=\"94.03\" y1=\"405.732\" x2=\"54.03\" y2=\"405.732\" stroke-linecap=\"round\" style=\"stroke:green;stroke-width:4\"/><line x1=\"54.03\" y1=\"405.732\" x2=\"94.03\" y2=\"405.732\" stroke-linecap=\"round\" style=\"stroke:green;stroke-width:4\"/><line x1=\"94.03\" y1=\"405.732\" x2=\"142.326\" y2=\"392.791\" stroke-linecap=\"round\" style=\"stroke:green;stroke-width:4\"/><line x1=\"142.326\" y1=\"392.791\" x2=\"194.288\" y2=\"362.791\" stroke-linecap=\"round\" style=\"stroke:green;stroke-width:4\"/><line x1=\"194.288\" y1=\"362.791\" x2=\"243.785\" y2=\"313.294\" stroke-linecap=\"round\" style=\"stroke:green;stroke-width:4\"/><line x1=\"243.785\" y1=\"313.294\" x2=\"176.17\" y2=\"331.411\" stroke-linecap=\"round\" style=\"stroke:green;stroke-width:4\"/><line x1=\"176.17\" y1=\"331.411\" x2=\"124.208\" y2=\"361.411\" stroke-linecap=\"round\" style=\"stroke:green;stroke-width:4\"/><line x1=\"124.208\" y1=\"361.411\" x2=\"88.853\" y2=\"396.766\" stroke-linecap=\"round\" style=\"stroke:green;stroke-width:4\"/><line x1=\"88.853\" y1=\"396.766\" x2=\"68.853\" y2=\"431.407\" stroke-linecap=\"round\" style=\"stroke:green;stroke-width:4\"/><line x1=\"68.853\" y1=\"431.407\" x2=\"88.853\" y2=\"396.766\" stroke-linecap=\"round\" style=\"stroke:green;stroke-width:4\"/><line x1=\"88.853\" y1=\"396.766\" x2=\"54.212\" y2=\"416.766\" stroke-linecap=\"round\" style=\"stroke:green;stroke-width:4\"/><line x1=\"54.212\" y1=\"416.766\" x2=\"88.853\" y2=\"396.766\" stroke-linecap=\"round\" style=\"stroke:green;stroke-width:4\"/><line x1=\"88.853\" y1=\"396.766\" x2=\"124.208\" y2=\"361.411\" stroke-linecap=\"round\" style=\"stroke:green;stroke-width:4\"/><line x1=\"124.208\" y1=\"361.411\" x2=\"75.912\" y2=\"374.352\" stroke-linecap=\"round\" style=\"stroke:green;stroke-width:4\"/><line x1=\"75.912\" y1=\"374.352\" x2=\"41.271\" y2=\"394.352\" stroke-linecap=\"round\" style=\"stroke:green;stroke-width:4\"/><line x1=\"41.271\" y1=\"394.352\" x2=\"75.912\" y2=\"374.352\" stroke-linecap=\"round\" style=\"stroke:green;stroke-width:4\"/><line x1=\"75.912\" y1=\"374.352\" x2=\"35.912\" y2=\"374.352\" stroke-linecap=\"round\" style=\"stroke:green;stroke-width:4\"/><line x1=\"35.912\" y1=\"374.352\" x2=\"75.912\" y2=\"374.352\" stroke-linecap=\"round\" style=\"stroke:green;stroke-width:4\"/><line x1=\"75.912\" y1=\"374.352\" x2=\"124.208\" y2=\"361.411\" stroke-linecap=\"round\" style=\"stroke:green;stroke-width:4\"/><line x1=\"124.208\" y1=\"361.411\" x2=\"176.17\" y2=\"331.411\" stroke-linecap=\"round\" style=\"stroke:green;stroke-width:4\"/><line x1=\"176.17\" y1=\"331.411\" x2=\"116.17\" y2=\"331.411\" stroke-linecap=\"round\" style=\"stroke:green;stroke-width:4\"/><line x1=\"116.17\" y1=\"331.411\" x2=\"67.874\" y2=\"344.352\" stroke-linecap=\"round\" style=\"stroke:green;stroke-width:4\"/><line x1=\"67.874\" y1=\"344.352\" x2=\"33.233\" y2=\"364.352\" stroke-linecap=\"round\" style=\"stroke:green;stroke-width:4\"/><line x1=\"33.233\" y1=\"364.352\" x2=\"67.874\" y2=\"344.352\" stroke-linecap=\"round\" style=\"stroke:green;stroke-width:4\"/><line x1=\"67.874\" y1=\"344.352\" x2=\"27.874\" y2=\"344.352\" stroke-linecap=\"round\" style=\"stroke:green;stroke-width:4\"/><line x1=\"27.874\" y1=\"344.352\" x2=\"67.874\" y2=\"344.352\" stroke-linecap=\"round\" style=\"stroke:green;stroke-width:4\"/><line x1=\"67.874\" y1=\"344.352\" x2=\"116.17\" y2=\"331.411\" stroke-linecap=\"round\" style=\"stroke:green;stroke-width:4\"/><line x1=\"116.17\" y1=\"331.411\" x2=\"67.874\" y2=\"318.47\" stroke-linecap=\"round\" style=\"stroke:green;stroke-width:4\"/><line x1=\"67.874\" y1=\"318.47\" x2=\"27.874\" y2=\"318.47\" stroke-linecap=\"round\" style=\"stroke:green;stroke-width:4\"/><line x1=\"27.874\" y1=\"318.47\" x2=\"67.874\" y2=\"318.47\" stroke-linecap=\"round\" style=\"stroke:green;stroke-width:4\"/><line x1=\"67.874\" y1=\"318.47\" x2=\"33.233\" y2=\"298.47\" stroke-linecap=\"round\" style=\"stroke:green;stroke-width:4\"/><line x1=\"33.233\" y1=\"298.47\" x2=\"67.874\" y2=\"318.47\" stroke-linecap=\"round\" style=\"stroke:green;stroke-width:4\"/><line x1=\"67.874\" y1=\"318.47\" x2=\"116.17\" y2=\"331.411\" stroke-linecap=\"round\" style=\"stroke:green;stroke-width:4\"/><line x1=\"116.17\" y1=\"331.411\" x2=\"176.17\" y2=\"331.411\" stroke-linecap=\"round\" style=\"stroke:green;stroke-width:4\"/><line x1=\"176.17\" y1=\"331.411\" x2=\"243.785\" y2=\"313.294\" stroke-linecap=\"round\" style=\"stroke:green;stroke-width:4\"/><line x1=\"243.785\" y1=\"313.294\" x2=\"313.067\" y2=\"273.294\" stroke-linecap=\"round\" style=\"stroke:green;stroke-width:4\"/><line x1=\"313.067\" y1=\"273.294\" x2=\"233.067\" y2=\"273.294\" stroke-linecap=\"round\" style=\"stroke:green;stroke-width:4\"/><line x1=\"233.067\" y1=\"273.294\" x2=\"165.452\" y2=\"291.411\" stroke-linecap=\"round\" style=\"stroke:green;stroke-width:4\"/><line x1=\"165.452\" y1=\"291.411\" x2=\"113.49\" y2=\"321.411\" stroke-linecap=\"round\" style=\"stroke:green;stroke-width:4\"/><line x1=\"113.49\" y1=\"321.411\" x2=\"78.135\" y2=\"356.766\" stroke-linecap=\"round\" style=\"stroke:green;stroke-width:4\"/><line x1=\"78.135\" y1=\"356.766\" x2=\"58.135\" y2=\"391.407\" stroke-linecap=\"round\" style=\"stroke:green;stroke-width:4\"/><line x1=\"58.135\" y1=\"391.407\" x2=\"78.135\" y2=\"356.766\" stroke-linecap=\"round\" style=\"stroke:green;stroke-width:4\"/><line x1=\"78.135\" y1=\"356.766\" x2=\"43.494\" y2=\"376.766\" stroke-linecap=\"round\" style=\"stroke:green;stroke-width:4\"/><line x1=\"43.494\" y1=\"376.766\" x2=\"78.135\" y2=\"356.766\" stroke-linecap=\"round\" style=\"stroke:green;stroke-width:4\"/><line x1=\"78.135\" y1=\"356.766\" x2=\"113.49\" y2=\"321.411\" stroke-linecap=\"round\" style=\"stroke:green;stroke-width:4\"/><line x1=\"113.49\" y1=\"321.411\" x2=\"65.194\" y2=\"334.352\" stroke-linecap=\"round\" style=\"stroke:green;stroke-width:4\"/><line x1=\"65.194\" y1=\"334.352\" x2=\"30.553\" y2=\"354.352\" stroke-linecap=\"round\" style=\"stroke:green;stroke-width:4\"/><line x1=\"30.553\" y1=\"354.352\" x2=\"65.194\" y2=\"334.352\" stroke-linecap=\"round\" style=\"stroke:green;stroke-width:4\"/><line x1=\"65.194\" y1=\"334.352\" x2=\"25.194\" y2=\"334.352\" stroke-linecap=\"round\" style=\"stroke:green;stroke-width:4\"/><line x1=\"25.194\" y1=\"334.352\" x2=\"65.194\" y2=\"334.352\" stroke-linecap=\"round\" style=\"stroke:green;stroke-width:4\"/><line x1=\"65.194\" y1=\"334.352\" x2=\"113.49\" y2=\"321.411\" stroke-linecap=\"round\" style=\"stroke:green;stroke-width:4\"/><line x1=\"113.49\" y1=\"321.411\" x2=\"165.452\" y2=\"291.411\" stroke-linecap=\"round\" style=\"stroke:green;stroke-width:4\"/><line x1=\"165.452\" y1=\"291.411\" x2=\"105.452\" y2=\"291.411\" stroke-linecap=\"round\" style=\"stroke:green;stroke-width:4\"/><line x1=\"105.452\" y1=\"291.411\" x2=\"57.156\" y2=\"304.352\" stroke-linecap=\"round\" style=\"stroke:green;stroke-width:4\"/><line x1=\"57.156\" y1=\"304.352\" x2=\"22.515\" y2=\"324.352\" stroke-linecap=\"round\" style=\"stroke:green;stroke-width:4\"/><line x1=\"22.515\" y1=\"324.352\" x2=\"57.156\" y2=\"304.352\" stroke-linecap=\"round\" style=\"stroke:green;stroke-width:4\"/><line x1=\"57.156\" y1=\"304.352\" x2=\"17.156\" y2=\"304.352\" stroke-linecap=\"round\" style=\"stroke:green;stroke-width:4\"/><line x1=\"17.156\" y1=\"304.352\" x2=\"57.156\" y2=\"304.352\" stroke-linecap=\"round\" style=\"stroke:green;stroke-width:4\"/><line x1=\"57.156\" y1=\"304.352\" x2=\"105.452\" y2=\"291.411\" stroke-linecap=\"round\" style=\"stroke:green;stroke-width:4\"/><line x1=\"105.452\" y1=\"291.411\" x2=\"57.156\" y2=\"278.47\" stroke-linecap=\"round\" style=\"stroke:green;stroke-width:4\"/><line x1=\"57.156\" y1=\"278.47\" x2=\"17.156\" y2=\"278.47\" stroke-linecap=\"round\" style=\"stroke:green;stroke-width:4\"/><line x1=\"17.156\" y1=\"278.47\" x2=\"57.156\" y2=\"278.47\" stroke-linecap=\"round\" style=\"stroke:green;stroke-width:4\"/><line x1=\"57.156\" y1=\"278.47\" x2=\"22.515\" y2=\"258.47\" stroke-linecap=\"round\" style=\"stroke:green;stroke-width:4\"/><line x1=\"22.515\" y1=\"258.47\" x2=\"57.156\" y2=\"278.47\" stroke-linecap=\"round\" style=\"stroke:green;stroke-width:4\"/><line x1=\"57.156\" y1=\"278.47\" x2=\"105.452\" y2=\"291.411\" stroke-linecap=\"round\" style=\"stroke:green;stroke-width:4\"/><line x1=\"105.452\" y1=\"291.411\" x2=\"165.452\" y2=\"291.411\" stroke-linecap=\"round\" style=\"stroke:green;stroke-width:4\"/><line x1=\"165.452\" y1=\"291.411\" x2=\"233.067\" y2=\"273.294\" stroke-linecap=\"round\" style=\"stroke:green;stroke-width:4\"/><line x1=\"233.067\" y1=\"273.294\" x2=\"165.452\" y2=\"255.177\" stroke-linecap=\"round\" style=\"stroke:green;stroke-width:4\"/><line x1=\"165.452\" y1=\"255.177\" x2=\"105.452\" y2=\"255.177\" stroke-linecap=\"round\" style=\"stroke:green;stroke-width:4\"/><line x1=\"105.452\" y1=\"255.177\" x2=\"57.156\" y2=\"268.118\" stroke-linecap=\"round\" style=\"stroke:green;stroke-width:4\"/><line x1=\"57.156\" y1=\"268.118\" x2=\"22.515\" y2=\"288.118\" stroke-linecap=\"round\" style=\"stroke:green;stroke-width:4\"/><line x1=\"22.515\" y1=\"288.118\" x2=\"57.156\" y2=\"268.118\" stroke-linecap=\"round\" style=\"stroke:green;stroke-width:4\"/><line x1=\"57.156\" y1=\"268.118\" x2=\"17.156\" y2=\"268.118\" stroke-linecap=\"round\" style=\"stroke:green;stroke-width:4\"/><line x1=\"17.156\" y1=\"268.118\" x2=\"57.156\" y2=\"268.118\" stroke-linecap=\"round\" style=\"stroke:green;stroke-width:4\"/><line x1=\"57.156\" y1=\"268.118\" x2=\"105.452\" y2=\"255.177\" stroke-linecap=\"round\" style=\"stroke:green;stroke-width:4\"/><line x1=\"105.452\" y1=\"255.177\" x2=\"57.156\" y2=\"242.236\" stroke-linecap=\"round\" style=\"stroke:green;stroke-width:4\"/><line x1=\"57.156\" y1=\"242.236\" x2=\"17.156\" y2=\"242.236\" stroke-linecap=\"round\" style=\"stroke:green;stroke-width:4\"/><line x1=\"17.156\" y1=\"242.236\" x2=\"57.156\" y2=\"242.236\" stroke-linecap=\"round\" style=\"stroke:green;stroke-width:4\"/><line x1=\"57.156\" y1=\"242.236\" x2=\"22.515\" y2=\"222.236\" stroke-linecap=\"round\" style=\"stroke:green;stroke-width:4\"/><line x1=\"22.515\" y1=\"222.236\" x2=\"57.156\" y2=\"242.236\" stroke-linecap=\"round\" style=\"stroke:green;stroke-width:4\"/><line x1=\"57.156\" y1=\"242.236\" x2=\"105.452\" y2=\"255.177\" stroke-linecap=\"round\" style=\"stroke:green;stroke-width:4\"/><line x1=\"105.452\" y1=\"255.177\" x2=\"165.452\" y2=\"255.177\" stroke-linecap=\"round\" style=\"stroke:green;stroke-width:4\"/><line x1=\"165.452\" y1=\"255.177\" x2=\"113.49\" y2=\"225.177\" stroke-linecap=\"round\" style=\"stroke:green;stroke-width:4\"/><line x1=\"113.49\" y1=\"225.177\" x2=\"65.194\" y2=\"212.236\" stroke-linecap=\"round\" style=\"stroke:green;stroke-width:4\"/><line x1=\"65.194\" y1=\"212.236\" x2=\"25.194\" y2=\"212.236\" stroke-linecap=\"round\" style=\"stroke:green;stroke-width:4\"/><line x1=\"25.194\" y1=\"212.236\" x2=\"65.194\" y2=\"212.236\" stroke-linecap=\"round\" style=\"stroke:green;stroke-width:4\"/><line x1=\"65.194\" y1=\"212.236\" x2=\"30.553\" y2=\"192.236\" stroke-linecap=\"round\" style=\"stroke:green;stroke-width:4\"/><line x1=\"30.553\" y1=\"192.236\" x2=\"65.194\" y2=\"212.236\" stroke-linecap=\"round\" style=\"stroke:green;stroke-width:4\"/><line x1=\"65.194\" y1=\"212.236\" x2=\"113.49\" y2=\"225.177\" stroke-linecap=\"round\" style=\"stroke:green;stroke-width:4\"/><line x1=\"113.49\" y1=\"225.177\" x2=\"78.135\" y2=\"189.822\" stroke-linecap=\"round\" style=\"stroke:green;stroke-width:4\"/><line x1=\"78.135\" y1=\"189.822\" x2=\"43.494\" y2=\"169.822\" stroke-linecap=\"round\" style=\"stroke:green;stroke-width:4\"/><line x1=\"43.494\" y1=\"169.822\" x2=\"78.135\" y2=\"189.822\" stroke-linecap=\"round\" style=\"stroke:green;stroke-width:4\"/><line x1=\"78.135\" y1=\"189.822\" x2=\"58.135\" y2=\"155.181\" stroke-linecap=\"round\" style=\"stroke:green;stroke-width:4\"/><line x1=\"58.135\" y1=\"155.181\" x2=\"78.135\" y2=\"189.822\" stroke-linecap=\"round\" style=\"stroke:green;stroke-width:4\"/><line x1=\"78.135\" y1=\"189.822\" x2=\"113.49\" y2=\"225.177\" stroke-linecap=\"round\" style=\"stroke:green;stroke-width:4\"/><line x1=\"113.49\" y1=\"225.177\" x2=\"165.452\" y2=\"255.177\" stroke-linecap=\"round\" style=\"stroke:green;stroke-width:4\"/><line x1=\"165.452\" y1=\"255.177\" x2=\"233.067\" y2=\"273.294\" stroke-linecap=\"round\" style=\"stroke:green;stroke-width:4\"/><line x1=\"233.067\" y1=\"273.294\" x2=\"313.067\" y2=\"273.294\" stroke-linecap=\"round\" style=\"stroke:green;stroke-width:4\"/><line x1=\"313.067\" y1=\"273.294\" x2=\"400.0\" y2=\"250.0\" stroke-linecap=\"round\" style=\"stroke:green;stroke-width:4\"/><line x1=\"400.0\" y1=\"250.0\" x2=\"313.067\" y2=\"226.706\" stroke-linecap=\"round\" style=\"stroke:green;stroke-width:4\"/><line x1=\"313.067\" y1=\"226.706\" x2=\"233.067\" y2=\"226.706\" stroke-linecap=\"round\" style=\"stroke:green;stroke-width:4\"/><line x1=\"233.067\" y1=\"226.706\" x2=\"165.452\" y2=\"244.823\" stroke-linecap=\"round\" style=\"stroke:green;stroke-width:4\"/><line x1=\"165.452\" y1=\"244.823\" x2=\"113.49\" y2=\"274.823\" stroke-linecap=\"round\" style=\"stroke:green;stroke-width:4\"/><line x1=\"113.49\" y1=\"274.823\" x2=\"78.135\" y2=\"310.178\" stroke-linecap=\"round\" style=\"stroke:green;stroke-width:4\"/><line x1=\"78.135\" y1=\"310.178\" x2=\"58.135\" y2=\"344.819\" stroke-linecap=\"round\" style=\"stroke:green;stroke-width:4\"/><line x1=\"58.135\" y1=\"344.819\" x2=\"78.135\" y2=\"310.178\" stroke-linecap=\"round\" style=\"stroke:green;stroke-width:4\"/><line x1=\"78.135\" y1=\"310.178\" x2=\"43.494\" y2=\"330.178\" stroke-linecap=\"round\" style=\"stroke:green;stroke-width:4\"/><line x1=\"43.494\" y1=\"330.178\" x2=\"78.135\" y2=\"310.178\" stroke-linecap=\"round\" style=\"stroke:green;stroke-width:4\"/><line x1=\"78.135\" y1=\"310.178\" x2=\"113.49\" y2=\"274.823\" stroke-linecap=\"round\" style=\"stroke:green;stroke-width:4\"/><line x1=\"113.49\" y1=\"274.823\" x2=\"65.194\" y2=\"287.764\" stroke-linecap=\"round\" style=\"stroke:green;stroke-width:4\"/><line x1=\"65.194\" y1=\"287.764\" x2=\"30.553\" y2=\"307.764\" stroke-linecap=\"round\" style=\"stroke:green;stroke-width:4\"/><line x1=\"30.553\" y1=\"307.764\" x2=\"65.194\" y2=\"287.764\" stroke-linecap=\"round\" style=\"stroke:green;stroke-width:4\"/><line x1=\"65.194\" y1=\"287.764\" x2=\"25.194\" y2=\"287.764\" stroke-linecap=\"round\" style=\"stroke:green;stroke-width:4\"/><line x1=\"25.194\" y1=\"287.764\" x2=\"65.194\" y2=\"287.764\" stroke-linecap=\"round\" style=\"stroke:green;stroke-width:4\"/><line x1=\"65.194\" y1=\"287.764\" x2=\"113.49\" y2=\"274.823\" stroke-linecap=\"round\" style=\"stroke:green;stroke-width:4\"/><line x1=\"113.49\" y1=\"274.823\" x2=\"165.452\" y2=\"244.823\" stroke-linecap=\"round\" style=\"stroke:green;stroke-width:4\"/><line x1=\"165.452\" y1=\"244.823\" x2=\"105.452\" y2=\"244.823\" stroke-linecap=\"round\" style=\"stroke:green;stroke-width:4\"/><line x1=\"105.452\" y1=\"244.823\" x2=\"57.156\" y2=\"257.764\" stroke-linecap=\"round\" style=\"stroke:green;stroke-width:4\"/><line x1=\"57.156\" y1=\"257.764\" x2=\"22.515\" y2=\"277.764\" stroke-linecap=\"round\" style=\"stroke:green;stroke-width:4\"/><line x1=\"22.515\" y1=\"277.764\" x2=\"57.156\" y2=\"257.764\" stroke-linecap=\"round\" style=\"stroke:green;stroke-width:4\"/><line x1=\"57.156\" y1=\"257.764\" x2=\"17.156\" y2=\"257.764\" stroke-linecap=\"round\" style=\"stroke:green;stroke-width:4\"/><line x1=\"17.156\" y1=\"257.764\" x2=\"57.156\" y2=\"257.764\" stroke-linecap=\"round\" style=\"stroke:green;stroke-width:4\"/><line x1=\"57.156\" y1=\"257.764\" x2=\"105.452\" y2=\"244.823\" stroke-linecap=\"round\" style=\"stroke:green;stroke-width:4\"/><line x1=\"105.452\" y1=\"244.823\" x2=\"57.156\" y2=\"231.882\" stroke-linecap=\"round\" style=\"stroke:green;stroke-width:4\"/><line x1=\"57.156\" y1=\"231.882\" x2=\"17.156\" y2=\"231.882\" stroke-linecap=\"round\" style=\"stroke:green;stroke-width:4\"/><line x1=\"17.156\" y1=\"231.882\" x2=\"57.156\" y2=\"231.882\" stroke-linecap=\"round\" style=\"stroke:green;stroke-width:4\"/><line x1=\"57.156\" y1=\"231.882\" x2=\"22.515\" y2=\"211.882\" stroke-linecap=\"round\" style=\"stroke:green;stroke-width:4\"/><line x1=\"22.515\" y1=\"211.882\" x2=\"57.156\" y2=\"231.882\" stroke-linecap=\"round\" style=\"stroke:green;stroke-width:4\"/><line x1=\"57.156\" y1=\"231.882\" x2=\"105.452\" y2=\"244.823\" stroke-linecap=\"round\" style=\"stroke:green;stroke-width:4\"/><line x1=\"105.452\" y1=\"244.823\" x2=\"165.452\" y2=\"244.823\" stroke-linecap=\"round\" style=\"stroke:green;stroke-width:4\"/><line x1=\"165.452\" y1=\"244.823\" x2=\"233.067\" y2=\"226.706\" stroke-linecap=\"round\" style=\"stroke:green;stroke-width:4\"/><line x1=\"233.067\" y1=\"226.706\" x2=\"165.452\" y2=\"208.589\" stroke-linecap=\"round\" style=\"stroke:green;stroke-width:4\"/><line x1=\"165.452\" y1=\"208.589\" x2=\"105.452\" y2=\"208.589\" stroke-linecap=\"round\" style=\"stroke:green;stroke-width:4\"/><line x1=\"105.452\" y1=\"208.589\" x2=\"57.156\" y2=\"221.53\" stroke-linecap=\"round\" style=\"stroke:green;stroke-width:4\"/><line x1=\"57.156\" y1=\"221.53\" x2=\"22.515\" y2=\"241.53\" stroke-linecap=\"round\" style=\"stroke:green;stroke-width:4\"/><line x1=\"22.515\" y1=\"241.53\" x2=\"57.156\" y2=\"221.53\" stroke-linecap=\"round\" style=\"stroke:green;stroke-width:4\"/><line x1=\"57.156\" y1=\"221.53\" x2=\"17.156\" y2=\"221.53\" stroke-linecap=\"round\" style=\"stroke:green;stroke-width:4\"/><line x1=\"17.156\" y1=\"221.53\" x2=\"57.156\" y2=\"221.53\" stroke-linecap=\"round\" style=\"stroke:green;stroke-width:4\"/><line x1=\"57.156\" y1=\"221.53\" x2=\"105.452\" y2=\"208.589\" stroke-linecap=\"round\" style=\"stroke:green;stroke-width:4\"/><line x1=\"105.452\" y1=\"208.589\" x2=\"57.156\" y2=\"195.648\" stroke-linecap=\"round\" style=\"stroke:green;stroke-width:4\"/><line x1=\"57.156\" y1=\"195.648\" x2=\"17.156\" y2=\"195.648\" stroke-linecap=\"round\" style=\"stroke:green;stroke-width:4\"/><line x1=\"17.156\" y1=\"195.648\" x2=\"57.156\" y2=\"195.648\" stroke-linecap=\"round\" style=\"stroke:green;stroke-width:4\"/><line x1=\"57.156\" y1=\"195.648\" x2=\"22.515\" y2=\"175.648\" stroke-linecap=\"round\" style=\"stroke:green;stroke-width:4\"/><line x1=\"22.515\" y1=\"175.648\" x2=\"57.156\" y2=\"195.648\" stroke-linecap=\"round\" style=\"stroke:green;stroke-width:4\"/><line x1=\"57.156\" y1=\"195.648\" x2=\"105.452\" y2=\"208.589\" stroke-linecap=\"round\" style=\"stroke:green;stroke-width:4\"/><line x1=\"105.452\" y1=\"208.589\" x2=\"165.452\" y2=\"208.589\" stroke-linecap=\"round\" style=\"stroke:green;stroke-width:4\"/><line x1=\"165.452\" y1=\"208.589\" x2=\"113.49\" y2=\"178.589\" stroke-linecap=\"round\" style=\"stroke:green;stroke-width:4\"/><line x1=\"113.49\" y1=\"178.589\" x2=\"65.194\" y2=\"165.648\" stroke-linecap=\"round\" style=\"stroke:green;stroke-width:4\"/><line x1=\"65.194\" y1=\"165.648\" x2=\"25.194\" y2=\"165.648\" stroke-linecap=\"round\" style=\"stroke:green;stroke-width:4\"/><line x1=\"25.194\" y1=\"165.648\" x2=\"65.194\" y2=\"165.648\" stroke-linecap=\"round\" style=\"stroke:green;stroke-width:4\"/><line x1=\"65.194\" y1=\"165.648\" x2=\"30.553\" y2=\"145.648\" stroke-linecap=\"round\" style=\"stroke:green;stroke-width:4\"/><line x1=\"30.553\" y1=\"145.648\" x2=\"65.194\" y2=\"165.648\" stroke-linecap=\"round\" style=\"stroke:green;stroke-width:4\"/><line x1=\"65.194\" y1=\"165.648\" x2=\"113.49\" y2=\"178.589\" stroke-linecap=\"round\" style=\"stroke:green;stroke-width:4\"/><line x1=\"113.49\" y1=\"178.589\" x2=\"78.135\" y2=\"143.234\" stroke-linecap=\"round\" style=\"stroke:green;stroke-width:4\"/><line x1=\"78.135\" y1=\"143.234\" x2=\"43.494\" y2=\"123.234\" stroke-linecap=\"round\" style=\"stroke:green;stroke-width:4\"/><line x1=\"43.494\" y1=\"123.234\" x2=\"78.135\" y2=\"143.234\" stroke-linecap=\"round\" style=\"stroke:green;stroke-width:4\"/><line x1=\"78.135\" y1=\"143.234\" x2=\"58.135\" y2=\"108.593\" stroke-linecap=\"round\" style=\"stroke:green;stroke-width:4\"/><line x1=\"58.135\" y1=\"108.593\" x2=\"78.135\" y2=\"143.234\" stroke-linecap=\"round\" style=\"stroke:green;stroke-width:4\"/><line x1=\"78.135\" y1=\"143.234\" x2=\"113.49\" y2=\"178.589\" stroke-linecap=\"round\" style=\"stroke:green;stroke-width:4\"/><line x1=\"113.49\" y1=\"178.589\" x2=\"165.452\" y2=\"208.589\" stroke-linecap=\"round\" style=\"stroke:green;stroke-width:4\"/><line x1=\"165.452\" y1=\"208.589\" x2=\"233.067\" y2=\"226.706\" stroke-linecap=\"round\" style=\"stroke:green;stroke-width:4\"/><line x1=\"233.067\" y1=\"226.706\" x2=\"313.067\" y2=\"226.706\" stroke-linecap=\"round\" style=\"stroke:green;stroke-width:4\"/><line x1=\"313.067\" y1=\"226.706\" x2=\"243.785\" y2=\"186.706\" stroke-linecap=\"round\" style=\"stroke:green;stroke-width:4\"/><line x1=\"243.785\" y1=\"186.706\" x2=\"176.17\" y2=\"168.589\" stroke-linecap=\"round\" style=\"stroke:green;stroke-width:4\"/><line x1=\"176.17\" y1=\"168.589\" x2=\"116.17\" y2=\"168.589\" stroke-linecap=\"round\" style=\"stroke:green;stroke-width:4\"/><line x1=\"116.17\" y1=\"168.589\" x2=\"67.874\" y2=\"181.53\" stroke-linecap=\"round\" style=\"stroke:green;stroke-width:4\"/><line x1=\"67.874\" y1=\"181.53\" x2=\"33.233\" y2=\"201.53\" stroke-linecap=\"round\" style=\"stroke:green;stroke-width:4\"/><line x1=\"33.233\" y1=\"201.53\" x2=\"67.874\" y2=\"181.53\" stroke-linecap=\"round\" style=\"stroke:green;stroke-width:4\"/><line x1=\"67.874\" y1=\"181.53\" x2=\"27.874\" y2=\"181.53\" stroke-linecap=\"round\" style=\"stroke:green;stroke-width:4\"/><line x1=\"27.874\" y1=\"181.53\" x2=\"67.874\" y2=\"181.53\" stroke-linecap=\"round\" style=\"stroke:green;stroke-width:4\"/><line x1=\"67.874\" y1=\"181.53\" x2=\"116.17\" y2=\"168.589\" stroke-linecap=\"round\" style=\"stroke:green;stroke-width:4\"/><line x1=\"116.17\" y1=\"168.589\" x2=\"67.874\" y2=\"155.648\" stroke-linecap=\"round\" style=\"stroke:green;stroke-width:4\"/><line x1=\"67.874\" y1=\"155.648\" x2=\"27.874\" y2=\"155.648\" stroke-linecap=\"round\" style=\"stroke:green;stroke-width:4\"/><line x1=\"27.874\" y1=\"155.648\" x2=\"67.874\" y2=\"155.648\" stroke-linecap=\"round\" style=\"stroke:green;stroke-width:4\"/><line x1=\"67.874\" y1=\"155.648\" x2=\"33.233\" y2=\"135.648\" stroke-linecap=\"round\" style=\"stroke:green;stroke-width:4\"/><line x1=\"33.233\" y1=\"135.648\" x2=\"67.874\" y2=\"155.648\" stroke-linecap=\"round\" style=\"stroke:green;stroke-width:4\"/><line x1=\"67.874\" y1=\"155.648\" x2=\"116.17\" y2=\"168.589\" stroke-linecap=\"round\" style=\"stroke:green;stroke-width:4\"/><line x1=\"116.17\" y1=\"168.589\" x2=\"176.17\" y2=\"168.589\" stroke-linecap=\"round\" style=\"stroke:green;stroke-width:4\"/><line x1=\"176.17\" y1=\"168.589\" x2=\"124.208\" y2=\"138.589\" stroke-linecap=\"round\" style=\"stroke:green;stroke-width:4\"/><line x1=\"124.208\" y1=\"138.589\" x2=\"75.912\" y2=\"125.648\" stroke-linecap=\"round\" style=\"stroke:green;stroke-width:4\"/><line x1=\"75.912\" y1=\"125.648\" x2=\"35.912\" y2=\"125.648\" stroke-linecap=\"round\" style=\"stroke:green;stroke-width:4\"/><line x1=\"35.912\" y1=\"125.648\" x2=\"75.912\" y2=\"125.648\" stroke-linecap=\"round\" style=\"stroke:green;stroke-width:4\"/><line x1=\"75.912\" y1=\"125.648\" x2=\"41.271\" y2=\"105.648\" stroke-linecap=\"round\" style=\"stroke:green;stroke-width:4\"/><line x1=\"41.271\" y1=\"105.648\" x2=\"75.912\" y2=\"125.648\" stroke-linecap=\"round\" style=\"stroke:green;stroke-width:4\"/><line x1=\"75.912\" y1=\"125.648\" x2=\"124.208\" y2=\"138.589\" stroke-linecap=\"round\" style=\"stroke:green;stroke-width:4\"/><line x1=\"124.208\" y1=\"138.589\" x2=\"88.853\" y2=\"103.234\" stroke-linecap=\"round\" style=\"stroke:green;stroke-width:4\"/><line x1=\"88.853\" y1=\"103.234\" x2=\"54.212\" y2=\"83.234\" stroke-linecap=\"round\" style=\"stroke:green;stroke-width:4\"/><line x1=\"54.212\" y1=\"83.234\" x2=\"88.853\" y2=\"103.234\" stroke-linecap=\"round\" style=\"stroke:green;stroke-width:4\"/><line x1=\"88.853\" y1=\"103.234\" x2=\"68.853\" y2=\"68.593\" stroke-linecap=\"round\" style=\"stroke:green;stroke-width:4\"/><line x1=\"68.853\" y1=\"68.593\" x2=\"88.853\" y2=\"103.234\" stroke-linecap=\"round\" style=\"stroke:green;stroke-width:4\"/><line x1=\"88.853\" y1=\"103.234\" x2=\"124.208\" y2=\"138.589\" stroke-linecap=\"round\" style=\"stroke:green;stroke-width:4\"/><line x1=\"124.208\" y1=\"138.589\" x2=\"176.17\" y2=\"168.589\" stroke-linecap=\"round\" style=\"stroke:green;stroke-width:4\"/><line x1=\"176.17\" y1=\"168.589\" x2=\"243.785\" y2=\"186.706\" stroke-linecap=\"round\" style=\"stroke:green;stroke-width:4\"/><line x1=\"243.785\" y1=\"186.706\" x2=\"194.288\" y2=\"137.209\" stroke-linecap=\"round\" style=\"stroke:green;stroke-width:4\"/><line x1=\"194.288\" y1=\"137.209\" x2=\"142.326\" y2=\"107.209\" stroke-linecap=\"round\" style=\"stroke:green;stroke-width:4\"/><line x1=\"142.326\" y1=\"107.209\" x2=\"94.03\" y2=\"94.268\" stroke-linecap=\"round\" style=\"stroke:green;stroke-width:4\"/><line x1=\"94.03\" y1=\"94.268\" x2=\"54.03\" y2=\"94.268\" stroke-linecap=\"round\" style=\"stroke:green;stroke-width:4\"/><line x1=\"54.03\" y1=\"94.268\" x2=\"94.03\" y2=\"94.268\" stroke-linecap=\"round\" style=\"stroke:green;stroke-width:4\"/><line x1=\"94.03\" y1=\"94.268\" x2=\"59.389\" y2=\"74.268\" stroke-linecap=\"round\" style=\"stroke:green;stroke-width:4\"/><line x1=\"59.389\" y1=\"74.268\" x2=\"94.03\" y2=\"94.268\" stroke-linecap=\"round\" style=\"stroke:green;stroke-width:4\"/><line x1=\"94.03\" y1=\"94.268\" x2=\"142.326\" y2=\"107.209\" stroke-linecap=\"round\" style=\"stroke:green;stroke-width:4\"/><line x1=\"142.326\" y1=\"107.209\" x2=\"106.971\" y2=\"71.854\" stroke-linecap=\"round\" style=\"stroke:green;stroke-width:4\"/><line x1=\"106.971\" y1=\"71.854\" x2=\"72.33\" y2=\"51.854\" stroke-linecap=\"round\" style=\"stroke:green;stroke-width:4\"/><line x1=\"72.33\" y1=\"51.854\" x2=\"106.971\" y2=\"71.854\" stroke-linecap=\"round\" style=\"stroke:green;stroke-width:4\"/><line x1=\"106.971\" y1=\"71.854\" x2=\"86.971\" y2=\"37.213\" stroke-linecap=\"round\" style=\"stroke:green;stroke-width:4\"/><line x1=\"86.971\" y1=\"37.213\" x2=\"106.971\" y2=\"71.854\" stroke-linecap=\"round\" style=\"stroke:green;stroke-width:4\"/><line x1=\"106.971\" y1=\"71.854\" x2=\"142.326\" y2=\"107.209\" stroke-linecap=\"round\" style=\"stroke:green;stroke-width:4\"/><line x1=\"142.326\" y1=\"107.209\" x2=\"194.288\" y2=\"137.209\" stroke-linecap=\"round\" style=\"stroke:green;stroke-width:4\"/><line x1=\"194.288\" y1=\"137.209\" x2=\"164.288\" y2=\"85.247\" stroke-linecap=\"round\" style=\"stroke:green;stroke-width:4\"/><line x1=\"164.288\" y1=\"85.247\" x2=\"128.933\" y2=\"49.892\" stroke-linecap=\"round\" style=\"stroke:green;stroke-width:4\"/><line x1=\"128.933\" y1=\"49.892\" x2=\"94.292\" y2=\"29.892\" stroke-linecap=\"round\" style=\"stroke:green;stroke-width:4\"/><line x1=\"94.292\" y1=\"29.892\" x2=\"128.933\" y2=\"49.892\" stroke-linecap=\"round\" style=\"stroke:green;stroke-width:4\"/><line x1=\"128.933\" y1=\"49.892\" x2=\"108.933\" y2=\"15.251\" stroke-linecap=\"round\" style=\"stroke:green;stroke-width:4\"/><line x1=\"108.933\" y1=\"15.251\" x2=\"128.933\" y2=\"49.892\" stroke-linecap=\"round\" style=\"stroke:green;stroke-width:4\"/><line x1=\"128.933\" y1=\"49.892\" x2=\"164.288\" y2=\"85.247\" stroke-linecap=\"round\" style=\"stroke:green;stroke-width:4\"/><line x1=\"164.288\" y1=\"85.247\" x2=\"151.347\" y2=\"36.951\" stroke-linecap=\"round\" style=\"stroke:green;stroke-width:4\"/><line x1=\"151.347\" y1=\"36.951\" x2=\"131.347\" y2=\"2.31\" stroke-linecap=\"round\" style=\"stroke:green;stroke-width:4\"/><line x1=\"131.347\" y1=\"2.31\" x2=\"151.347\" y2=\"36.951\" stroke-linecap=\"round\" style=\"stroke:green;stroke-width:4\"/><line x1=\"151.347\" y1=\"36.951\" x2=\"151.347\" y2=\"-3.049\" stroke-linecap=\"round\" style=\"stroke:green;stroke-width:4\"/><line x1=\"151.347\" y1=\"-3.049\" x2=\"151.347\" y2=\"36.951\" stroke-linecap=\"round\" style=\"stroke:green;stroke-width:4\"/><line x1=\"151.347\" y1=\"36.951\" x2=\"164.288\" y2=\"85.247\" stroke-linecap=\"round\" style=\"stroke:green;stroke-width:4\"/><line x1=\"164.288\" y1=\"85.247\" x2=\"194.288\" y2=\"137.209\" stroke-linecap=\"round\" style=\"stroke:green;stroke-width:4\"/><line x1=\"194.288\" y1=\"137.209\" x2=\"243.785\" y2=\"186.706\" stroke-linecap=\"round\" style=\"stroke:green;stroke-width:4\"/><line x1=\"243.785\" y1=\"186.706\" x2=\"313.067\" y2=\"226.706\" stroke-linecap=\"round\" style=\"stroke:green;stroke-width:4\"/><line x1=\"313.067\" y1=\"226.706\" x2=\"400.0\" y2=\"250.0\" stroke-linecap=\"round\" style=\"stroke:green;stroke-width:4\"/><line x1=\"400.0\" y1=\"250.0\" x2=\"500.0\" y2=\"250.0\" stroke-linecap=\"round\" style=\"stroke:green;stroke-width:4\"/>\n",
              "        <g visibility=visible transform=\"rotate(270,500.0,250.0) translate(482.0, 232.0)\">\n",
              "<path style=\" stroke:none;fill-rule:evenodd;fill:green;fill-opacity:1;\" d=\"M 18.214844 0.632812 C 16.109375 1.800781 15.011719 4.074219 15.074219 7.132812 L 15.085938 7.652344 L 14.785156 7.496094 C 13.476562 6.824219 11.957031 6.671875 10.40625 7.066406 C 8.46875 7.550781 6.515625 9.15625 4.394531 11.992188 C 3.0625 13.777344 2.679688 14.636719 3.042969 15.027344 L 3.15625 15.152344 L 3.519531 15.152344 C 4.238281 15.152344 4.828125 14.886719 8.1875 13.039062 C 9.386719 12.378906 10.371094 11.839844 10.378906 11.839844 C 10.386719 11.839844 10.355469 11.929688 10.304688 12.035156 C 9.832031 13.09375 9.257812 14.820312 8.96875 16.078125 C 7.914062 20.652344 8.617188 24.53125 11.070312 27.660156 C 11.351562 28.015625 11.363281 27.914062 10.972656 28.382812 C 8.925781 30.84375 7.945312 33.28125 8.238281 35.1875 C 8.289062 35.527344 8.28125 35.523438 8.917969 35.523438 C 10.941406 35.523438 13.074219 34.207031 15.136719 31.6875 C 15.359375 31.417969 15.328125 31.425781 15.5625 31.574219 C 16.292969 32.042969 18.023438 32.964844 18.175781 32.964844 C 18.335938 32.964844 19.941406 32.210938 20.828125 31.71875 C 20.996094 31.625 21.136719 31.554688 21.136719 31.558594 C 21.203125 31.664062 21.898438 32.414062 22.222656 32.730469 C 23.835938 34.300781 25.5625 35.132812 27.582031 35.300781 C 27.90625 35.328125 27.9375 35.308594 28.007812 34.984375 C 28.382812 33.242188 27.625 30.925781 25.863281 28.425781 L 25.542969 27.96875 L 25.699219 27.785156 C 28.945312 23.960938 29.132812 18.699219 26.257812 11.96875 L 26.207031 11.84375 L 27.945312 12.703125 C 31.53125 14.476562 32.316406 14.800781 33.03125 14.800781 C 33.976562 14.800781 33.78125 13.9375 32.472656 12.292969 C 28.519531 7.355469 25.394531 5.925781 21.921875 7.472656 L 21.558594 7.636719 L 21.578125 7.542969 C 21.699219 6.992188 21.761719 5.742188 21.699219 5.164062 C 21.496094 3.296875 20.664062 1.964844 19.003906 0.855469 C 18.480469 0.503906 18.457031 0.5 18.214844 0.632812\"/>\n",
              "</g>\n",
              "      </svg>\n",
              "    "
            ],
            "text/plain": [
              "<IPython.core.display.HTML object>"
            ]
          },
          "metadata": {}
        }
      ],
      "source": [
        "from ColabTurtle import Turtle \n",
        "\n",
        "def draw_tree(branchLen,t):\n",
        "    \"\"\"\n",
        "    Figure out the tree pattern, then display the recursion tree.\n",
        "    You may have to play/tune with angles/lengths to draw a pretty tree.\n",
        "\n",
        "    :param branchLen: Int -- Length of this branch. Should reduce every recursion. Starting length is 100.\n",
        "    :param t: turtle.Turtle -- Instance of turtle module. We can call turtle functions on this parameter.\n",
        "\n",
        "    :return: Nothing to return\n",
        "    \"\"\"\n",
        "    if branchLen<31:\n",
        "        return\n",
        "    t.forward(branchLen)\n",
        "    t.left(15)\n",
        "    branchLen-=10\n",
        "    draw_tree(branchLen, t)\n",
        "    t.right(30)\n",
        "    draw_tree(branchLen, t)\n",
        "    t.left(15)\n",
        "    branchLen+=10\n",
        "    t.backward(branchLen)\n",
        "    return\n",
        "\n",
        "\n",
        "def main():\n",
        "    Turtle.initializeTurtle(initial_speed=5)\n",
        "    Turtle.left(90)\n",
        "    Turtle.backward(100)\n",
        "    Turtle.color(\"green\")\n",
        "    draw_tree(100,Turtle)    # Drawing tree with branchLen = 100\n",
        "\n",
        "main()"
      ]
    }
  ],
  "metadata": {
    "colab": {
      "collapsed_sections": [],
      "name": "Reci 3 yy4108 Peter Yao“CSCI-SHU 210 Data Structure Recitation 3”的副本",
      "provenance": []
    },
    "kernelspec": {
      "display_name": "Python 3",
      "language": "python",
      "name": "python3"
    },
    "language_info": {
      "codemirror_mode": {
        "name": "ipython",
        "version": 3
      },
      "file_extension": ".py",
      "mimetype": "text/x-python",
      "name": "python",
      "nbconvert_exporter": "python",
      "pygments_lexer": "ipython3",
      "version": "3.8.3"
    }
  },
  "nbformat": 4,
  "nbformat_minor": 0
}