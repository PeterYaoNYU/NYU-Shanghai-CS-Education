{
  "nbformat": 4,
  "nbformat_minor": 0,
  "metadata": {
    "colab": {
      "name": "ds_week3_recursion.ipynb",
      "provenance": [],
      "collapsed_sections": [],
      "toc_visible": true
    },
    "kernelspec": {
      "name": "python3",
      "display_name": "Python 3"
    }
  },
  "cells": [
    {
      "cell_type": "markdown",
      "metadata": {
        "id": "_aid-7mfICOK"
      },
      "source": [
        "# Recursion"
      ]
    },
    {
      "cell_type": "markdown",
      "metadata": {
        "id": "K-K5YwtRzHtO"
      },
      "source": [
        "## Exercise\n",
        "\n",
        "Suppose n is a positive integer, n >= 0.\n",
        "Convert n to its binary representation without using any library function.\n",
        "\n",
        "Hint:\n",
        "* Try to find a pattern of how an original problem of size N is reduced recursively. \n",
        "* What is the the base case?\n",
        "* What is the time complexity in Big-O notation?"
      ]
    },
    {
      "cell_type": "code",
      "metadata": {
        "id": "MwCsBX6vzDU5"
      },
      "source": [
        "# Suppose n is a positive integer, n >= 0 .\n",
        "# Convert n to its binary representation without using any library function.\n",
        "\n",
        "def recursive_decimal_to_binary_str(n):\n",
        "    # To do\n",
        "    pass\n",
        "\n",
        "def main():\n",
        "    print(recursive_decimal_to_binary_str(6)) #110\n",
        "    print(recursive_decimal_to_binary_str(13)) #1101\n",
        "    print(recursive_decimal_to_binary_str(126)) #1111110\n",
        "    print(recursive_decimal_to_binary_str(509)) #111111101\n",
        "\t\n",
        "if __name__ == '__main__':\n",
        "    main()"
      ],
      "execution_count": null,
      "outputs": []
    },
    {
      "cell_type": "markdown",
      "metadata": {
        "id": "rQ7FJIx6zXF0"
      },
      "source": [
        "##Solution:"
      ]
    },
    {
      "cell_type": "markdown",
      "metadata": {
        "id": "x7cL8niM2TDk"
      },
      "source": [
        "* Keep computing the rightmost bit\n",
        "* Reduce n by 2\n",
        "* Base cases are n = 0, 1. Just return str(n)\n",
        "\n",
        "Recurrence formula:\n",
        "* Each function call reduces the problem size by 2, by calling a recursive function, T(n/2)\n",
        "* Each function call takes constant operations, c.\n",
        "\n",
        "Therefore the recurrence formula is:\n",
        "T(n) = T(n/2) + c \\\\\n",
        "     = T(n/$2^2$) + c + c \\\\\n",
        "     = T(n/$2^3$) + c + c + c \\\\\n",
        "     = ... \\\\\n",
        "     = T(n/$2^k$) + k * c \\\\\n",
        "\n",
        "Assuming the recursion takes k steps to arrive at the base case, i.e. T(1).\n",
        "\n",
        "$\n",
        "\\frac{n}{2^k} = 1 \\\\\n",
        "\\implies k = \\log_2(n)\n",
        "$\n",
        "\n",
        "It will take k=log(n) steps. Also, T(1) is O(1).\n",
        "\n",
        "T(n) = O(1) + O(log(n))\n",
        "\n",
        "Therefore, the runtime complexity is O(log(n))."
      ]
    },
    {
      "cell_type": "code",
      "metadata": {
        "id": "Jej8I2SDzYYl",
        "colab": {
          "base_uri": "https://localhost:8080/"
        },
        "outputId": "80e60f52-1497-4983-f541-e7284cd034b1"
      },
      "source": [
        "# Suppose n is a positive integer, n >= 0 .\n",
        "# Convert n to its binary representation without using any library function.\n",
        "\n",
        "def recursive_decimal_to_binary_str(n):\n",
        "    # base case\n",
        "    if n == 0 or n == 1:\n",
        "      return str(n)\n",
        "\n",
        "    # n&1 is the right-most bit 0/1\n",
        "    # both ways would work. Bit operators are faster\n",
        "    #return recursive_decimal_to_binary_str(n // 2) + str(n%2)\n",
        "    return recursive_decimal_to_binary_str(n >> 1) + str(n&1)\n",
        "\n",
        "def main():\n",
        "    print(recursive_decimal_to_binary_str(6)) #110\n",
        "    print(recursive_decimal_to_binary_str(13)) #1101\n",
        "    print(recursive_decimal_to_binary_str(126)) #1111110\n",
        "    print(recursive_decimal_to_binary_str(509)) #111111101\n",
        "\t\n",
        "if __name__ == '__main__':\n",
        "    main()"
      ],
      "execution_count": 1,
      "outputs": [
        {
          "output_type": "stream",
          "name": "stdout",
          "text": [
            "110\n",
            "1101\n",
            "1111110\n",
            "111111101\n"
          ]
        }
      ]
    },
    {
      "cell_type": "code",
      "metadata": {
        "id": "Kfvz-z2L2Gqu"
      },
      "source": [
        ""
      ],
      "execution_count": null,
      "outputs": []
    }
  ]
}