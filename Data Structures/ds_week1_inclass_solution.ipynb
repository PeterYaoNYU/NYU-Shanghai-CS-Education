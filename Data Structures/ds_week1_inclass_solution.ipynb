{
  "cells": [
    {
      "cell_type": "markdown",
      "metadata": {
        "id": "5nTtii7S18Aq"
      },
      "source": [
        "# Data Structures, CSCI-SHU 210\n",
        "# Week 1: Introduction"
      ]
    },
    {
      "cell_type": "markdown",
      "metadata": {
        "id": "BNs0eLyg8lXZ"
      },
      "source": []
    },
    {
      "cell_type": "markdown",
      "metadata": {},
      "source": []
    },
    {
      "cell_type": "markdown",
      "metadata": {},
      "source": [
        "## Coding question\n",
        "Say you have a list for which the ith element is the price of a given stock on day i.\n",
        "If you were only permitted to complete at most one transaction (ie, buy one and sell one share of the stock), design an algorithm to find the maximum profit.\n",
        "\n",
        "recitation tutoring:\n",
        "suppose i know that the maximum profit i can make from some days will be p, and then i increment my input size by one, then it is natural for me to keep track of the min buying price,\n",
        "keep track of two variables: maximum profit and minimum buying price\n",
        "p[0,6]=max(p[0,5],s-b)\n",
        "s is the price at the sixth day\n",
        "then i can solve this question in linear time. math induction"
      ]
    },
    {
      "cell_type": "markdown",
      "metadata": {
        "id": "uBrOiPUWNshn"
      },
      "source": [
        "### Solution 1"
      ]
    },
    {
      "cell_type": "code",
      "execution_count": 2,
      "metadata": {
        "colab": {
          "base_uri": "https://localhost:8080/"
        },
        "id": "Qa0Q50YYQMB9",
        "outputId": "e61aef49-a04b-42fa-974d-09afb59eec98"
      },
      "outputs": [
        {
          "name": "stdout",
          "output_type": "stream",
          "text": [
            "9\n",
            "0\n",
            "9\n",
            "0\n"
          ]
        }
      ],
      "source": [
        "def find_max_profit0(lissy):\n",
        "  max_profit = 0\n",
        "  for i in range(len(lissy)):\n",
        "    for j in range(i, len(lissy)):\n",
        "      profit = lissy[j] - lissy[i]\n",
        "      if profit > max_profit:\n",
        "        max_profit = profit\n",
        "  return max_profit\n",
        "  \n",
        "print(find_max_profit0([7,1,5,3,6,4,10]))\n",
        "print(find_max_profit0([7,6,4,3,2,1]))\n",
        "\n",
        "def find_max_profit1(lissy):\n",
        "  profit=0\n",
        "  min_p=lissy[0]\n",
        "  for i in lissy:\n",
        "    profit=max(profit, i-min_p)\n",
        "    min_p=min(min_p,i)\n",
        "  return profit\n",
        "    \n",
        "    \n",
        "print(find_max_profit1([7,1,5,3,6,4,10]))\n",
        "print(find_max_profit1([7,6,4,3,2,1]))\n"
      ]
    },
    {
      "cell_type": "code",
      "execution_count": null,
      "metadata": {},
      "outputs": [],
      "source": []
    },
    {
      "cell_type": "markdown",
      "metadata": {
        "id": "WdLOYtOOS4yU"
      },
      "source": [
        "### Solution 2\n",
        "\n",
        "Idea: Intuitively, we want to buy at a minimum point and sell at a maximum.\n",
        "\n",
        "For example, if we buy at \\$10 on day 1 and the price is \\$15 on day 2. we can immediately eliminate the possiblity to buy on day 2 since the price on day 1 is lower. If the price on day 2 is lower, then buying at the day-2 price may have a potential to yield a better profit compared to the current max profit so far (We need to compare them in a For loop.)\n",
        "\n",
        "Therefore, a single For-loop is sufficient for this problem."
      ]
    },
    {
      "cell_type": "code",
      "execution_count": null,
      "metadata": {
        "colab": {
          "base_uri": "https://localhost:8080/"
        },
        "id": "dfoxqoh75oUG",
        "outputId": "30894cb1-ef13-48e0-d90f-d410167b5460"
      },
      "outputs": [
        {
          "name": "stdout",
          "output_type": "stream",
          "text": [
            "13\n",
            "0\n"
          ]
        }
      ],
      "source": [
        "def find_max_profit(price):\n",
        "  buy_price = price[0]\n",
        "  best_buy_price, best_sell_price = buy_price, buy_price\n",
        "  max_profit = 0\n",
        "  for cur_price in price:\n",
        "    cur_profit = cur_price - buy_price\n",
        "    if max_profit < cur_profit:\n",
        "      # update\n",
        "      max_profit = cur_profit\n",
        "      best_buy_price, best_sell_price = buy_price, cur_price\n",
        "    # look for potential minimum price to buy\n",
        "    if cur_price < buy_price:\n",
        "      buy_price = cur_price\n",
        "  return max_profit\n",
        "  \n",
        "print(find_max_profit([7,1,5,3,1,6,4,14]))\n",
        "print(find_max_profit([7,6,5,4,3,2,1]))"
      ]
    },
    {
      "cell_type": "markdown",
      "metadata": {
        "id": "IBP8bPPd3znF"
      },
      "source": [
        "## Coding question\n",
        "Given an array of integers, every element appears twice except the one. Find that single one."
      ]
    },
    {
      "cell_type": "markdown",
      "metadata": {
        "id": "jvm5JIAaLbFr"
      },
      "source": [
        "### Idea: Use XOR. \n",
        "\n",
        "* XOR of an element twice will give 0. \n",
        "* If an element appears once, it will remain in the output. \n",
        "* XOR is commutative. Permuting the input order does not affect the final result.\n",
        "\n",
        "recitation instructor:\n",
        "xor operator satisfies associativity and commutivity.\n",
        "all the same number will be cancelled out and the whole thing will remain three.\n"
      ]
    },
    {
      "cell_type": "code",
      "execution_count": null,
      "metadata": {
        "colab": {
          "base_uri": "https://localhost:8080/"
        },
        "id": "IrMlp651em2L",
        "outputId": "df62d345-eb29-4e21-8e15-a2c86d410f2e"
      },
      "outputs": [
        {
          "name": "stdout",
          "output_type": "stream",
          "text": [
            "100\n"
          ]
        }
      ],
      "source": [
        "data = [7,3,1,5,3,6,4,7,1,5,6,4,100]\n",
        "\n",
        "r = 0\n",
        "for x in data:\n",
        "  r ^= x\n",
        "print(r)"
      ]
    },
    {
      "cell_type": "markdown",
      "metadata": {},
      "source": [
        "beaware of while loop going into infinite\n",
        "return is encouraged\n",
        "python list is passed by reference in a python function\n",
        "genrators:\n",
        "iterable obejects vs. iterators\n",
        "iterator: sth that you create from an interable"
      ]
    },
    {
      "cell_type": "code",
      "execution_count": 12,
      "metadata": {},
      "outputs": [
        {
          "name": "stdout",
          "output_type": "stream",
          "text": [
            "<tuple_iterator object at 0x7faaf8bc8340>\n",
            "apple\n",
            "banana\n",
            "\n",
            "cherry\n"
          ]
        }
      ],
      "source": [
        "mytuple=('apple', 'banana', 'cherry')\n",
        "myit=iter(mytuple) # to create an iterator\n",
        "\n",
        "\n",
        "print(myit)\n",
        "print(next(myit))\n",
        "print(next(myit))\n",
        "# print(next(myit))\n",
        "# print(next(myit))\n",
        "# print(next(myit))\n",
        "print()\n",
        "\n",
        "# for loop can also be applied to an iterator\n",
        "for each in myit:\n",
        "    print(each)\n"
      ]
    },
    {
      "cell_type": "markdown",
      "metadata": {},
      "source": [
        "using a generator is a piece of code which looks like a function\n",
        "calling the generator function gives you an iterator\n",
        "advantage: store an infinite number of numbers\n",
        "this is a generator, it records where you stop on the previous time\n",
        "then it waits for your next call\n",
        "think of yield as a stop button\n"
      ]
    },
    {
      "cell_type": "code",
      "execution_count": 14,
      "metadata": {},
      "outputs": [
        {
          "name": "stdout",
          "output_type": "stream",
          "text": [
            "<class 'generator'>\n",
            "1 3\n"
          ]
        }
      ],
      "source": [
        "def factors(n):\n",
        "    for k in range(1, n+1):\n",
        "        if n% k==0:\n",
        "            yield k\n",
        "# this is a generator, it records where you stop on the previous time\n",
        "# then it waits for your next call\n",
        "# think of yield as a stop button\n",
        "\n",
        "\n",
        "fac15=factors(15)\n",
        "print(type(fac15))\n",
        "print(next(fac15), next(fac15))"
      ]
    },
    {
      "cell_type": "markdown",
      "metadata": {},
      "source": [
        "## simultaenous assignments is allowed, no need for temoporary space\n",
        "## OOP\n",
        "__init__ this is called a constructor\n",
        "## 嵌套式的function？？？？\n",
        "## private varibales????\n",
        "## difference between __repr__ and __str__ ?\n",
        "__repr__ is more coder friendly\n",
        "\n",
        "\n",
        "small underscore before attributes\n",
        "magic functions: operator overload\n",
        "__iadd__ stands for +=\n",
        "__str__ stands for \n",
        "pizza1.__str__() is the same as str(pizza)\n",
        "whenever we print, we implicitly called str function\n",
        "\n",
        "super.__init__(netid, sec)\n",
        "stands for the first class in the inheritance\n",
        "\n",
        "## define an inner class inside a class and that is allowed\n",
        "iterable is any class which has __len__ and __getitem__ defined \n",
        "as long as you have these two functions defined within a class, you can have your own iterable\n",
        "\n",
        "iterator is a class which has a __next__ method defined within it\n",
        "\n",
        "we can create an iterator by 1, using a generator 2, iter(iterable) 3, define __next__(self) and __iter__(self) within the class\n",
        "\n",
        "for x in A is implemented this way in python\n",
        "1. check if A is itrator( if yes go to step 3, if no continue to step 2)\n",
        "2. A=iter(A)\n",
        "3. x=next(A)\n",
        "the for loop simply automates this process\n",
        "\n",
        "that is the reason why we need this __iter__ function defined\n",
        "\n",
        "\n",
        "\n"
      ]
    },
    {
      "cell_type": "code",
      "execution_count": 50,
      "metadata": {},
      "outputs": [
        {
          "name": "stdout",
          "output_type": "stream",
          "text": [
            "1\n",
            "2\n",
            "4\n",
            "5\n",
            "10\n"
          ]
        }
      ],
      "source": [
        "def generator_practice(n):\n",
        "    for i in range(1, n+1):\n",
        "        if n%i==0:\n",
        "            yield i\n",
        "\n",
        "testing=generator_practice(20)\n",
        "print(next(testing))\n",
        "print(next(testing))\n",
        "print(next(testing))\n",
        "print(next(testing))\n",
        "print(next(testing))\n"
      ]
    },
    {
      "cell_type": "code",
      "execution_count": 65,
      "metadata": {},
      "outputs": [
        {
          "name": "stdout",
          "output_type": "stream",
          "text": [
            "[2, 3, 3, 4, 6]\n"
          ]
        }
      ],
      "source": [
        "def insertion_sort(lissy):\n",
        "    for i in range(1,len(lissy)):\n",
        "        j=i-1\n",
        "        temp=lissy[i]\n",
        "        while j>=0 and lissy[j]>temp:\n",
        "            lissy[j+1]=lissy[j]\n",
        "            j-=1\n",
        "        lissy[j+1]=temp\n",
        "    return lissy\n",
        "        \n",
        "        \n",
        "    # for i in range(len(lissy),-1,-1):\n",
        "    #     key=lissy[i]\n",
        "    #     temp=i-1\n",
        "    #     while temp>=0 and lissy[temp]>key:\n",
        "    #         lissy[temp+1]=lissy[temp]\n",
        "    #         temp-=1\n",
        "    #     lissy[temp+1]=key\n",
        "    # return lissy\n",
        "\n",
        "print(insertion_sort([4,3,6,2,3]))\n",
        "    "
      ]
    },
    {
      "cell_type": "code",
      "execution_count": null,
      "metadata": {},
      "outputs": [],
      "source": []
    }
  ],
  "metadata": {
    "colab": {
      "collapsed_sections": [
        "uBrOiPUWNshn"
      ],
      "name": "ds_week1_inclass_solution.ipynb",
      "provenance": []
    },
    "kernelspec": {
      "display_name": "Python 3",
      "name": "python3"
    },
    "language_info": {
      "codemirror_mode": {
        "name": "ipython",
        "version": 3
      },
      "file_extension": ".py",
      "mimetype": "text/x-python",
      "name": "python",
      "nbconvert_exporter": "python",
      "pygments_lexer": "ipython3",
      "version": "3.8.8"
    }
  },
  "nbformat": 4,
  "nbformat_minor": 0
}
