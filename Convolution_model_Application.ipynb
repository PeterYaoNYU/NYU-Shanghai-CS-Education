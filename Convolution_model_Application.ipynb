{
 "cells": [
  {
   "cell_type": "markdown",
   "metadata": {},
   "source": [
    "# Convolutional Neural Networks: Application\n",
    "\n",
    "Welcome to Course 4's second assignment! In this notebook, you will:\n",
    "\n",
    "- Create a mood classifer using the TF Keras Sequential API\n",
    "- Build a ConvNet to identify sign language digits using the TF Keras Functional API\n",
    "\n",
    "**After this assignment you will be able to:**\n",
    "\n",
    "- Build and train a ConvNet in TensorFlow for a __binary__ classification problem\n",
    "- Build and train a ConvNet in TensorFlow for a __multiclass__ classification problem\n",
    "- Explain different use cases for the Sequential and Functional APIs\n",
    "\n",
    "To complete this assignment, you should already be familiar with TensorFlow. If you are not, please refer back to the **TensorFlow Tutorial** of the third week of Course 2 (\"**Improving deep neural networks**\").\n",
    "\n",
    "## Important Note on Submission to the AutoGrader\n",
    "\n",
    "Before submitting your assignment to the AutoGrader, please make sure you are not doing the following:\n",
    "\n",
    "1. You have not added any _extra_ `print` statement(s) in the assignment.\n",
    "2. You have not added any _extra_ code cell(s) in the assignment.\n",
    "3. You have not changed any of the function parameters.\n",
    "4. You are not using any global variables inside your graded exercises. Unless specifically instructed to do so, please refrain from it and use the local variables instead.\n",
    "5. You are not changing the assignment code where it is not required, like creating _extra_ variables.\n",
    "\n",
    "If you do any of the following, you will get something like, `Grader not found` (or similarly unexpected) error upon submitting your assignment. Before asking for help/debugging the errors in your assignment, check for these first. If this is the case, and you don't remember the changes you have made, you can get a fresh copy of the assignment by following these [instructions](https://www.coursera.org/learn/convolutional-neural-networks/supplement/DS4yP/h-ow-to-refresh-your-workspace)."
   ]
  },
  {
   "cell_type": "markdown",
   "metadata": {},
   "source": [
    "## Table of Contents\n",
    "\n",
    "- [1 - Packages](#1)\n",
    "    - [1.1 - Load the Data and Split the Data into Train/Test Sets](#1-1)\n",
    "- [2 - Layers in TF Keras](#2)\n",
    "- [3 - The Sequential API](#3)\n",
    "    - [3.1 - Create the Sequential Model](#3-1)\n",
    "        - [Exercise 1 - happyModel](#ex-1)\n",
    "    - [3.2 - Train and Evaluate the Model](#3-2)\n",
    "- [4 - The Functional API](#4)\n",
    "    - [4.1 - Load the SIGNS Dataset](#4-1)\n",
    "    - [4.2 - Split the Data into Train/Test Sets](#4-2)\n",
    "    - [4.3 - Forward Propagation](#4-3)\n",
    "        - [Exercise 2 - convolutional_model](#ex-2)\n",
    "    - [4.4 - Train the Model](#4-4)\n",
    "- [5 - History Object](#5)\n",
    "- [6 - Bibliography](#6)"
   ]
  },
  {
   "cell_type": "markdown",
   "metadata": {},
   "source": [
    "<a name='1'></a>\n",
    "## 1 - Packages\n",
    "\n",
    "As usual, begin by loading in the packages."
   ]
  },
  {
   "cell_type": "code",
   "execution_count": 19,
   "metadata": {},
   "outputs": [],
   "source": [
    "import math\n",
    "import numpy as np\n",
    "import h5py\n",
    "import matplotlib.pyplot as plt\n",
    "from matplotlib.pyplot import imread\n",
    "import scipy\n",
    "from PIL import Image\n",
    "import pandas as pd\n",
    "import tensorflow as tf\n",
    "import tensorflow.keras.layers as tfl\n",
    "from tensorflow.python.framework import ops\n",
    "from cnn_utils import *\n",
    "from test_utils import summary, comparator\n",
    "\n",
    "%matplotlib inline\n",
    "np.random.seed(1)"
   ]
  },
  {
   "cell_type": "markdown",
   "metadata": {},
   "source": [
    "<a name='1-1'></a>\n",
    "### 1.1 - Load the Data and Split the Data into Train/Test Sets\n",
    "\n",
    "You'll be using the Happy House dataset for this part of the assignment, which contains images of peoples' faces. Your task will be to build a ConvNet that determines whether the people in the images are smiling or not -- because they only get to enter the house if they're smiling!  "
   ]
  },
  {
   "cell_type": "code",
   "execution_count": 20,
   "metadata": {},
   "outputs": [
    {
     "name": "stdout",
     "output_type": "stream",
     "text": [
      "number of training examples = 600\n",
      "number of test examples = 150\n",
      "X_train shape: (600, 64, 64, 3)\n",
      "Y_train shape: (600, 1)\n",
      "X_test shape: (150, 64, 64, 3)\n",
      "Y_test shape: (150, 1)\n"
     ]
    }
   ],
   "source": [
    "X_train_orig, Y_train_orig, X_test_orig, Y_test_orig, classes = load_happy_dataset()\n",
    "\n",
    "# Normalize image vectors\n",
    "X_train = X_train_orig/255.\n",
    "X_test = X_test_orig/255.\n",
    "\n",
    "# Reshape\n",
    "Y_train = Y_train_orig.T\n",
    "Y_test = Y_test_orig.T\n",
    "\n",
    "print (\"number of training examples = \" + str(X_train.shape[0]))\n",
    "print (\"number of test examples = \" + str(X_test.shape[0]))\n",
    "print (\"X_train shape: \" + str(X_train.shape))\n",
    "print (\"Y_train shape: \" + str(Y_train.shape))\n",
    "print (\"X_test shape: \" + str(X_test.shape))\n",
    "print (\"Y_test shape: \" + str(Y_test.shape))"
   ]
  },
  {
   "cell_type": "markdown",
   "metadata": {},
   "source": [
    "You can display the images contained in the dataset. Images are **64x64** pixels in RGB format (3 channels)."
   ]
  },
  {
   "cell_type": "code",
   "execution_count": 21,
   "metadata": {},
   "outputs": [
    {
     "data": {
      "image/png": "[encoded data removed]",
      "text/plain": [
       "<Figure size 432x288 with 1 Axes>"
      ]
     },
     "metadata": {
      "needs_background": "light"
     },
     "output_type": "display_data"
    }
   ],
   "source": [
    "index = 124\n",
    "plt.imshow(X_train_orig[index]) #display sample training image\n",
    "plt.show()"
   ]
  },
  {
   "cell_type": "markdown",
   "metadata": {},
   "source": [
    "<a name='2'></a>\n",
    "## 2 - Layers in TF Keras \n",
    "\n",
    "In the previous assignment, you created layers manually in numpy. In TF Keras, you don't have to write code directly to create layers. Rather, TF Keras has pre-defined layers you can use. \n",
    "\n",
    "When you create a layer in TF Keras, you are creating a function that takes some input and transforms it into an output you can reuse later. Nice and easy! "
   ]
  },
  {
   "cell_type": "markdown",
   "metadata": {},
   "source": [
    "<a name='3'></a>\n",
    "## 3 - The Sequential API\n",
    "\n",
    "In the previous assignment, you built helper functions using `numpy` to understand the mechanics behind convolutional neural networks. Most practical applications of deep learning today are built using programming frameworks, which have many built-in functions you can simply call. Keras is a high-level abstraction built on top of TensorFlow, which allows for even more simplified and optimized model creation and training. \n",
    "\n",
    "For the first part of this assignment, you'll create a model using TF Keras' Sequential API, which allows you to build layer by layer, and is ideal for building models where each layer has **exactly one** input tensor and **one** output tensor. \n",
    "\n",
    "As you'll see, using the Sequential API is simple and straightforward, but is only appropriate for simpler, more straightforward tasks. Later in this notebook you'll spend some time building with a more flexible, powerful alternative: the Functional API. \n",
    " "
   ]
  },
  {
   "cell_type": "markdown",
   "metadata": {},
   "source": [
    "<a name='3-1'></a>\n",
    "### 3.1 - Create the Sequential Model\n",
    "\n",
    "As mentioned earlier, the TensorFlow Keras Sequential API can be used to build simple models with layer operations that proceed in a sequential order. \n",
    "\n",
    "You can also add layers incrementally to a Sequential model with the `.add()` method, or remove them using the `.pop()` method, much like you would in a regular Python list.\n",
    "\n",
    "Actually, you can think of a Sequential model as behaving like a list of layers. Like Python lists, Sequential layers are ordered, and the order in which they are specified matters.  If your model is non-linear or contains layers with multiple inputs or outputs, a Sequential model wouldn't be the right choice!\n",
    "\n",
    "For any layer construction in Keras, you'll need to specify the input shape in advance. This is because in Keras, the shape of the weights is based on the shape of the inputs. The weights are only created when the model first sees some input data. Sequential models can be created by passing a list of layers to the Sequential constructor, like you will do in the next assignment.\n",
    "\n",
    "<a name='ex-1'></a>\n",
    "### Exercise 1 - happyModel\n",
    "\n",
    "Implement the `happyModel` function below to build the following model: `ZEROPAD2D -> CONV2D -> BATCHNORM -> RELU -> MAXPOOL -> FLATTEN -> DENSE`. Take help from [tf.keras.layers](https://www.tensorflow.org/api_docs/python/tf/keras/layers) \n",
    "\n",
    "Also, plug in the following parameters for all the steps:\n",
    "\n",
    " - [ZeroPadding2D](https://www.tensorflow.org/api_docs/python/tf/keras/layers/ZeroPadding2D): padding 3, input shape 64 x 64 x 3\n",
    " - [Conv2D](https://www.tensorflow.org/api_docs/python/tf/keras/layers/Conv2D): Use 32 7x7 filters, stride 1\n",
    " - [BatchNormalization](https://www.tensorflow.org/api_docs/python/tf/keras/layers/BatchNormalization): for axis 3\n",
    " - [ReLU](https://www.tensorflow.org/api_docs/python/tf/keras/layers/ReLU)\n",
    " - [MaxPool2D](https://www.tensorflow.org/api_docs/python/tf/keras/layers/MaxPool2D): Using default parameters\n",
    " - [Flatten](https://www.tensorflow.org/api_docs/python/tf/keras/layers/Flatten) the previous output.\n",
    " - Fully-connected ([Dense](https://www.tensorflow.org/api_docs/python/tf/keras/layers/Dense)) layer: Apply a fully connected layer with 1 neuron and a sigmoid activation. \n",
    " \n",
    " \n",
    " **Hint:**\n",
    " \n",
    " Use **tfl** as shorthand for **tensorflow.keras.layers**"
   ]
  },
  {
   "cell_type": "code",
   "execution_count": 22,
   "metadata": {
    "deletable": false,
    "nbgrader": {
     "cell_type": "code",
     "checksum": "95d28b191f257bdd5b70c7b8952559d5",
     "grade": false,
     "grade_id": "cell-0e56d3fc28b69aec",
     "locked": false,
     "schema_version": 3,
     "solution": true,
     "task": false
    }
   },
   "outputs": [],
   "source": [
    "# GRADED FUNCTION: happyModel\n",
    "\n",
    "def happyModel():\n",
    "    \"\"\"\n",
    "    Implements the forward propagation for the binary classification model:\n",
    "    ZEROPAD2D -> CONV2D -> BATCHNORM -> RELU -> MAXPOOL -> FLATTEN -> DENSE\n",
    "    \n",
    "    Note that for simplicity and grading purposes, you'll hard-code all the values\n",
    "    such as the stride and kernel (filter) sizes. \n",
    "    Normally, functions should take these values as function parameters.\n",
    "    \n",
    "    Arguments:\n",
    "    None\n",
    "\n",
    "    Returns:\n",
    "    model -- TF Keras model (object containing the information for the entire training process) \n",
    "    \"\"\"\n",
    "#     X_input=tf.keras.Input(shape=(64, 64,3))\n",
    "    model = tf.keras.Sequential([\n",
    "            ## ZeroPadding2D with padding 3, input shape of 64 x 64 x 3\n",
    "        tfl.ZeroPadding2D(padding=(3,3), input_shape=(64, 64, 3), data_format=\"channels_last\"),\n",
    "            \n",
    "            ## Conv2D with 32 7x7 filters and stride of 1\n",
    "        tfl.Conv2D(filters=32, kernel_size=(7, 7), strides=(1, 1), input_shape=(70, 70, 3)),\n",
    "            \n",
    "            ## BatchNormalization for axis 3\n",
    "        tfl.BatchNormalization(axis=3),\n",
    "            \n",
    "        \n",
    "            ## ReLU\n",
    "        tfl.ReLU(),\n",
    "            \n",
    "            ## Max Pooling 2D with default parameters\n",
    "        tfl.MaxPool2D(),\n",
    "            \n",
    "            ## Flatten layer\n",
    "        tfl.Flatten(),\n",
    "            ## Dense layer with 1 unit for output & 'sigmoid' activation\n",
    "        tfl.Dense(units=1, activation='sigmoid'),\n",
    "            # YOUR CODE STARTS HERE\n",
    "            \n",
    "            \n",
    "            # YOUR CODE ENDS HERE\n",
    "        ])\n",
    "    \n",
    "    return model"
   ]
  },
  {
   "cell_type": "code",
   "execution_count": 23,
   "metadata": {
    "deletable": false,
    "editable": false,
    "nbgrader": {
     "cell_type": "code",
     "checksum": "8d3575c950e2e78149be2d05d671c80d",
     "grade": true,
     "grade_id": "cell-e3e1046e5c33d775",
     "locked": true,
     "points": 10,
     "schema_version": 3,
     "solution": false,
     "task": false
    }
   },
   "outputs": [
    {
     "name": "stdout",
     "output_type": "stream",
     "text": [
      "['ZeroPadding2D', (None, 70, 70, 3), 0, ((3, 3), (3, 3))]\n",
      "['Conv2D', (None, 64, 64, 32), 4736, 'valid', 'linear', 'GlorotUniform']\n",
      "['BatchNormalization', (None, 64, 64, 32), 128]\n",
      "['ReLU', (None, 64, 64, 32), 0]\n",
      "['MaxPooling2D', (None, 32, 32, 32), 0, (2, 2), (2, 2), 'valid']\n",
      "['Flatten', (None, 32768), 0]\n",
      "['Dense', (None, 1), 32769, 'sigmoid']\n",
      "\u001b[32mAll tests passed!\u001b[0m\n"
     ]
    }
   ],
   "source": [
    "happy_model = happyModel()\n",
    "# Print a summary for each layer\n",
    "for layer in summary(happy_model):\n",
    "    print(layer)\n",
    "    \n",
    "output = [['ZeroPadding2D', (None, 70, 70, 3), 0, ((3, 3), (3, 3))],\n",
    "            ['Conv2D', (None, 64, 64, 32), 4736, 'valid', 'linear', 'GlorotUniform'],\n",
    "            ['BatchNormalization', (None, 64, 64, 32), 128],\n",
    "            ['ReLU', (None, 64, 64, 32), 0],\n",
    "            ['MaxPooling2D', (None, 32, 32, 32), 0, (2, 2), (2, 2), 'valid'],\n",
    "            ['Flatten', (None, 32768), 0],\n",
    "            ['Dense', (None, 1), 32769, 'sigmoid']]\n",
    "    \n",
    "comparator(summary(happy_model), output)"
   ]
  },
  {
   "cell_type": "markdown",
   "metadata": {},
   "source": [
    "Now that your model is created, you can compile it for training with an optimizer and loss of your choice. When the string `accuracy` is specified as a metric, the type of accuracy used will be automatically converted based on the loss function used. This is one of the many optimizations built into TensorFlow that make your life easier! If you'd like to read more on how the compiler operates, check the docs [here](https://www.tensorflow.org/api_docs/python/tf/keras/Model#compile)."
   ]
  },
  {
   "cell_type": "code",
   "execution_count": 24,
   "metadata": {},
   "outputs": [],
   "source": [
    "happy_model.compile(optimizer='adam',\n",
    "                   loss='binary_crossentropy',\n",
    "                   metrics=['accuracy'])"
   ]
  },
  {
   "cell_type": "markdown",
   "metadata": {},
   "source": [
    "It's time to check your model's parameters with the `.summary()` method. This will display the types of layers you have, the shape of the outputs, and how many parameters are in each layer. "
   ]
  },
  {
   "cell_type": "code",
   "execution_count": 25,
   "metadata": {},
   "outputs": [
    {
     "name": "stdout",
     "output_type": "stream",
     "text": [
      "Model: \"sequential_1\"\n",
      "_________________________________________________________________\n",
      "Layer (type)                 Output Shape              Param #   \n",
      "=================================================================\n",
      "zero_padding2d_1 (ZeroPaddin (None, 70, 70, 3)         0         \n",
      "_________________________________________________________________\n",
      "conv2d_1 (Conv2D)            (None, 64, 64, 32)        4736      \n",
      "_________________________________________________________________\n",
      "batch_normalization_1 (Batch (None, 64, 64, 32)        128       \n",
      "_________________________________________________________________\n",
      "re_lu_1 (ReLU)               (None, 64, 64, 32)        0         \n",
      "_________________________________________________________________\n",
      "max_pooling2d_1 (MaxPooling2 (None, 32, 32, 32)        0         \n",
      "_________________________________________________________________\n",
      "flatten_1 (Flatten)          (None, 32768)             0         \n",
      "_________________________________________________________________\n",
      "dense_1 (Dense)              (None, 1)                 32769     \n",
      "=================================================================\n",
      "Total params: 37,633\n",
      "Trainable params: 37,569\n",
      "Non-trainable params: 64\n",
      "_________________________________________________________________\n"
     ]
    }
   ],
   "source": [
    "happy_model.summary()"
   ]
  },
  {
   "cell_type": "markdown",
   "metadata": {},
   "source": [
    "<a name='3-2'></a>\n",
    "### 3.2 - Train and Evaluate the Model\n",
    "\n",
    "After creating the model, compiling it with your choice of optimizer and loss function, and doing a sanity check on its contents, you are now ready to build! \n",
    "\n",
    "Simply call `.fit()` to train. That's it! No need for mini-batching, saving, or complex backpropagation computations. That's all been done for you, as you're using a TensorFlow dataset with the batches specified already. You do have the option to specify epoch number or minibatch size if you like (for example, in the case of an un-batched dataset)."
   ]
  },
  {
   "cell_type": "code",
   "execution_count": 26,
   "metadata": {},
   "outputs": [
    {
     "name": "stdout",
     "output_type": "stream",
     "text": [
      "Epoch 1/10\n",
      "38/38 [==============================] - 4s 100ms/step - loss: 0.7958 - accuracy: 0.7667\n",
      "Epoch 2/10\n",
      "38/38 [==============================] - 4s 95ms/step - loss: 0.2868 - accuracy: 0.8917\n",
      "Epoch 3/10\n",
      "38/38 [==============================] - 4s 97ms/step - loss: 0.1341 - accuracy: 0.9333\n",
      "Epoch 4/10\n",
      "38/38 [==============================] - 4s 97ms/step - loss: 0.1251 - accuracy: 0.9633\n",
      "Epoch 5/10\n",
      "38/38 [==============================] - 4s 97ms/step - loss: 0.1071 - accuracy: 0.9633\n",
      "Epoch 6/10\n",
      "38/38 [==============================] - 4s 97ms/step - loss: 0.1006 - accuracy: 0.9667\n",
      "Epoch 7/10\n",
      "38/38 [==============================] - 4s 97ms/step - loss: 0.1002 - accuracy: 0.9550\n",
      "Epoch 8/10\n",
      "38/38 [==============================] - 4s 97ms/step - loss: 0.0645 - accuracy: 0.9800\n",
      "Epoch 9/10\n",
      "38/38 [==============================] - 4s 97ms/step - loss: 0.0656 - accuracy: 0.9733\n",
      "Epoch 10/10\n",
      "38/38 [==============================] - 4s 98ms/step - loss: 0.0557 - accuracy: 0.9800\n"
     ]
    },
    {
     "data": {
      "text/plain": [
       "<tensorflow.python.keras.callbacks.History at 0x7f26b990d110>"
      ]
     },
     "execution_count": 26,
     "metadata": {},
     "output_type": "execute_result"
    }
   ],
   "source": [
    "happy_model.fit(X_train, Y_train, epochs=10, batch_size=16)"
   ]
  },
  {
   "cell_type": "markdown",
   "metadata": {},
   "source": [
    "After that completes, just use `.evaluate()` to evaluate against your test set. This function will print the value of the loss function and the performance metrics specified during the compilation of the model. In this case, the `binary_crossentropy` and the `accuracy` respectively."
   ]
  },
  {
   "cell_type": "code",
   "execution_count": 27,
   "metadata": {},
   "outputs": [
    {
     "name": "stdout",
     "output_type": "stream",
     "text": [
      "5/5 [==============================] - 0s 35ms/step - loss: 0.1296 - accuracy: 0.9533\n"
     ]
    },
    {
     "data": {
      "text/plain": [
       "[0.12955103814601898, 0.95333331823349]"
      ]
     },
     "execution_count": 27,
     "metadata": {},
     "output_type": "execute_result"
    }
   ],
   "source": [
    "happy_model.evaluate(X_test, Y_test)"
   ]
  },
  {
   "cell_type": "markdown",
   "metadata": {},
   "source": [
    "Easy, right? But what if you need to build a model with shared layers, branches, or multiple inputs and outputs? This is where Sequential, with its beautifully simple yet limited functionality, won't be able to help you. \n",
    "\n",
    "Next up: Enter the Functional API, your slightly more complex, highly flexible friend.  "
   ]
  },
  {
   "cell_type": "markdown",
   "metadata": {},
   "source": [
    "<a name='4'></a>\n",
    "## 4 - The Functional API"
   ]
  },
  {
   "cell_type": "markdown",
   "metadata": {},
   "source": [
    "Welcome to the second half of the assignment, where you'll use Keras' flexible [Functional API](https://www.tensorflow.org/guide/keras/functional) to build a ConvNet that can differentiate between 6 sign language digits. \n",
    "\n",
    "The Functional API can handle models with non-linear topology, shared layers, as well as layers with multiple inputs or outputs. Imagine that, where the Sequential API requires the model to move in a linear fashion through its layers, the Functional API allows much more flexibility. Where Sequential is a straight line, a Functional model is a graph, where the nodes of the layers can connect in many more ways than one. \n",
    "\n",
    "In the visual example below, the one possible direction of the movement Sequential model is shown in contrast to a skip connection, which is just one of the many ways a Functional model can be constructed. A skip connection, as you might have guessed, skips some layer in the network and feeds the output to a later layer in the network. Don't worry, you'll be spending more time with skip connections very soon! "
   ]
  },
  {
   "cell_type": "markdown",
   "metadata": {},
   "source": [
    "<img src=\"images/seq_vs_func.png\" style=\"width:350px;height:200px;\">"
   ]
  },
  {
   "cell_type": "markdown",
   "metadata": {},
   "source": [
    "<a name='4-1'></a>\n",
    "### 4.1 - Load the SIGNS Dataset\n",
    "\n",
    "As a reminder, the SIGNS dataset is a collection of 6 signs representing numbers from 0 to 5."
   ]
  },
  {
   "cell_type": "code",
   "execution_count": 28,
   "metadata": {},
   "outputs": [],
   "source": [
    "# Loading the data (signs)\n",
    "X_train_orig, Y_train_orig, X_test_orig, Y_test_orig, classes = load_signs_dataset()"
   ]
  },
  {
   "cell_type": "markdown",
   "metadata": {},
   "source": [
    "<img src=\"images/SIGNS.png\" style=\"width:800px;height:300px;\">\n",
    "\n",
    "The next cell will show you an example of a labelled image in the dataset. Feel free to change the value of `index` below and re-run to see different examples. "
   ]
  },
  {
   "cell_type": "code",
   "execution_count": 29,
   "metadata": {},
   "outputs": [
    {
     "name": "stdout",
     "output_type": "stream",
     "text": [
      "y = 3\n"
     ]
    },
    {
     "data": {
      "image/png": "[encoded data removed]",
      "text/plain": [
       "<Figure size 432x288 with 1 Axes>"
      ]
     },
     "metadata": {
      "needs_background": "light"
     },
     "output_type": "display_data"
    }
   ],
   "source": [
    "# Example of an image from the dataset\n",
    "index = 23\n",
    "plt.imshow(X_train_orig[index])\n",
    "print (\"y = \" + str(np.squeeze(Y_train_orig[:, index])))"
   ]
  },
  {
   "cell_type": "markdown",
   "metadata": {},
   "source": [
    "<a name='4-2'></a>\n",
    "### 4.2 - Split the Data into Train/Test Sets\n",
    "\n",
    "In Course 2, you built a fully-connected network for this dataset. But since this is an image dataset, it is more natural to apply a ConvNet to it.\n",
    "\n",
    "To get started, let's examine the shapes of your data. "
   ]
  },
  {
   "cell_type": "code",
   "execution_count": 30,
   "metadata": {},
   "outputs": [
    {
     "name": "stdout",
     "output_type": "stream",
     "text": [
      "number of training examples = 1080\n",
      "number of test examples = 120\n",
      "X_train shape: (1080, 64, 64, 3)\n",
      "Y_train shape: (1080, 6)\n",
      "X_test shape: (120, 64, 64, 3)\n",
      "Y_test shape: (120, 6)\n"
     ]
    }
   ],
   "source": [
    "X_train = X_train_orig/255.\n",
    "X_test = X_test_orig/255.\n",
    "Y_train = convert_to_one_hot(Y_train_orig, 6).T\n",
    "Y_test = convert_to_one_hot(Y_test_orig, 6).T\n",
    "print (\"number of training examples = \" + str(X_train.shape[0]))\n",
    "print (\"number of test examples = \" + str(X_test.shape[0]))\n",
    "print (\"X_train shape: \" + str(X_train.shape))\n",
    "print (\"Y_train shape: \" + str(Y_train.shape))\n",
    "print (\"X_test shape: \" + str(X_test.shape))\n",
    "print (\"Y_test shape: \" + str(Y_test.shape))"
   ]
  },
  {
   "cell_type": "markdown",
   "metadata": {},
   "source": [
    "<a name='4-3'></a>\n",
    "### 4.3 - Forward Propagation\n",
    "\n",
    "In TensorFlow, there are built-in functions that implement the convolution steps for you. By now, you should be familiar with how TensorFlow builds computational graphs. In the [Functional API](https://www.tensorflow.org/guide/keras/functional), you create a graph of layers. This is what allows such great flexibility.\n",
    "\n",
    "However, the following model could also be defined using the Sequential API since the information flow is on a single line. But don't deviate. What we want you to learn is to use the functional API.\n",
    "\n",
    "Begin building your graph of layers by creating an input node that functions as a callable object:\n",
    "\n",
    "- **input_img = tf.keras.Input(shape=input_shape):** \n",
    "\n",
    "Then, create a new node in the graph of layers by calling a layer on the `input_img` object: \n",
    "\n",
    "- **tf.keras.layers.Conv2D(filters= ... , kernel_size= ... , padding='same')(input_img):** Read the full documentation on [Conv2D](https://www.tensorflow.org/api_docs/python/tf/keras/layers/Conv2D).\n",
    "\n",
    "- **tf.keras.layers.MaxPool2D(pool_size=(f, f), strides=(s, s), padding='same'):** `MaxPool2D()` downsamples your input using a window of size (f, f) and strides of size (s, s) to carry out max pooling over each window.  For max pooling, you usually operate on a single example at a time and a single channel at a time. Read the full documentation on [MaxPool2D](https://www.tensorflow.org/api_docs/python/tf/keras/layers/MaxPool2D).\n",
    "\n",
    "- **tf.keras.layers.ReLU():** computes the elementwise ReLU of Z (which can be any shape). You can read the full documentation on [ReLU](https://www.tensorflow.org/api_docs/python/tf/keras/layers/ReLU).\n",
    "\n",
    "- **tf.keras.layers.Flatten()**: given a tensor \"P\", this function takes each training (or test) example in the batch and flattens it into a 1D vector.  \n",
    "\n",
    "    * If a tensor P has the shape (batch_size,h,w,c), it returns a flattened tensor with shape (batch_size, k), where $k=h \\times w \\times c$.  \"k\" equals the product of all the dimension sizes other than the first dimension.\n",
    "    \n",
    "    * For example, given a tensor with dimensions [100, 2, 3, 4], it flattens the tensor to be of shape [100, 24], where 24 = 2 * 3 * 4.  You can read the full documentation on [Flatten](https://www.tensorflow.org/api_docs/python/tf/keras/layers/Flatten).\n",
    "\n",
    "- **tf.keras.layers.Dense(units= ... , activation='softmax')(F):** given the flattened input F, it returns the output computed using a fully connected layer. You can read the full documentation on [Dense](https://www.tensorflow.org/api_docs/python/tf/keras/layers/Dense).\n",
    "\n",
    "In the last function above (`tf.keras.layers.Dense()`), the fully connected layer automatically initializes weights in the graph and keeps on training them as you train the model. Hence, you did not need to initialize those weights when initializing the parameters.\n",
    "\n",
    "Lastly, before creating the model, you'll need to define the output using the last of the function's compositions (in this example, a Dense layer): \n",
    "\n",
    "- **outputs = tf.keras.layers.Dense(units=6, activation='softmax')(F)**\n",
    "\n",
    "\n",
    "#### Window, kernel, filter, pool\n",
    "\n",
    "The words \"kernel\" and \"filter\" are used to refer to the same thing. The word \"filter\" accounts for the amount of \"kernels\" that will be used in a single convolution layer. \"Pool\" is the name of the operation that takes the max or average value of the kernels. \n",
    "\n",
    "This is why the parameter `pool_size` refers to `kernel_size`, and you use `(f,f)` to refer to the filter size. \n",
    "\n",
    "Pool size and kernel size refer to the same thing in different objects - They refer to the shape of the window where the operation takes place. "
   ]
  },
  {
   "cell_type": "markdown",
   "metadata": {},
   "source": [
    "<a name='ex-2'></a>\n",
    "### Exercise 2 - convolutional_model\n",
    "\n",
    "Implement the `convolutional_model` function below to build the following model: `CONV2D -> RELU -> MAXPOOL -> CONV2D -> RELU -> MAXPOOL -> FLATTEN -> DENSE`. Use the functions above! \n",
    "\n",
    "Also, plug in the following parameters for all the steps:\n",
    "\n",
    " - [Conv2D](https://www.tensorflow.org/api_docs/python/tf/keras/layers/Conv2D): Use 8 4 by 4 filters, stride 1, padding is \"SAME\"\n",
    " - [ReLU](https://www.tensorflow.org/api_docs/python/tf/keras/layers/ReLU)\n",
    " - [MaxPool2D](https://www.tensorflow.org/api_docs/python/tf/keras/layers/MaxPool2D): Use an 8 by 8 filter size and an 8 by 8 stride, padding is \"SAME\"\n",
    " - **Conv2D**: Use 16 2 by 2 filters, stride 1, padding is \"SAME\"\n",
    " - **ReLU**\n",
    " - **MaxPool2D**: Use a 4 by 4 filter size and a 4 by 4 stride, padding is \"SAME\"\n",
    " - [Flatten](https://www.tensorflow.org/api_docs/python/tf/keras/layers/Flatten) the previous output.\n",
    " - Fully-connected ([Dense](https://www.tensorflow.org/api_docs/python/tf/keras/layers/Dense)) layer: Apply a fully connected layer with 6 neurons and a softmax activation. "
   ]
  },
  {
   "cell_type": "code",
   "execution_count": 32,
   "metadata": {
    "deletable": false,
    "nbgrader": {
     "cell_type": "code",
     "checksum": "f58643806aa8380c96225fc8b4c5e7aa",
     "grade": false,
     "grade_id": "cell-dac51744a9e03f51",
     "locked": false,
     "schema_version": 3,
     "solution": true,
     "task": false
    }
   },
   "outputs": [],
   "source": [
    "# GRADED FUNCTION: convolutional_model\n",
    "\n",
    "def convolutional_model(input_shape):\n",
    "    \"\"\"\n",
    "    Implements the forward propagation for the model:\n",
    "    CONV2D -> RELU -> MAXPOOL -> CONV2D -> RELU -> MAXPOOL -> FLATTEN -> DENSE\n",
    "    \n",
    "    Note that for simplicity and grading purposes, you'll hard-code some values\n",
    "    such as the stride and kernel (filter) sizes. \n",
    "    Normally, functions should take these values as function parameters.\n",
    "    \n",
    "    Arguments:\n",
    "    input_img -- input dataset, of shape (input_shape)\n",
    "\n",
    "    Returns:\n",
    "    model -- TF Keras model (object containing the information for the entire training process) \n",
    "    \"\"\"\n",
    "\n",
    "    input_img = tf.keras.Input(shape=input_shape)\n",
    "    ## CONV2D: 8 filters 4x4, stride of 1, padding 'SAME'\n",
    "    # Z1 = None\n",
    "    Z1=tfl.Conv2D(filters=8, kernel_size=(4,4), strides=(1,1), padding='SAME')(input_img)\n",
    "    ## RELU\n",
    "    # A1 = None\n",
    "    A1=tfl.ReLU()(Z1)\n",
    "    ## MAXPOOL: window 8x8, stride 8, padding 'SAME'\n",
    "    # P1 = None\n",
    "    P1=tfl.MaxPool2D(pool_size=(8,8), strides=(8,8), padding='SAME')(A1)\n",
    "    ## CONV2D: 16 filters 2x2, stride 1, padding 'SAME'\n",
    "    # Z2 = None\n",
    "    Z2=tfl.Conv2D(filters=16, kernel_size=(2, 2), strides=(1,1), padding='SAME')(P1)\n",
    "    ## RELU\n",
    "    # A2 = None\n",
    "    A2=tfl.ReLU()(Z2)\n",
    "    ## MAXPOOL: window 4x4, stride 4, padding 'SAME'\n",
    "    # P2 = None\n",
    "    P2=tfl.MaxPool2D(pool_size=(4,4), strides=(4,4), padding='SAME')(A2)\n",
    "    ## FLATTEN\n",
    "    # F = None\n",
    "    F=tfl.Flatten()(P2)\n",
    "    ## Dense layer\n",
    "    ## 6 neurons in output layer. Hint: one of the arguments should be \"activation='softmax'\" \n",
    "    # outputs = None\n",
    "    outputs=tfl.Dense(6, activation='softmax')(F)\n",
    "    # YOUR CODE STARTS HERE\n",
    "    \n",
    "    \n",
    "    # YOUR CODE ENDS HERE\n",
    "    model = tf.keras.Model(inputs=input_img, outputs=outputs)\n",
    "    return model"
   ]
  },
  {
   "cell_type": "code",
   "execution_count": 33,
   "metadata": {
    "deletable": false,
    "editable": false,
    "nbgrader": {
     "cell_type": "code",
     "checksum": "483d626949930a0b0ef20997e7c6ba72",
     "grade": true,
     "grade_id": "cell-45d22e92042174c9",
     "locked": true,
     "points": 10,
     "schema_version": 3,
     "solution": false,
     "task": false
    }
   },
   "outputs": [
    {
     "name": "stdout",
     "output_type": "stream",
     "text": [
      "Model: \"functional_1\"\n",
      "_________________________________________________________________\n",
      "Layer (type)                 Output Shape              Param #   \n",
      "=================================================================\n",
      "input_1 (InputLayer)         [(None, 64, 64, 3)]       0         \n",
      "_________________________________________________________________\n",
      "conv2d_2 (Conv2D)            (None, 64, 64, 8)         392       \n",
      "_________________________________________________________________\n",
      "re_lu_2 (ReLU)               (None, 64, 64, 8)         0         \n",
      "_________________________________________________________________\n",
      "max_pooling2d_2 (MaxPooling2 (None, 8, 8, 8)           0         \n",
      "_________________________________________________________________\n",
      "conv2d_3 (Conv2D)            (None, 8, 8, 16)          528       \n",
      "_________________________________________________________________\n",
      "re_lu_3 (ReLU)               (None, 8, 8, 16)          0         \n",
      "_________________________________________________________________\n",
      "max_pooling2d_3 (MaxPooling2 (None, 2, 2, 16)          0         \n",
      "_________________________________________________________________\n",
      "flatten_2 (Flatten)          (None, 64)                0         \n",
      "_________________________________________________________________\n",
      "dense_2 (Dense)              (None, 6)                 390       \n",
      "=================================================================\n",
      "Total params: 1,310\n",
      "Trainable params: 1,310\n",
      "Non-trainable params: 0\n",
      "_________________________________________________________________\n",
      "\u001b[32mAll tests passed!\u001b[0m\n"
     ]
    }
   ],
   "source": [
    "conv_model = convolutional_model((64, 64, 3))\n",
    "conv_model.compile(optimizer='adam',\n",
    "                  loss='categorical_crossentropy',\n",
    "                  metrics=['accuracy'])\n",
    "conv_model.summary()\n",
    "    \n",
    "output = [['InputLayer', [(None, 64, 64, 3)], 0],\n",
    "        ['Conv2D', (None, 64, 64, 8), 392, 'same', 'linear', 'GlorotUniform'],\n",
    "        ['ReLU', (None, 64, 64, 8), 0],\n",
    "        ['MaxPooling2D', (None, 8, 8, 8), 0, (8, 8), (8, 8), 'same'],\n",
    "        ['Conv2D', (None, 8, 8, 16), 528, 'same', 'linear', 'GlorotUniform'],\n",
    "        ['ReLU', (None, 8, 8, 16), 0],\n",
    "        ['MaxPooling2D', (None, 2, 2, 16), 0, (4, 4), (4, 4), 'same'],\n",
    "        ['Flatten', (None, 64), 0],\n",
    "        ['Dense', (None, 6), 390, 'softmax']]\n",
    "    \n",
    "comparator(summary(conv_model), output)"
   ]
  },
  {
   "cell_type": "markdown",
   "metadata": {},
   "source": [
    "Both the Sequential and Functional APIs return a TF Keras model object. The only difference is how inputs are handled inside the object model! "
   ]
  },
  {
   "cell_type": "markdown",
   "metadata": {},
   "source": [
    "<a name='4-4'></a>\n",
    "### 4.4 - Train the Model"
   ]
  },
  {
   "cell_type": "code",
   "execution_count": 34,
   "metadata": {},
   "outputs": [
    {
     "name": "stdout",
     "output_type": "stream",
     "text": [
      "Epoch 1/100\n",
      "17/17 [==============================] - 2s 112ms/step - loss: 1.8094 - accuracy: 0.1222 - val_loss: 1.7940 - val_accuracy: 0.1250\n",
      "Epoch 2/100\n",
      "17/17 [==============================] - 2s 106ms/step - loss: 1.7931 - accuracy: 0.1713 - val_loss: 1.7888 - val_accuracy: 0.1583\n",
      "Epoch 3/100\n",
      "17/17 [==============================] - 2s 106ms/step - loss: 1.7901 - accuracy: 0.1815 - val_loss: 1.7863 - val_accuracy: 0.3250\n",
      "Epoch 4/100\n",
      "17/17 [==============================] - 2s 107ms/step - loss: 1.7861 - accuracy: 0.2167 - val_loss: 1.7810 - val_accuracy: 0.3333\n",
      "Epoch 5/100\n",
      "17/17 [==============================] - 2s 106ms/step - loss: 1.7809 - accuracy: 0.2639 - val_loss: 1.7755 - val_accuracy: 0.3500\n",
      "Epoch 6/100\n",
      "17/17 [==============================] - 2s 106ms/step - loss: 1.7759 - accuracy: 0.2907 - val_loss: 1.7702 - val_accuracy: 0.3417\n",
      "Epoch 7/100\n",
      "17/17 [==============================] - 2s 111ms/step - loss: 1.7703 - accuracy: 0.3000 - val_loss: 1.7646 - val_accuracy: 0.3500\n",
      "Epoch 8/100\n",
      "17/17 [==============================] - 2s 106ms/step - loss: 1.7634 - accuracy: 0.3185 - val_loss: 1.7582 - val_accuracy: 0.3667\n",
      "Epoch 9/100\n",
      "17/17 [==============================] - 2s 106ms/step - loss: 1.7543 - accuracy: 0.3306 - val_loss: 1.7499 - val_accuracy: 0.3333\n",
      "Epoch 10/100\n",
      "17/17 [==============================] - 2s 101ms/step - loss: 1.7429 - accuracy: 0.3491 - val_loss: 1.7391 - val_accuracy: 0.3583\n",
      "Epoch 11/100\n",
      "17/17 [==============================] - 2s 106ms/step - loss: 1.7292 - accuracy: 0.3491 - val_loss: 1.7265 - val_accuracy: 0.3333\n",
      "Epoch 12/100\n",
      "17/17 [==============================] - 2s 106ms/step - loss: 1.7117 - accuracy: 0.3444 - val_loss: 1.7100 - val_accuracy: 0.3583\n",
      "Epoch 13/100\n",
      "17/17 [==============================] - 2s 106ms/step - loss: 1.6906 - accuracy: 0.3389 - val_loss: 1.6880 - val_accuracy: 0.3500\n",
      "Epoch 14/100\n",
      "17/17 [==============================] - 2s 111ms/step - loss: 1.6655 - accuracy: 0.3519 - val_loss: 1.6654 - val_accuracy: 0.3500\n",
      "Epoch 15/100\n",
      "17/17 [==============================] - 2s 111ms/step - loss: 1.6375 - accuracy: 0.3639 - val_loss: 1.6398 - val_accuracy: 0.3583\n",
      "Epoch 16/100\n",
      "17/17 [==============================] - 2s 111ms/step - loss: 1.6069 - accuracy: 0.3741 - val_loss: 1.6125 - val_accuracy: 0.3667\n",
      "Epoch 17/100\n",
      "17/17 [==============================] - 2s 112ms/step - loss: 1.5746 - accuracy: 0.3963 - val_loss: 1.5824 - val_accuracy: 0.3833\n",
      "Epoch 18/100\n",
      "17/17 [==============================] - 2s 106ms/step - loss: 1.5398 - accuracy: 0.4185 - val_loss: 1.5547 - val_accuracy: 0.4250\n",
      "Epoch 19/100\n",
      "17/17 [==============================] - 2s 106ms/step - loss: 1.5048 - accuracy: 0.4426 - val_loss: 1.5210 - val_accuracy: 0.4167\n",
      "Epoch 20/100\n",
      "17/17 [==============================] - 2s 111ms/step - loss: 1.4688 - accuracy: 0.4583 - val_loss: 1.4927 - val_accuracy: 0.4583\n",
      "Epoch 21/100\n",
      "17/17 [==============================] - 2s 107ms/step - loss: 1.4332 - accuracy: 0.4870 - val_loss: 1.4614 - val_accuracy: 0.4417\n",
      "Epoch 22/100\n",
      "17/17 [==============================] - 2s 106ms/step - loss: 1.3978 - accuracy: 0.4917 - val_loss: 1.4350 - val_accuracy: 0.5000\n",
      "Epoch 23/100\n",
      "17/17 [==============================] - 2s 106ms/step - loss: 1.3641 - accuracy: 0.5111 - val_loss: 1.4035 - val_accuracy: 0.4833\n",
      "Epoch 24/100\n",
      "17/17 [==============================] - 2s 111ms/step - loss: 1.3309 - accuracy: 0.5250 - val_loss: 1.3770 - val_accuracy: 0.5083\n",
      "Epoch 25/100\n",
      "17/17 [==============================] - 2s 111ms/step - loss: 1.2993 - accuracy: 0.5278 - val_loss: 1.3473 - val_accuracy: 0.5083\n",
      "Epoch 26/100\n",
      "17/17 [==============================] - 2s 106ms/step - loss: 1.2676 - accuracy: 0.5417 - val_loss: 1.3207 - val_accuracy: 0.5333\n",
      "Epoch 27/100\n",
      "17/17 [==============================] - 2s 111ms/step - loss: 1.2365 - accuracy: 0.5528 - val_loss: 1.2884 - val_accuracy: 0.5167\n",
      "Epoch 28/100\n",
      "17/17 [==============================] - 2s 112ms/step - loss: 1.2072 - accuracy: 0.5657 - val_loss: 1.2614 - val_accuracy: 0.5167\n",
      "Epoch 29/100\n",
      "17/17 [==============================] - 2s 111ms/step - loss: 1.1783 - accuracy: 0.5861 - val_loss: 1.2334 - val_accuracy: 0.5417\n",
      "Epoch 30/100\n",
      "17/17 [==============================] - 2s 112ms/step - loss: 1.1511 - accuracy: 0.5991 - val_loss: 1.2064 - val_accuracy: 0.5583\n",
      "Epoch 31/100\n",
      "17/17 [==============================] - 2s 106ms/step - loss: 1.1249 - accuracy: 0.6148 - val_loss: 1.1811 - val_accuracy: 0.5750\n",
      "Epoch 32/100\n",
      "17/17 [==============================] - 2s 111ms/step - loss: 1.1001 - accuracy: 0.6241 - val_loss: 1.1566 - val_accuracy: 0.5750\n",
      "Epoch 33/100\n",
      "17/17 [==============================] - 2s 106ms/step - loss: 1.0755 - accuracy: 0.6269 - val_loss: 1.1331 - val_accuracy: 0.5917\n",
      "Epoch 34/100\n",
      "17/17 [==============================] - 2s 106ms/step - loss: 1.0519 - accuracy: 0.6444 - val_loss: 1.1103 - val_accuracy: 0.6000\n",
      "Epoch 35/100\n",
      "17/17 [==============================] - 2s 106ms/step - loss: 1.0297 - accuracy: 0.6583 - val_loss: 1.0883 - val_accuracy: 0.6000\n",
      "Epoch 36/100\n",
      "17/17 [==============================] - 2s 106ms/step - loss: 1.0085 - accuracy: 0.6694 - val_loss: 1.0677 - val_accuracy: 0.6083\n",
      "Epoch 37/100\n",
      "17/17 [==============================] - 2s 106ms/step - loss: 0.9876 - accuracy: 0.6704 - val_loss: 1.0484 - val_accuracy: 0.6167\n",
      "Epoch 38/100\n",
      "17/17 [==============================] - 2s 111ms/step - loss: 0.9663 - accuracy: 0.6806 - val_loss: 1.0268 - val_accuracy: 0.6417\n",
      "Epoch 39/100\n",
      "17/17 [==============================] - 2s 107ms/step - loss: 0.9447 - accuracy: 0.6870 - val_loss: 1.0069 - val_accuracy: 0.6417\n",
      "Epoch 40/100\n",
      "17/17 [==============================] - 2s 106ms/step - loss: 0.9239 - accuracy: 0.7028 - val_loss: 0.9875 - val_accuracy: 0.6417\n",
      "Epoch 41/100\n",
      "17/17 [==============================] - 2s 111ms/step - loss: 0.9046 - accuracy: 0.7093 - val_loss: 0.9692 - val_accuracy: 0.6500\n",
      "Epoch 42/100\n",
      "17/17 [==============================] - 2s 107ms/step - loss: 0.8863 - accuracy: 0.7157 - val_loss: 0.9517 - val_accuracy: 0.6667\n",
      "Epoch 43/100\n",
      "17/17 [==============================] - 2s 106ms/step - loss: 0.8689 - accuracy: 0.7269 - val_loss: 0.9355 - val_accuracy: 0.6583\n",
      "Epoch 44/100\n",
      "17/17 [==============================] - 2s 106ms/step - loss: 0.8527 - accuracy: 0.7269 - val_loss: 0.9198 - val_accuracy: 0.6667\n",
      "Epoch 45/100\n",
      "17/17 [==============================] - 2s 112ms/step - loss: 0.8370 - accuracy: 0.7324 - val_loss: 0.9045 - val_accuracy: 0.6667\n",
      "Epoch 46/100\n",
      "17/17 [==============================] - 2s 111ms/step - loss: 0.8217 - accuracy: 0.7352 - val_loss: 0.8895 - val_accuracy: 0.6667\n",
      "Epoch 47/100\n",
      "17/17 [==============================] - 2s 111ms/step - loss: 0.8080 - accuracy: 0.7380 - val_loss: 0.8754 - val_accuracy: 0.6750\n",
      "Epoch 48/100\n",
      "17/17 [==============================] - 2s 106ms/step - loss: 0.7940 - accuracy: 0.7426 - val_loss: 0.8622 - val_accuracy: 0.6750\n",
      "Epoch 49/100\n",
      "17/17 [==============================] - 2s 106ms/step - loss: 0.7812 - accuracy: 0.7463 - val_loss: 0.8492 - val_accuracy: 0.6833\n",
      "Epoch 50/100\n",
      "17/17 [==============================] - 2s 111ms/step - loss: 0.7687 - accuracy: 0.7500 - val_loss: 0.8367 - val_accuracy: 0.6833\n",
      "Epoch 51/100\n",
      "17/17 [==============================] - 2s 106ms/step - loss: 0.7565 - accuracy: 0.7537 - val_loss: 0.8248 - val_accuracy: 0.7083\n",
      "Epoch 52/100\n",
      "17/17 [==============================] - 2s 106ms/step - loss: 0.7448 - accuracy: 0.7620 - val_loss: 0.8134 - val_accuracy: 0.7167\n",
      "Epoch 53/100\n",
      "17/17 [==============================] - 2s 106ms/step - loss: 0.7337 - accuracy: 0.7676 - val_loss: 0.8018 - val_accuracy: 0.7250\n",
      "Epoch 54/100\n",
      "17/17 [==============================] - 2s 106ms/step - loss: 0.7228 - accuracy: 0.7694 - val_loss: 0.7915 - val_accuracy: 0.7250\n",
      "Epoch 55/100\n",
      "17/17 [==============================] - 2s 112ms/step - loss: 0.7126 - accuracy: 0.7741 - val_loss: 0.7810 - val_accuracy: 0.7250\n",
      "Epoch 56/100\n",
      "17/17 [==============================] - 2s 106ms/step - loss: 0.7026 - accuracy: 0.7769 - val_loss: 0.7710 - val_accuracy: 0.7250\n",
      "Epoch 57/100\n",
      "17/17 [==============================] - 2s 111ms/step - loss: 0.6932 - accuracy: 0.7806 - val_loss: 0.7625 - val_accuracy: 0.7250\n"
     ]
    },
    {
     "name": "stdout",
     "output_type": "stream",
     "text": [
      "Epoch 58/100\n",
      "17/17 [==============================] - 2s 111ms/step - loss: 0.6834 - accuracy: 0.7852 - val_loss: 0.7534 - val_accuracy: 0.7250\n",
      "Epoch 59/100\n",
      "17/17 [==============================] - 2s 111ms/step - loss: 0.6742 - accuracy: 0.7898 - val_loss: 0.7450 - val_accuracy: 0.7250\n",
      "Epoch 60/100\n",
      "17/17 [==============================] - 2s 107ms/step - loss: 0.6655 - accuracy: 0.7935 - val_loss: 0.7366 - val_accuracy: 0.7250\n",
      "Epoch 61/100\n",
      "17/17 [==============================] - 2s 106ms/step - loss: 0.6571 - accuracy: 0.7954 - val_loss: 0.7288 - val_accuracy: 0.7250\n",
      "Epoch 62/100\n",
      "17/17 [==============================] - 2s 111ms/step - loss: 0.6489 - accuracy: 0.7981 - val_loss: 0.7217 - val_accuracy: 0.7333\n",
      "Epoch 63/100\n",
      "17/17 [==============================] - 2s 106ms/step - loss: 0.6406 - accuracy: 0.8009 - val_loss: 0.7140 - val_accuracy: 0.7417\n",
      "Epoch 64/100\n",
      "17/17 [==============================] - 2s 101ms/step - loss: 0.6328 - accuracy: 0.8019 - val_loss: 0.7066 - val_accuracy: 0.7500\n",
      "Epoch 65/100\n",
      "17/17 [==============================] - 2s 106ms/step - loss: 0.6253 - accuracy: 0.8037 - val_loss: 0.7002 - val_accuracy: 0.7500\n",
      "Epoch 66/100\n",
      "17/17 [==============================] - 2s 107ms/step - loss: 0.6176 - accuracy: 0.8083 - val_loss: 0.6932 - val_accuracy: 0.7583\n",
      "Epoch 67/100\n",
      "17/17 [==============================] - 2s 106ms/step - loss: 0.6102 - accuracy: 0.8111 - val_loss: 0.6860 - val_accuracy: 0.7583\n",
      "Epoch 68/100\n",
      "17/17 [==============================] - 2s 106ms/step - loss: 0.6039 - accuracy: 0.8111 - val_loss: 0.6803 - val_accuracy: 0.7583\n",
      "Epoch 69/100\n",
      "17/17 [==============================] - 2s 111ms/step - loss: 0.5970 - accuracy: 0.8120 - val_loss: 0.6745 - val_accuracy: 0.7583\n",
      "Epoch 70/100\n",
      "17/17 [==============================] - 2s 106ms/step - loss: 0.5902 - accuracy: 0.8204 - val_loss: 0.6688 - val_accuracy: 0.7667\n",
      "Epoch 71/100\n",
      "17/17 [==============================] - 2s 106ms/step - loss: 0.5835 - accuracy: 0.8176 - val_loss: 0.6639 - val_accuracy: 0.7667\n",
      "Epoch 72/100\n",
      "17/17 [==============================] - 2s 107ms/step - loss: 0.5778 - accuracy: 0.8231 - val_loss: 0.6582 - val_accuracy: 0.7667\n",
      "Epoch 73/100\n",
      "17/17 [==============================] - 2s 112ms/step - loss: 0.5711 - accuracy: 0.8241 - val_loss: 0.6530 - val_accuracy: 0.7667\n",
      "Epoch 74/100\n",
      "17/17 [==============================] - 2s 107ms/step - loss: 0.5659 - accuracy: 0.8241 - val_loss: 0.6484 - val_accuracy: 0.7667\n",
      "Epoch 75/100\n",
      "17/17 [==============================] - 2s 106ms/step - loss: 0.5602 - accuracy: 0.8269 - val_loss: 0.6436 - val_accuracy: 0.7750\n",
      "Epoch 76/100\n",
      "17/17 [==============================] - 2s 106ms/step - loss: 0.5542 - accuracy: 0.8269 - val_loss: 0.6388 - val_accuracy: 0.7750\n",
      "Epoch 77/100\n",
      "17/17 [==============================] - 2s 106ms/step - loss: 0.5493 - accuracy: 0.8278 - val_loss: 0.6347 - val_accuracy: 0.7833\n",
      "Epoch 78/100\n",
      "17/17 [==============================] - 2s 106ms/step - loss: 0.5440 - accuracy: 0.8296 - val_loss: 0.6304 - val_accuracy: 0.7833\n",
      "Epoch 79/100\n",
      "17/17 [==============================] - 2s 106ms/step - loss: 0.5384 - accuracy: 0.8315 - val_loss: 0.6257 - val_accuracy: 0.7917\n",
      "Epoch 80/100\n",
      "17/17 [==============================] - 2s 107ms/step - loss: 0.5337 - accuracy: 0.8324 - val_loss: 0.6217 - val_accuracy: 0.7833\n",
      "Epoch 81/100\n",
      "17/17 [==============================] - 2s 107ms/step - loss: 0.5288 - accuracy: 0.8315 - val_loss: 0.6178 - val_accuracy: 0.7917\n",
      "Epoch 82/100\n",
      "17/17 [==============================] - 2s 106ms/step - loss: 0.5242 - accuracy: 0.8343 - val_loss: 0.6136 - val_accuracy: 0.7917\n",
      "Epoch 83/100\n",
      "17/17 [==============================] - 2s 106ms/step - loss: 0.5192 - accuracy: 0.8380 - val_loss: 0.6096 - val_accuracy: 0.7917\n",
      "Epoch 84/100\n",
      "17/17 [==============================] - 2s 111ms/step - loss: 0.5147 - accuracy: 0.8398 - val_loss: 0.6062 - val_accuracy: 0.7917\n",
      "Epoch 85/100\n",
      "17/17 [==============================] - 2s 107ms/step - loss: 0.5104 - accuracy: 0.8426 - val_loss: 0.6028 - val_accuracy: 0.7917\n",
      "Epoch 86/100\n",
      "17/17 [==============================] - 2s 106ms/step - loss: 0.5060 - accuracy: 0.8444 - val_loss: 0.5991 - val_accuracy: 0.7917\n",
      "Epoch 87/100\n",
      "17/17 [==============================] - 2s 106ms/step - loss: 0.5016 - accuracy: 0.8463 - val_loss: 0.5955 - val_accuracy: 0.7917\n",
      "Epoch 88/100\n",
      "17/17 [==============================] - 2s 106ms/step - loss: 0.4977 - accuracy: 0.8491 - val_loss: 0.5925 - val_accuracy: 0.7917\n",
      "Epoch 89/100\n",
      "17/17 [==============================] - 2s 106ms/step - loss: 0.4936 - accuracy: 0.8491 - val_loss: 0.5888 - val_accuracy: 0.7833\n",
      "Epoch 90/100\n",
      "17/17 [==============================] - 2s 111ms/step - loss: 0.4895 - accuracy: 0.8509 - val_loss: 0.5857 - val_accuracy: 0.7833\n",
      "Epoch 91/100\n",
      "17/17 [==============================] - 2s 111ms/step - loss: 0.4859 - accuracy: 0.8537 - val_loss: 0.5824 - val_accuracy: 0.7833\n",
      "Epoch 92/100\n",
      "17/17 [==============================] - 2s 106ms/step - loss: 0.4821 - accuracy: 0.8528 - val_loss: 0.5799 - val_accuracy: 0.7833\n",
      "Epoch 93/100\n",
      "17/17 [==============================] - 2s 106ms/step - loss: 0.4784 - accuracy: 0.8546 - val_loss: 0.5765 - val_accuracy: 0.7833\n",
      "Epoch 94/100\n",
      "17/17 [==============================] - 2s 106ms/step - loss: 0.4746 - accuracy: 0.8556 - val_loss: 0.5732 - val_accuracy: 0.7833\n",
      "Epoch 95/100\n",
      "17/17 [==============================] - 2s 111ms/step - loss: 0.4713 - accuracy: 0.8556 - val_loss: 0.5710 - val_accuracy: 0.7833\n",
      "Epoch 96/100\n",
      "17/17 [==============================] - 2s 111ms/step - loss: 0.4678 - accuracy: 0.8574 - val_loss: 0.5681 - val_accuracy: 0.7917\n",
      "Epoch 97/100\n",
      "17/17 [==============================] - 2s 107ms/step - loss: 0.4643 - accuracy: 0.8574 - val_loss: 0.5654 - val_accuracy: 0.7917\n",
      "Epoch 98/100\n",
      "17/17 [==============================] - 2s 112ms/step - loss: 0.4612 - accuracy: 0.8574 - val_loss: 0.5631 - val_accuracy: 0.8083\n",
      "Epoch 99/100\n",
      "17/17 [==============================] - 2s 112ms/step - loss: 0.4579 - accuracy: 0.8611 - val_loss: 0.5607 - val_accuracy: 0.8000\n",
      "Epoch 100/100\n",
      "17/17 [==============================] - 2s 111ms/step - loss: 0.4548 - accuracy: 0.8620 - val_loss: 0.5582 - val_accuracy: 0.8083\n"
     ]
    }
   ],
   "source": [
    "train_dataset = tf.data.Dataset.from_tensor_slices((X_train, Y_train)).batch(64)\n",
    "test_dataset = tf.data.Dataset.from_tensor_slices((X_test, Y_test)).batch(64)\n",
    "history = conv_model.fit(train_dataset, epochs=100, validation_data=test_dataset)"
   ]
  },
  {
   "cell_type": "markdown",
   "metadata": {},
   "source": [
    "<a name='5'></a>\n",
    "## 5 - History Object \n",
    "\n",
    "The history object is an output of the `.fit()` operation, and provides a record of all the loss and metric values in memory. It's stored as a dictionary that you can retrieve at `history.history`: "
   ]
  },
  {
   "cell_type": "code",
   "execution_count": 35,
   "metadata": {},
   "outputs": [
    {
     "data": {
      "text/plain": [
       "{'loss': [1.809411644935608,\n",
       "  1.7930773496627808,\n",
       "  1.7901395559310913,\n",
       "  1.786149501800537,\n",
       "  1.7808573246002197,\n",
       "  1.7758917808532715,\n",
       "  1.770276665687561,\n",
       "  1.763350009918213,\n",
       "  1.75426185131073,\n",
       "  1.7429015636444092,\n",
       "  1.72921884059906,\n",
       "  1.7116707563400269,\n",
       "  1.6906013488769531,\n",
       "  1.665528655052185,\n",
       "  1.6375421285629272,\n",
       "  1.6068952083587646,\n",
       "  1.5746288299560547,\n",
       "  1.5397604703903198,\n",
       "  1.5048211812973022,\n",
       "  1.4687588214874268,\n",
       "  1.4331655502319336,\n",
       "  1.397782802581787,\n",
       "  1.3641115427017212,\n",
       "  1.3309104442596436,\n",
       "  1.2992920875549316,\n",
       "  1.2676054239273071,\n",
       "  1.2364885807037354,\n",
       "  1.2071633338928223,\n",
       "  1.1782935857772827,\n",
       "  1.1510635614395142,\n",
       "  1.1248557567596436,\n",
       "  1.1000717878341675,\n",
       "  1.0755386352539062,\n",
       "  1.0519195795059204,\n",
       "  1.0296911001205444,\n",
       "  1.0084742307662964,\n",
       "  0.987625241279602,\n",
       "  0.9663397669792175,\n",
       "  0.9446699023246765,\n",
       "  0.92391037940979,\n",
       "  0.90464848279953,\n",
       "  0.886349618434906,\n",
       "  0.8689404726028442,\n",
       "  0.8526949882507324,\n",
       "  0.8370484709739685,\n",
       "  0.8217362761497498,\n",
       "  0.8079758882522583,\n",
       "  0.7939711809158325,\n",
       "  0.7811849117279053,\n",
       "  0.7686583995819092,\n",
       "  0.7565153241157532,\n",
       "  0.7448294162750244,\n",
       "  0.7337355613708496,\n",
       "  0.7228091359138489,\n",
       "  0.712633490562439,\n",
       "  0.7025682926177979,\n",
       "  0.6931838989257812,\n",
       "  0.6834137439727783,\n",
       "  0.6742178201675415,\n",
       "  0.6654970645904541,\n",
       "  0.657134473323822,\n",
       "  0.6489096283912659,\n",
       "  0.6406121850013733,\n",
       "  0.6327632069587708,\n",
       "  0.6253228187561035,\n",
       "  0.617590069770813,\n",
       "  0.6102262139320374,\n",
       "  0.6038540601730347,\n",
       "  0.5969622731208801,\n",
       "  0.5902377367019653,\n",
       "  0.5835130214691162,\n",
       "  0.5777729153633118,\n",
       "  0.5711265802383423,\n",
       "  0.565911054611206,\n",
       "  0.5602334141731262,\n",
       "  0.5542205572128296,\n",
       "  0.5493066310882568,\n",
       "  0.5439804792404175,\n",
       "  0.5384261012077332,\n",
       "  0.5336773991584778,\n",
       "  0.5288124084472656,\n",
       "  0.5241977572441101,\n",
       "  0.5191676020622253,\n",
       "  0.5147260427474976,\n",
       "  0.510377824306488,\n",
       "  0.5059820413589478,\n",
       "  0.5015946626663208,\n",
       "  0.49768590927124023,\n",
       "  0.4935971200466156,\n",
       "  0.4895195960998535,\n",
       "  0.4858592748641968,\n",
       "  0.48207059502601624,\n",
       "  0.47844386100769043,\n",
       "  0.47457581758499146,\n",
       "  0.4712919592857361,\n",
       "  0.4677773118019104,\n",
       "  0.4642675220966339,\n",
       "  0.46118593215942383,\n",
       "  0.4579377770423889,\n",
       "  0.4548034965991974],\n",
       " 'accuracy': [0.12222222238779068,\n",
       "  0.17129629850387573,\n",
       "  0.1814814805984497,\n",
       "  0.21666666865348816,\n",
       "  0.2638888955116272,\n",
       "  0.2907407283782959,\n",
       "  0.30000001192092896,\n",
       "  0.3185185194015503,\n",
       "  0.3305555582046509,\n",
       "  0.3490740656852722,\n",
       "  0.3490740656852722,\n",
       "  0.3444444537162781,\n",
       "  0.33888888359069824,\n",
       "  0.35185185074806213,\n",
       "  0.3638888895511627,\n",
       "  0.3740740716457367,\n",
       "  0.39629629254341125,\n",
       "  0.4185185134410858,\n",
       "  0.442592591047287,\n",
       "  0.4583333432674408,\n",
       "  0.4870370328426361,\n",
       "  0.49166667461395264,\n",
       "  0.5111111402511597,\n",
       "  0.5249999761581421,\n",
       "  0.5277777910232544,\n",
       "  0.5416666865348816,\n",
       "  0.5527777671813965,\n",
       "  0.5657407641410828,\n",
       "  0.5861111283302307,\n",
       "  0.5990740656852722,\n",
       "  0.614814817905426,\n",
       "  0.6240741014480591,\n",
       "  0.6268518567085266,\n",
       "  0.644444465637207,\n",
       "  0.6583333611488342,\n",
       "  0.6694444417953491,\n",
       "  0.6703703999519348,\n",
       "  0.6805555820465088,\n",
       "  0.6870370507240295,\n",
       "  0.7027778029441833,\n",
       "  0.7092592716217041,\n",
       "  0.7157407402992249,\n",
       "  0.7268518805503845,\n",
       "  0.7268518805503845,\n",
       "  0.7324073910713196,\n",
       "  0.7351852059364319,\n",
       "  0.7379629611968994,\n",
       "  0.7425925731658936,\n",
       "  0.7462962865829468,\n",
       "  0.75,\n",
       "  0.7537037134170532,\n",
       "  0.7620370388031006,\n",
       "  0.7675926089286804,\n",
       "  0.769444465637207,\n",
       "  0.7740740776062012,\n",
       "  0.7768518328666687,\n",
       "  0.7805555462837219,\n",
       "  0.7851851582527161,\n",
       "  0.789814829826355,\n",
       "  0.7935185432434082,\n",
       "  0.7953703999519348,\n",
       "  0.7981481552124023,\n",
       "  0.8009259104728699,\n",
       "  0.8018518686294556,\n",
       "  0.8037037253379822,\n",
       "  0.8083333373069763,\n",
       "  0.8111110925674438,\n",
       "  0.8111110925674438,\n",
       "  0.8120370507240295,\n",
       "  0.8203703761100769,\n",
       "  0.8175926208496094,\n",
       "  0.8231481313705444,\n",
       "  0.8240740895271301,\n",
       "  0.8240740895271301,\n",
       "  0.8268518447875977,\n",
       "  0.8268518447875977,\n",
       "  0.8277778029441833,\n",
       "  0.8296296000480652,\n",
       "  0.8314814567565918,\n",
       "  0.8324074149131775,\n",
       "  0.8314814567565918,\n",
       "  0.8342592716217041,\n",
       "  0.8379629850387573,\n",
       "  0.8398148417472839,\n",
       "  0.8425925970077515,\n",
       "  0.8444444537162781,\n",
       "  0.8462963104248047,\n",
       "  0.8490740656852722,\n",
       "  0.8490740656852722,\n",
       "  0.8509259223937988,\n",
       "  0.8537036776542664,\n",
       "  0.8527777791023254,\n",
       "  0.854629635810852,\n",
       "  0.855555534362793,\n",
       "  0.855555534362793,\n",
       "  0.8574073910713196,\n",
       "  0.8574073910713196,\n",
       "  0.8574073910713196,\n",
       "  0.8611111044883728,\n",
       "  0.8620370626449585],\n",
       " 'val_loss': [1.7940400838851929,\n",
       "  1.788827896118164,\n",
       "  1.7863332033157349,\n",
       "  1.781004786491394,\n",
       "  1.7755215167999268,\n",
       "  1.770171880722046,\n",
       "  1.7645856142044067,\n",
       "  1.7582396268844604,\n",
       "  1.7498507499694824,\n",
       "  1.7391414642333984,\n",
       "  1.7264574766159058,\n",
       "  1.710041880607605,\n",
       "  1.6880171298980713,\n",
       "  1.6653828620910645,\n",
       "  1.639798641204834,\n",
       "  1.612539291381836,\n",
       "  1.5824272632598877,\n",
       "  1.554749608039856,\n",
       "  1.5209640264511108,\n",
       "  1.4927488565444946,\n",
       "  1.4614181518554688,\n",
       "  1.435009479522705,\n",
       "  1.4035441875457764,\n",
       "  1.3770484924316406,\n",
       "  1.3473494052886963,\n",
       "  1.3207042217254639,\n",
       "  1.288414716720581,\n",
       "  1.2614376544952393,\n",
       "  1.2334284782409668,\n",
       "  1.206363558769226,\n",
       "  1.1810755729675293,\n",
       "  1.1566380262374878,\n",
       "  1.1331448554992676,\n",
       "  1.110291600227356,\n",
       "  1.0882734060287476,\n",
       "  1.0677456855773926,\n",
       "  1.0483955144882202,\n",
       "  1.0268417596817017,\n",
       "  1.0069050788879395,\n",
       "  0.9874605536460876,\n",
       "  0.969224750995636,\n",
       "  0.9517158269882202,\n",
       "  0.9354568719863892,\n",
       "  0.9197995662689209,\n",
       "  0.9044851660728455,\n",
       "  0.8895122408866882,\n",
       "  0.8754273653030396,\n",
       "  0.8621880412101746,\n",
       "  0.8491916656494141,\n",
       "  0.8366905450820923,\n",
       "  0.8248360753059387,\n",
       "  0.8134347796440125,\n",
       "  0.8018229007720947,\n",
       "  0.7914799451828003,\n",
       "  0.780982255935669,\n",
       "  0.7709810733795166,\n",
       "  0.7624934911727905,\n",
       "  0.7534089684486389,\n",
       "  0.7450465559959412,\n",
       "  0.7365633249282837,\n",
       "  0.7287669777870178,\n",
       "  0.7216665148735046,\n",
       "  0.7139998078346252,\n",
       "  0.7066300511360168,\n",
       "  0.7001697421073914,\n",
       "  0.6931532025337219,\n",
       "  0.6860207915306091,\n",
       "  0.6803408265113831,\n",
       "  0.674505889415741,\n",
       "  0.6688069105148315,\n",
       "  0.6638950109481812,\n",
       "  0.6581975221633911,\n",
       "  0.6529766917228699,\n",
       "  0.6483926773071289,\n",
       "  0.6436197757720947,\n",
       "  0.6388310790061951,\n",
       "  0.6347227692604065,\n",
       "  0.6303561925888062,\n",
       "  0.6257044672966003,\n",
       "  0.621681809425354,\n",
       "  0.617847204208374,\n",
       "  0.6136372089385986,\n",
       "  0.6096422076225281,\n",
       "  0.6061785221099854,\n",
       "  0.6028268337249756,\n",
       "  0.5990856289863586,\n",
       "  0.5955347418785095,\n",
       "  0.5924904346466064,\n",
       "  0.5887545347213745,\n",
       "  0.5857425332069397,\n",
       "  0.5824496150016785,\n",
       "  0.579913318157196,\n",
       "  0.5765261054039001,\n",
       "  0.5732191801071167,\n",
       "  0.5709574222564697,\n",
       "  0.5681260228157043,\n",
       "  0.5654403567314148,\n",
       "  0.5630687475204468,\n",
       "  0.5607497096061707,\n",
       "  0.5582380890846252],\n",
       " 'val_accuracy': [0.125,\n",
       "  0.15833333134651184,\n",
       "  0.32499998807907104,\n",
       "  0.3333333432674408,\n",
       "  0.3499999940395355,\n",
       "  0.34166666865348816,\n",
       "  0.3499999940395355,\n",
       "  0.36666667461395264,\n",
       "  0.3333333432674408,\n",
       "  0.3583333194255829,\n",
       "  0.3333333432674408,\n",
       "  0.3583333194255829,\n",
       "  0.3499999940395355,\n",
       "  0.3499999940395355,\n",
       "  0.3583333194255829,\n",
       "  0.36666667461395264,\n",
       "  0.38333332538604736,\n",
       "  0.42500001192092896,\n",
       "  0.4166666567325592,\n",
       "  0.4583333432674408,\n",
       "  0.4416666626930237,\n",
       "  0.5,\n",
       "  0.4833333194255829,\n",
       "  0.5083333253860474,\n",
       "  0.5083333253860474,\n",
       "  0.5333333611488342,\n",
       "  0.5166666507720947,\n",
       "  0.5166666507720947,\n",
       "  0.5416666865348816,\n",
       "  0.5583333373069763,\n",
       "  0.574999988079071,\n",
       "  0.574999988079071,\n",
       "  0.5916666388511658,\n",
       "  0.6000000238418579,\n",
       "  0.6000000238418579,\n",
       "  0.6083333492279053,\n",
       "  0.6166666746139526,\n",
       "  0.6416666507720947,\n",
       "  0.6416666507720947,\n",
       "  0.6416666507720947,\n",
       "  0.6499999761581421,\n",
       "  0.6666666865348816,\n",
       "  0.6583333611488342,\n",
       "  0.6666666865348816,\n",
       "  0.6666666865348816,\n",
       "  0.6666666865348816,\n",
       "  0.675000011920929,\n",
       "  0.675000011920929,\n",
       "  0.6833333373069763,\n",
       "  0.6833333373069763,\n",
       "  0.7083333134651184,\n",
       "  0.7166666388511658,\n",
       "  0.7250000238418579,\n",
       "  0.7250000238418579,\n",
       "  0.7250000238418579,\n",
       "  0.7250000238418579,\n",
       "  0.7250000238418579,\n",
       "  0.7250000238418579,\n",
       "  0.7250000238418579,\n",
       "  0.7250000238418579,\n",
       "  0.7250000238418579,\n",
       "  0.7333333492279053,\n",
       "  0.7416666746139526,\n",
       "  0.75,\n",
       "  0.75,\n",
       "  0.7583333253860474,\n",
       "  0.7583333253860474,\n",
       "  0.7583333253860474,\n",
       "  0.7583333253860474,\n",
       "  0.7666666507720947,\n",
       "  0.7666666507720947,\n",
       "  0.7666666507720947,\n",
       "  0.7666666507720947,\n",
       "  0.7666666507720947,\n",
       "  0.7749999761581421,\n",
       "  0.7749999761581421,\n",
       "  0.7833333611488342,\n",
       "  0.7833333611488342,\n",
       "  0.7916666865348816,\n",
       "  0.7833333611488342,\n",
       "  0.7916666865348816,\n",
       "  0.7916666865348816,\n",
       "  0.7916666865348816,\n",
       "  0.7916666865348816,\n",
       "  0.7916666865348816,\n",
       "  0.7916666865348816,\n",
       "  0.7916666865348816,\n",
       "  0.7916666865348816,\n",
       "  0.7833333611488342,\n",
       "  0.7833333611488342,\n",
       "  0.7833333611488342,\n",
       "  0.7833333611488342,\n",
       "  0.7833333611488342,\n",
       "  0.7833333611488342,\n",
       "  0.7833333611488342,\n",
       "  0.7916666865348816,\n",
       "  0.7916666865348816,\n",
       "  0.8083333373069763,\n",
       "  0.800000011920929,\n",
       "  0.8083333373069763]}"
      ]
     },
     "execution_count": 35,
     "metadata": {},
     "output_type": "execute_result"
    }
   ],
   "source": [
    "history.history"
   ]
  },
  {
   "cell_type": "markdown",
   "metadata": {},
   "source": [
    "Now visualize the loss over time using `history.history`: "
   ]
  },
  {
   "cell_type": "code",
   "execution_count": 36,
   "metadata": {},
   "outputs": [
    {
     "data": {
      "text/plain": [
       "[Text(0, 0.5, 'Accuracy'), Text(0.5, 0, 'Epoch')]"
      ]
     },
     "execution_count": 36,
     "metadata": {},
     "output_type": "execute_result"
    },
    {
     "data": {
      "image/png": "[encoded data removed]",
      "text/plain": [
       "<Figure size 864x576 with 1 Axes>"
      ]
     },
     "metadata": {
      "needs_background": "light"
     },
     "output_type": "display_data"
    },
    {
     "data": {
      "image/png": "[encoded data removed]",
      "text/plain": [
       "<Figure size 864x576 with 1 Axes>"
      ]
     },
     "metadata": {
      "needs_background": "light"
     },
     "output_type": "display_data"
    }
   ],
   "source": [
    "# The history.history[\"loss\"] entry is a dictionary with as many values as epochs that the\n",
    "# model was trained on. \n",
    "df_loss_acc = pd.DataFrame(history.history)\n",
    "df_loss= df_loss_acc[['loss','val_loss']]\n",
    "df_loss.rename(columns={'loss':'train','val_loss':'validation'},inplace=True)\n",
    "df_acc= df_loss_acc[['accuracy','val_accuracy']]\n",
    "df_acc.rename(columns={'accuracy':'train','val_accuracy':'validation'},inplace=True)\n",
    "df_loss.plot(title='Model loss',figsize=(12,8)).set(xlabel='Epoch',ylabel='Loss')\n",
    "df_acc.plot(title='Model Accuracy',figsize=(12,8)).set(xlabel='Epoch',ylabel='Accuracy')"
   ]
  },
  {
   "cell_type": "markdown",
   "metadata": {},
   "source": [
    "**Congratulations**! You've finished the assignment and built two models: One that recognizes  smiles, and another that recognizes SIGN language with almost 80% accuracy on the test set. In addition to that, you now also understand the applications of two Keras APIs: Sequential and Functional. Nicely done! \n",
    "\n",
    "By now, you know a bit about how the Functional API works and may have glimpsed the possibilities. In your next assignment, you'll really get a feel for its power when you get the opportunity to build a very deep ConvNet, using ResNets! "
   ]
  },
  {
   "cell_type": "markdown",
   "metadata": {},
   "source": [
    "<a name='6'></a>\n",
    "## 6 - Bibliography\n",
    "\n",
    "You're always encouraged to read the official documentation. To that end, you can find the docs for the Sequential and Functional APIs here: \n",
    "\n",
    "https://www.tensorflow.org/guide/keras/sequential_model\n",
    "\n",
    "https://www.tensorflow.org/guide/keras/functional"
   ]
  }
 ],
 "metadata": {
  "coursera": {
   "course_slug": "convolutional-neural-networks",
   "graded_item_id": "bwbJV",
   "launcher_item_id": "0TkXB"
  },
  "kernelspec": {
   "display_name": "Python 3",
   "language": "python",
   "name": "python3"
  },
  "language_info": {
   "codemirror_mode": {
    "name": "ipython",
    "version": 3
   },
   "file_extension": ".py",
   "mimetype": "text/x-python",
   "name": "python",
   "nbconvert_exporter": "python",
   "pygments_lexer": "ipython3",
   "version": "3.7.6"
  }
 },
 "nbformat": 4,
 "nbformat_minor": 2
}
